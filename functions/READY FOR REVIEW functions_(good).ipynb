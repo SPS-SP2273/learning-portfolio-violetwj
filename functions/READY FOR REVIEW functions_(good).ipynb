{
 "cells": [
  {
   "attachments": {},
   "cell_type": "markdown",
   "id": "123456",
   "metadata": {},
   "source": [
    "<div style=\"text-align:left;font-size:2em\"><span style=\"font-weight:bolder;font-size:1.25em\">SP2273 | Learning Portfolio</span><br><br><span style=\"font-weight:bold;color:darkred\">Functions (Good)</span></div>"
   ]
  },
  {
   "attachments": {},
   "cell_type": "markdown",
   "id": "66e2b097",
   "metadata": {},
   "source": [
    "# What to expect in this chapter"
   ]
  },
  {
   "cell_type": "markdown",
   "id": "516c861f-6cf8-4a47-b461-6480a887a796",
   "metadata": {},
   "source": [
    "Functions: types of arguments and docstrings.\\\n",
    "Argument types:\n",
    "- Positional.\n",
    "- Keyword.\n",
    "- Default.\n",
    "\n",
    "Exception handling for dealing with errors.\\\n",
    "Write code to check and handle potential problems."
   ]
  },
  {
   "attachments": {},
   "cell_type": "markdown",
   "id": "d03782e2",
   "metadata": {},
   "source": [
    "# 1 Checks, balances, and contingencies"
   ]
  },
  {
   "cell_type": "markdown",
   "id": "1ca8078f-04a4-4f71-9aae-7ea1ea08b69c",
   "metadata": {},
   "source": [
    "Used to pre-empt/ prevent problems.\\\n",
    "2 ways to incorporate checks: `assert` and `try-except`."
   ]
  },
  {
   "attachments": {},
   "cell_type": "markdown",
   "id": "f803ae08",
   "metadata": {},
   "source": [
    "## 1.1 assert"
   ]
  },
  {
   "cell_type": "markdown",
   "id": "57349553-fcb0-43ec-b79d-523f3a1d1bde",
   "metadata": {},
   "source": [
    "Checks condition, halts execution if necessary.\\\n",
    "Has option to print message.\n",
    "\n",
    "Format (excluding `[]`): `assert [condition to check], [message]`."
   ]
  },
  {
   "cell_type": "code",
   "execution_count": 2,
   "id": "83a3827c-b70f-41a5-841f-11f82f0882f7",
   "metadata": {},
   "outputs": [],
   "source": [
    "x=10\n",
    "assert x>=0, \"x is becoming negative!\""
   ]
  },
  {
   "cell_type": "code",
   "execution_count": 3,
   "id": "3708cd5b-46ac-45cb-a5f8-64afc6692a2b",
   "metadata": {},
   "outputs": [
    {
     "ename": "AssertionError",
     "evalue": "x is becoming negative!",
     "output_type": "error",
     "traceback": [
      "\u001b[1;31m---------------------------------------------------------------------------\u001b[0m",
      "\u001b[1;31mAssertionError\u001b[0m                            Traceback (most recent call last)",
      "Cell \u001b[1;32mIn[3], line 2\u001b[0m\n\u001b[0;32m      1\u001b[0m x\u001b[38;5;241m=\u001b[39m\u001b[38;5;241m-\u001b[39m\u001b[38;5;241m1\u001b[39m\n\u001b[1;32m----> 2\u001b[0m \u001b[38;5;28;01massert\u001b[39;00m x\u001b[38;5;241m>\u001b[39m\u001b[38;5;241m=\u001b[39m\u001b[38;5;241m0\u001b[39m, \u001b[38;5;124m\"\u001b[39m\u001b[38;5;124mx is becoming negative!\u001b[39m\u001b[38;5;124m\"\u001b[39m\n",
      "\u001b[1;31mAssertionError\u001b[0m: x is becoming negative!"
     ]
    }
   ],
   "source": [
    "x=-1\n",
    "assert x>=0, \"x is becoming negative!\""
   ]
  },
  {
   "cell_type": "markdown",
   "id": "7e32e3c1-3413-4043-8a4b-c9acb9e92f52",
   "metadata": {},
   "source": [
    "Program runs as long as condition is `True`.\\\n",
    "If fails, `AssertationError` occurs and program stops running."
   ]
  },
  {
   "attachments": {},
   "cell_type": "markdown",
   "id": "6dccb609",
   "metadata": {},
   "source": [
    "## 1.2 try-except"
   ]
  },
  {
   "cell_type": "markdown",
   "id": "210965af-dd63-4d71-aebd-41089a4c8559",
   "metadata": {},
   "source": [
    "Exceptions: technical name for things going wrong.\\\n",
    "E.g.: Division by 0 => `ZeroDivisionError`.\\\n",
    "Resolve with `try-except`:\n",
    "- Enclosed and protected part of code in `try` block, should there be any errors.\n",
    "- Ignore error and run code in `except` block."
   ]
  },
  {
   "cell_type": "markdown",
   "id": "f29d093c-a572-4f27-96d0-e8f0e193d4c4",
   "metadata": {},
   "source": [
    "Input is a number (e.g. 11):"
   ]
  },
  {
   "cell_type": "code",
   "execution_count": 4,
   "id": "532b7243-0765-4e29-8700-a5f536d20e9e",
   "metadata": {},
   "outputs": [
    {
     "name": "stdin",
     "output_type": "stream",
     "text": [
      "Give me a number and I will calculate its square. 11\n"
     ]
    },
    {
     "name": "stdout",
     "output_type": "stream",
     "text": [
      "The square of 11 is 121!\n"
     ]
    }
   ],
   "source": [
    "number=input(\"Give me a number and I will calculate its square.\")\n",
    "square=int(number)**2\n",
    "print(f'The square of {number} is {square}!')"
   ]
  },
  {
   "cell_type": "markdown",
   "id": "fd279d64-835d-4dce-8c09-1e975a305615",
   "metadata": {},
   "source": [
    "Input is not a number (e.g. hahaha):"
   ]
  },
  {
   "cell_type": "code",
   "execution_count": 5,
   "id": "57568243-6808-4f10-858c-f23537aa8320",
   "metadata": {},
   "outputs": [
    {
     "name": "stdin",
     "output_type": "stream",
     "text": [
      "Give me a number and I will calculate its square. hahaha\n"
     ]
    },
    {
     "ename": "ValueError",
     "evalue": "invalid literal for int() with base 10: 'hahaha'",
     "output_type": "error",
     "traceback": [
      "\u001b[1;31m---------------------------------------------------------------------------\u001b[0m",
      "\u001b[1;31mValueError\u001b[0m                                Traceback (most recent call last)",
      "Cell \u001b[1;32mIn[5], line 2\u001b[0m\n\u001b[0;32m      1\u001b[0m number\u001b[38;5;241m=\u001b[39m\u001b[38;5;28minput\u001b[39m(\u001b[38;5;124m\"\u001b[39m\u001b[38;5;124mGive me a number and I will calculate its square.\u001b[39m\u001b[38;5;124m\"\u001b[39m)\n\u001b[1;32m----> 2\u001b[0m square\u001b[38;5;241m=\u001b[39m\u001b[38;5;28;43mint\u001b[39;49m\u001b[43m(\u001b[49m\u001b[43mnumber\u001b[49m\u001b[43m)\u001b[49m\u001b[38;5;241m*\u001b[39m\u001b[38;5;241m*\u001b[39m\u001b[38;5;241m2\u001b[39m\n\u001b[0;32m      3\u001b[0m \u001b[38;5;28mprint\u001b[39m(\u001b[38;5;124mf\u001b[39m\u001b[38;5;124m'\u001b[39m\u001b[38;5;124mThe square of \u001b[39m\u001b[38;5;132;01m{\u001b[39;00mnumber\u001b[38;5;132;01m}\u001b[39;00m\u001b[38;5;124m is \u001b[39m\u001b[38;5;132;01m{\u001b[39;00msquare\u001b[38;5;132;01m}\u001b[39;00m\u001b[38;5;124m!\u001b[39m\u001b[38;5;124m'\u001b[39m)\n",
      "\u001b[1;31mValueError\u001b[0m: invalid literal for int() with base 10: 'hahaha'"
     ]
    }
   ],
   "source": [
    "number=input(\"Give me a number and I will calculate its square.\")\n",
    "square=int(number)**2\n",
    "print(f'The square of {number} is {square}!')"
   ]
  },
  {
   "cell_type": "markdown",
   "id": "c90f7404-4543-48f9-a897-a2ed6494733e",
   "metadata": {},
   "source": [
    "Resolve problem with `try-except`:"
   ]
  },
  {
   "cell_type": "code",
   "execution_count": 7,
   "id": "00b32220-4129-4bd3-a75c-b0a7aabe4b6d",
   "metadata": {},
   "outputs": [
    {
     "name": "stdin",
     "output_type": "stream",
     "text": [
      "Give me a number and I will calculate its square. hahaha\n"
     ]
    },
    {
     "name": "stdout",
     "output_type": "stream",
     "text": [
      "Oh oh! I cannot square hahaha!\n"
     ]
    }
   ],
   "source": [
    "try:\n",
    "    number=input(\"Give me a number and I will calculate its square.\")\n",
    "    square=int(number)**2\n",
    "    print(f'The square of {number} is {square}!')\n",
    "except:\n",
    "    print(f\"Oh oh! I cannot square {number}!\")"
   ]
  },
  {
   "attachments": {},
   "cell_type": "markdown",
   "id": "ad3ca213",
   "metadata": {},
   "source": [
    "## 1.3 A simple suggestion"
   ]
  },
  {
   "cell_type": "markdown",
   "id": "c846f245-fde8-4b5e-9088-208f93663936",
   "metadata": {},
   "source": [
    "Good to use code to indicate milestones.\\\n",
    "'Soft' approach: include `print()` statements.\\\n",
    "Allows some insight into what is happening in the program."
   ]
  },
  {
   "attachments": {},
   "cell_type": "markdown",
   "id": "e5327dad",
   "metadata": {},
   "source": [
    "# 2 Some loose ends"
   ]
  },
  {
   "attachments": {},
   "cell_type": "markdown",
   "id": "d5b408f5",
   "metadata": {},
   "source": [
    "## 2.1 Positional, keyword and default arguments"
   ]
  },
  {
   "cell_type": "markdown",
   "id": "091b7346-007a-4348-8b00-15f55e4444c5",
   "metadata": {},
   "source": [
    "3 'ways' to pass value to an argument:\n",
    "- Positional.\n",
    "- Keywords.\n",
    "- Default."
   ]
  },
  {
   "cell_type": "code",
   "execution_count": 12,
   "id": "03fd3e95-31ab-4d90-943f-95873987f681",
   "metadata": {},
   "outputs": [],
   "source": [
    "def side_by_side(a,b,c=42):\n",
    "    return f'{a:2d}|{b:2d}|{c:2d}'"
   ]
  },
  {
   "cell_type": "markdown",
   "id": "a0db5a86-d3e9-452e-a635-020d9a49a748",
   "metadata": {},
   "source": [
    "Positional:"
   ]
  },
  {
   "cell_type": "code",
   "execution_count": 13,
   "id": "c78ce691-dc25-4766-af67-066d25c83034",
   "metadata": {},
   "outputs": [
    {
     "data": {
      "text/plain": [
       "' 1| 2| 3'"
      ]
     },
     "execution_count": 13,
     "metadata": {},
     "output_type": "execute_result"
    }
   ],
   "source": [
    "side_by_side(1,2,3)"
   ]
  },
  {
   "cell_type": "markdown",
   "id": "2a094d78-1596-4e3d-a9b3-6aab18cb9b9f",
   "metadata": {},
   "source": [
    "Assign `1,2,3` to `a,b,c` using positional order of arguments."
   ]
  },
  {
   "cell_type": "markdown",
   "id": "8674fc3d-d3ee-4d63-9444-87f57060eba2",
   "metadata": {},
   "source": [
    "Keywords:"
   ]
  },
  {
   "cell_type": "code",
   "execution_count": 14,
   "id": "ea3af88b-aa85-4054-9f2a-1cd656aba10f",
   "metadata": {},
   "outputs": [
    {
     "data": {
      "text/plain": [
       "' 2| 1| 3'"
      ]
     },
     "execution_count": 14,
     "metadata": {},
     "output_type": "execute_result"
    }
   ],
   "source": [
    "side_by_side(c=3,b=1,a=2)"
   ]
  },
  {
   "cell_type": "markdown",
   "id": "23188211-62b4-4fc3-bca4-bc98906097bc",
   "metadata": {},
   "source": [
    "Explicitly specify keyword to assign values to each of `a,b,c`.\\\n",
    "Order does not matter."
   ]
  },
  {
   "cell_type": "markdown",
   "id": "57c3ed58-fbcf-427d-80a7-58f278aa59df",
   "metadata": {},
   "source": [
    "Default:"
   ]
  },
  {
   "cell_type": "code",
   "execution_count": 15,
   "id": "94513e34-d331-4d7d-a6ec-0c0f83d2060d",
   "metadata": {},
   "outputs": [
    {
     "data": {
      "text/plain": [
       "' 1| 2|42'"
      ]
     },
     "execution_count": 15,
     "metadata": {},
     "output_type": "execute_result"
    }
   ],
   "source": [
    "side_by_side(1,b=2)"
   ]
  },
  {
   "cell_type": "markdown",
   "id": "0cb2c015-eb9a-4989-b9ae-d12b942a5cb2",
   "metadata": {},
   "source": [
    "`c` is optional, choice to not specify it, provided `c` is to be `42` by definition."
   ]
  },
  {
   "cell_type": "markdown",
   "id": "cf843f1a-2745-4226-ad34-e8851bd8cfeb",
   "metadata": {},
   "source": [
    "Combination of styles of passing arguments."
   ]
  },
  {
   "cell_type": "markdown",
   "id": "568584cb-6238-43ab-89ee-d1be22a450b6",
   "metadata": {},
   "source": [
    "2 positional, 1 default:"
   ]
  },
  {
   "cell_type": "code",
   "execution_count": 16,
   "id": "56fe2454-2d71-4e3d-8856-03ff945965b3",
   "metadata": {},
   "outputs": [
    {
     "data": {
      "text/plain": [
       "' 1| 2|42'"
      ]
     },
     "execution_count": 16,
     "metadata": {},
     "output_type": "execute_result"
    }
   ],
   "source": [
    "side_by_side(1,2)"
   ]
  },
  {
   "cell_type": "markdown",
   "id": "c98ed8f4-9342-4c69-ad50-03a89cf67514",
   "metadata": {},
   "source": [
    "3 positional:"
   ]
  },
  {
   "cell_type": "code",
   "execution_count": 17,
   "id": "b2274243-271f-42b6-9e70-785dee1c6fb2",
   "metadata": {},
   "outputs": [
    {
     "data": {
      "text/plain": [
       "' 1| 2| 3'"
      ]
     },
     "execution_count": 17,
     "metadata": {},
     "output_type": "execute_result"
    }
   ],
   "source": [
    "side_by_side(1,2,3)"
   ]
  },
  {
   "cell_type": "markdown",
   "id": "b649e65a-aed7-4d87-83c2-e7be71412893",
   "metadata": {},
   "source": [
    "2 keywords, 1 default:"
   ]
  },
  {
   "cell_type": "code",
   "execution_count": 18,
   "id": "584b3587-ac54-45de-8f74-d6b250ab2637",
   "metadata": {},
   "outputs": [
    {
     "data": {
      "text/plain": [
       "' 1| 2|42'"
      ]
     },
     "execution_count": 18,
     "metadata": {},
     "output_type": "execute_result"
    }
   ],
   "source": [
    "side_by_side(a=1,b=2)"
   ]
  },
  {
   "cell_type": "markdown",
   "id": "21220bdc-f0c7-4c7e-86b5-43ea7db269ac",
   "metadata": {},
   "source": [
    "3 keywords:"
   ]
  },
  {
   "cell_type": "code",
   "execution_count": 19,
   "id": "f926ee78-440b-4d83-8a52-c920c9669c1f",
   "metadata": {},
   "outputs": [
    {
     "data": {
      "text/plain": [
       "' 2| 1| 3'"
      ]
     },
     "execution_count": 19,
     "metadata": {},
     "output_type": "execute_result"
    }
   ],
   "source": [
    "side_by_side(c=3,b=1,a=2)"
   ]
  },
  {
   "cell_type": "markdown",
   "id": "00c9d809-98f3-448c-b8f6-7317f070c60f",
   "metadata": {},
   "source": [
    "1 positional, 2 keywords:"
   ]
  },
  {
   "cell_type": "code",
   "execution_count": 20,
   "id": "b2b331c4-399c-4486-8f85-8e3d75ec2c8e",
   "metadata": {},
   "outputs": [
    {
     "data": {
      "text/plain": [
       "' 1| 2| 3'"
      ]
     },
     "execution_count": 20,
     "metadata": {},
     "output_type": "execute_result"
    }
   ],
   "source": [
    "side_by_side(1,c=3,b=2)"
   ]
  },
  {
   "cell_type": "markdown",
   "id": "54726cb8-3844-42e3-89a2-aefc05f5b9e4",
   "metadata": {},
   "source": [
    "1 positional, 1 keyword, 1 default:"
   ]
  },
  {
   "cell_type": "code",
   "execution_count": 21,
   "id": "7a441fd6-acd6-41b2-8300-df368cb2775f",
   "metadata": {},
   "outputs": [
    {
     "data": {
      "text/plain": [
       "' 1| 2|42'"
      ]
     },
     "execution_count": 21,
     "metadata": {},
     "output_type": "execute_result"
    }
   ],
   "source": [
    "side_by_side(1,b=2)"
   ]
  },
  {
   "cell_type": "markdown",
   "id": "de1c0a8e-9c35-4689-b5ac-b90fe6f7004b",
   "metadata": {},
   "source": [
    "Keywords followed by positional arguments:"
   ]
  },
  {
   "cell_type": "code",
   "execution_count": 22,
   "id": "c7c3e568-7497-4d90-aa5d-704821aeb6c7",
   "metadata": {},
   "outputs": [
    {
     "ename": "SyntaxError",
     "evalue": "positional argument follows keyword argument (3714261248.py, line 1)",
     "output_type": "error",
     "traceback": [
      "\u001b[1;36m  Cell \u001b[1;32mIn[22], line 1\u001b[1;36m\u001b[0m\n\u001b[1;33m    side_by_side(a=2,1)\u001b[0m\n\u001b[1;37m                      ^\u001b[0m\n\u001b[1;31mSyntaxError\u001b[0m\u001b[1;31m:\u001b[0m positional argument follows keyword argument\n"
     ]
    }
   ],
   "source": [
    "side_by_side(a=2,1)"
   ]
  },
  {
   "cell_type": "markdown",
   "id": "e25d2403-6972-4f7e-a485-2b5a63e771b1",
   "metadata": {},
   "source": [
    "Exception to passing arguments.\\\n",
    "Python unable to determine positional argument."
   ]
  },
  {
   "attachments": {},
   "cell_type": "markdown",
   "id": "d5bac131",
   "metadata": {},
   "source": [
    "## 2.2 Docstrings"
   ]
  },
  {
   "cell_type": "markdown",
   "id": "86e72ccb-e393-4f0d-9f62-ae3410f3bc3e",
   "metadata": {},
   "source": [
    "Documents what a function does inside the function.\\\n",
    "Displayed when asking Python to show help info using `help()`.\\\n",
    "Sandwiched between a pair of `'''` or `\"\"\"`, can be multiple lines."
   ]
  },
  {
   "cell_type": "code",
   "execution_count": 23,
   "id": "5a31bfa7-44f8-4c0c-9198-8e2f21f1ee8b",
   "metadata": {},
   "outputs": [],
   "source": [
    "def side_by_side(a,b,c=42):\n",
    "    '''\n",
    "    A test function to demonstrate\n",
    "    positional, keyword and default arguments\n",
    "    work.\n",
    "    '''\n",
    "    return f'{a:2d}|{b:2d}|{c:2d}'"
   ]
  },
  {
   "cell_type": "code",
   "execution_count": 24,
   "id": "c38d0065-9d04-4257-836c-efeecf4e6613",
   "metadata": {},
   "outputs": [
    {
     "name": "stdout",
     "output_type": "stream",
     "text": [
      "Help on function side_by_side in module __main__:\n",
      "\n",
      "side_by_side(a, b, c=42)\n",
      "    A test function to demonstrate\n",
      "    positional, keyword and default arguments\n",
      "    work.\n",
      "\n"
     ]
    }
   ],
   "source": [
    "help(side_by_side)"
   ]
  },
  {
   "attachments": {},
   "cell_type": "markdown",
   "id": "63019050",
   "metadata": {},
   "source": [
    "## 2.3 Function are first-class citizens"
   ]
  },
  {
   "cell_type": "markdown",
   "id": "d1605729-f086-4b0e-91a6-ac99fc9b7397",
   "metadata": {},
   "source": [
    "Python functions having same privileges as variables.\\\n",
    "Able to pass function as argument to another function.\\\n",
    "`()` not included when passing function as argument."
   ]
  },
  {
   "cell_type": "code",
   "execution_count": 27,
   "id": "a78eb570-c7e1-4524-b580-55eb4d867c65",
   "metadata": {},
   "outputs": [],
   "source": [
    "import numpy as np\n",
    "\n",
    "def my_function(angle,trig_function):\n",
    "    return trig_function(angle)"
   ]
  },
  {
   "cell_type": "code",
   "execution_count": 28,
   "id": "8c8360db-466c-4689-92cf-1bc98287998a",
   "metadata": {},
   "outputs": [
    {
     "data": {
      "text/plain": [
       "1.0"
      ]
     },
     "execution_count": 28,
     "metadata": {},
     "output_type": "execute_result"
    }
   ],
   "source": [
    "my_function(np.pi/2,np.sin)"
   ]
  },
  {
   "cell_type": "code",
   "execution_count": 29,
   "id": "76369255-b47d-4a09-b573-242b87c2ec18",
   "metadata": {},
   "outputs": [
    {
     "data": {
      "text/plain": [
       "6.123233995736766e-17"
      ]
     },
     "execution_count": 29,
     "metadata": {},
     "output_type": "execute_result"
    }
   ],
   "source": [
    "my_function(np.pi/2,np.cos)"
   ]
  },
  {
   "cell_type": "code",
   "execution_count": 30,
   "id": "c092fdd1-b6e9-47e2-87ed-44b0bd600fd3",
   "metadata": {},
   "outputs": [
    {
     "data": {
      "text/plain": [
       "-1.0"
      ]
     },
     "execution_count": 30,
     "metadata": {},
     "output_type": "execute_result"
    }
   ],
   "source": [
    "my_function(np.pi/2,lambda x:np.cos(2*x))"
   ]
  },
  {
   "attachments": {},
   "cell_type": "markdown",
   "id": "ed3d2660",
   "metadata": {},
   "source": [
    "## 2.4 More about unpacking"
   ]
  },
  {
   "cell_type": "markdown",
   "id": "f2452a99-d813-44f5-b6e7-abe0decf297e",
   "metadata": {},
   "source": [
    "Easier to extract info from lists and arrays."
   ]
  },
  {
   "cell_type": "markdown",
   "id": "af7fc5d1-103f-444c-985a-925f9d3a7093",
   "metadata": {},
   "source": [
    "E.g. 1: Assigned by positional order of arguments in lists."
   ]
  },
  {
   "cell_type": "code",
   "execution_count": 31,
   "id": "7d8d88cc-ff03-4431-907e-c8d3d9c83ca2",
   "metadata": {},
   "outputs": [
    {
     "data": {
      "text/plain": [
       "(1, 2, 3)"
      ]
     },
     "execution_count": 31,
     "metadata": {},
     "output_type": "execute_result"
    }
   ],
   "source": [
    "x,y,z=[1,2,3]\n",
    "x,y,z"
   ]
  },
  {
   "cell_type": "markdown",
   "id": "2503df21-e50b-4d0d-a34c-d4f730c9cbfb",
   "metadata": {},
   "source": [
    "E.g. 2: Assigned by positional order of arguments in arrays."
   ]
  },
  {
   "cell_type": "code",
   "execution_count": 32,
   "id": "da582327-e3c9-4b6b-b905-f5555f2579db",
   "metadata": {},
   "outputs": [
    {
     "data": {
      "text/plain": [
       "(1, 2, 3)"
      ]
     },
     "execution_count": 32,
     "metadata": {},
     "output_type": "execute_result"
    }
   ],
   "source": [
    "x,y,z=np.array([1,2,3])\n",
    "x,y,z"
   ]
  },
  {
   "cell_type": "markdown",
   "id": "f4e72d00-9e55-4d7f-b22c-8772fb20f601",
   "metadata": {},
   "source": [
    "E.g. 3: Unpacking with `*`."
   ]
  },
  {
   "cell_type": "code",
   "execution_count": 33,
   "id": "f38d6a03-8bf3-4d73-a5a8-9ba371a452ce",
   "metadata": {},
   "outputs": [
    {
     "data": {
      "text/plain": [
       "(1, [2, 3, 4], 5)"
      ]
     },
     "execution_count": 33,
     "metadata": {},
     "output_type": "execute_result"
    }
   ],
   "source": [
    "x,*y,z=np.array([1,2,3,4,5])\n",
    "x,y,z"
   ]
  },
  {
   "cell_type": "markdown",
   "id": "623d0015-fa8f-4dc2-b85d-96463c7a8cb0",
   "metadata": {},
   "source": [
    "Unpacks all variables between `x` and `z` into a list."
   ]
  },
  {
   "cell_type": "markdown",
   "id": "75f16eef-52cb-402c-8e2c-35c3bdc8a285",
   "metadata": {},
   "source": [
    "E.g. 4: Extended unpacking with `*_`."
   ]
  },
  {
   "cell_type": "code",
   "execution_count": 37,
   "id": "954b1d8d-dd8c-497f-ad69-ccdfc14299e4",
   "metadata": {},
   "outputs": [
    {
     "data": {
      "text/plain": [
       "(1, 5)"
      ]
     },
     "execution_count": 37,
     "metadata": {},
     "output_type": "execute_result"
    }
   ],
   "source": [
    "x,*_,y=[1,2,3,4,5]\n",
    "x,y"
   ]
  },
  {
   "cell_type": "markdown",
   "id": "efdb9678-54e3-4c7e-9da2-bae8312e35db",
   "metadata": {},
   "source": [
    "Ignores all variables between specified variables (i.e. `x` and `y`).\n",
    "Combination of `*` and `_`."
   ]
  },
  {
   "cell_type": "markdown",
   "id": "fbc6d9f4-d26f-4282-86a8-11aca6262144",
   "metadata": {},
   "source": [
    "Bonus e.g.: Unpacking with `_`."
   ]
  },
  {
   "cell_type": "code",
   "execution_count": 38,
   "id": "d4c628fb-ca06-4c83-8483-213e503d195b",
   "metadata": {},
   "outputs": [
    {
     "ename": "ValueError",
     "evalue": "too many values to unpack (expected 3)",
     "output_type": "error",
     "traceback": [
      "\u001b[1;31m---------------------------------------------------------------------------\u001b[0m",
      "\u001b[1;31mValueError\u001b[0m                                Traceback (most recent call last)",
      "Cell \u001b[1;32mIn[38], line 1\u001b[0m\n\u001b[1;32m----> 1\u001b[0m x,_,y\u001b[38;5;241m=\u001b[39m[\u001b[38;5;241m1\u001b[39m,\u001b[38;5;241m2\u001b[39m,\u001b[38;5;241m3\u001b[39m,\u001b[38;5;241m4\u001b[39m,\u001b[38;5;241m5\u001b[39m]\n\u001b[0;32m      2\u001b[0m x,y\n",
      "\u001b[1;31mValueError\u001b[0m: too many values to unpack (expected 3)"
     ]
    }
   ],
   "source": [
    "x,_,y=[1,2,3,4,5]\n",
    "x,y"
   ]
  },
  {
   "cell_type": "markdown",
   "id": "01659b3f-7346-40bb-90c2-0985d5886ce2",
   "metadata": {},
   "source": [
    "`_` only ignores 1 variable, hence `ValueError`."
   ]
  },
  {
   "cell_type": "code",
   "execution_count": 39,
   "id": "63ea081e-9d08-417a-b3c0-3f6f33c1557d",
   "metadata": {},
   "outputs": [
    {
     "data": {
      "text/plain": [
       "(1, 5)"
      ]
     },
     "execution_count": 39,
     "metadata": {},
     "output_type": "execute_result"
    }
   ],
   "source": [
    "x,_,_,_,y=[1,2,3,4,5]\n",
    "x,y"
   ]
  },
  {
   "cell_type": "markdown",
   "id": "b2a7fbce-cc24-4645-9e0a-67bd97696acc",
   "metadata": {},
   "source": [
    "Fixed by adding the same number of `_` as the number of variables to be ignored.\\\n",
    "Alternatively, can use `*_` to 'mass' ignore variables."
   ]
  }
 ],
 "metadata": {
  "kernelspec": {
   "display_name": "Python 3 (ipykernel)",
   "language": "python",
   "name": "python3"
  },
  "language_info": {
   "codemirror_mode": {
    "name": "ipython",
    "version": 3
   },
   "file_extension": ".py",
   "mimetype": "text/x-python",
   "name": "python",
   "nbconvert_exporter": "python",
   "pygments_lexer": "ipython3",
   "version": "3.11.5"
  },
  "toc": {
   "base_numbering": 1,
   "nav_menu": {},
   "number_sections": true,
   "sideBar": true,
   "skip_h1_title": false,
   "title_cell": "Table of Contents",
   "title_sidebar": "Contents",
   "toc_cell": false,
   "toc_position": {},
   "toc_section_display": true,
   "toc_window_display": false
  },
  "vscode": {
   "interpreter": {
    "hash": "31f2aee4e71d21fbe5cf8b01ff0e069b9275f58929596ceb00d14d90e3e16cd6"
   }
  }
 },
 "nbformat": 4,
 "nbformat_minor": 5
}
