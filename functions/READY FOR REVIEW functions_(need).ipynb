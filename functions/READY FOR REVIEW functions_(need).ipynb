{
 "cells": [
  {
   "attachments": {},
   "cell_type": "markdown",
   "id": "123456",
   "metadata": {},
   "source": [
    "<div style=\"text-align:left;font-size:2em\"><span style=\"font-weight:bolder;font-size:1.25em\">SP2273 | Learning Portfolio</span><br><br><span style=\"font-weight:bold;color:darkred\">Functions (Need)</span></div>"
   ]
  },
  {
   "attachments": {},
   "cell_type": "markdown",
   "id": "243a73f5",
   "metadata": {},
   "source": [
    "# What to expect in this chapter"
   ]
  },
  {
   "cell_type": "markdown",
   "id": "b36272e7-73bd-407a-8a33-591635fca8ae",
   "metadata": {},
   "source": [
    "Craft own functions.\\\n",
    "Consider modular solutions to problems due to modularity of functions."
   ]
  },
  {
   "attachments": {},
   "cell_type": "markdown",
   "id": "69204aac",
   "metadata": {},
   "source": [
    "# 1 User-defined functions"
   ]
  },
  {
   "cell_type": "markdown",
   "id": "d9b97d79-7394-4f14-badf-91332dc23dd7",
   "metadata": {},
   "source": [
    "`print()` is internal function of Python.\\\n",
    "2 ways to create own functions:\n",
    "- Named.\n",
    "- Anonymous."
   ]
  },
  {
   "attachments": {},
   "cell_type": "markdown",
   "id": "2ff90b4b",
   "metadata": {},
   "source": [
    "## 1.1 Named Functions"
   ]
  },
  {
   "attachments": {},
   "cell_type": "markdown",
   "id": "c0bbf635",
   "metadata": {},
   "source": [
    "### Named functions that return"
   ]
  },
  {
   "cell_type": "markdown",
   "id": "7fc93748-f01a-4b17-896f-6337f0ac15b2",
   "metadata": {},
   "source": [
    "Define functions using `def`.\n",
    "- Function name: `greeting`.\n",
    "- Argument: `name`."
   ]
  },
  {
   "cell_type": "code",
   "execution_count": 1,
   "id": "626f5e8f",
   "metadata": {},
   "outputs": [],
   "source": [
    "def greeting(name):\n",
    "    if name=='Batman':\n",
    "        return 'Hello Batman! So, nice to meet you!'\n",
    "    else:\n",
    "        return f'Hello {name}!'"
   ]
  },
  {
   "cell_type": "code",
   "execution_count": 2,
   "id": "320a2cb0-7c93-4eb0-b2b7-eba3c231d4ab",
   "metadata": {},
   "outputs": [
    {
     "data": {
      "text/plain": [
       "'Hello Super Man!'"
      ]
     },
     "execution_count": 2,
     "metadata": {},
     "output_type": "execute_result"
    }
   ],
   "source": [
    "greeting(\"Super Man\")"
   ]
  },
  {
   "cell_type": "code",
   "execution_count": 3,
   "id": "bb14bbf3-c83a-46b7-8192-4fa7df280582",
   "metadata": {},
   "outputs": [
    {
     "data": {
      "text/plain": [
       "'Hello Super Man!'"
      ]
     },
     "execution_count": 3,
     "metadata": {},
     "output_type": "execute_result"
    }
   ],
   "source": [
    "greeting(name=\"Super Man\")"
   ]
  },
  {
   "cell_type": "markdown",
   "id": "3efc8f75-1fa1-41e7-b40f-da071fc41256",
   "metadata": {},
   "source": [
    "Note the use of `def`, `:` and indentation to demarcate function's code block.\\\n",
    "`return` used to get output from function.\\\n",
    "`return` can only be used within a function."
   ]
  },
  {
   "cell_type": "markdown",
   "id": "89d92d2c-2656-48ec-b5aa-9e618a332eb5",
   "metadata": {},
   "source": [
    "Can use returned value in a few ways.\n",
    "- Assign to variable.\n",
    "- Use directly."
   ]
  },
  {
   "cell_type": "markdown",
   "id": "9ed949f7-f14a-40c7-b8f4-bbfe28178fb3",
   "metadata": {},
   "source": [
    "Assign to variable:"
   ]
  },
  {
   "cell_type": "code",
   "execution_count": 4,
   "id": "14b8489a-aedc-4321-980d-13254e45b97d",
   "metadata": {},
   "outputs": [
    {
     "name": "stdout",
     "output_type": "stream",
     "text": [
      "Hello Super Man!\n"
     ]
    }
   ],
   "source": [
    "greet=greeting(name='Super Man')\n",
    "print(greet)"
   ]
  },
  {
   "cell_type": "markdown",
   "id": "3d6e36ea-2e98-40bd-9a31-2749c6d89d51",
   "metadata": {},
   "source": [
    "Use directly:"
   ]
  },
  {
   "cell_type": "code",
   "execution_count": 5,
   "id": "43ece531-5756-4ac4-9884-e431c55cd947",
   "metadata": {},
   "outputs": [
    {
     "name": "stdout",
     "output_type": "stream",
     "text": [
      "Hello Super Man!\n"
     ]
    }
   ],
   "source": [
    "print(greeting(name='Super Man'))"
   ]
  },
  {
   "cell_type": "markdown",
   "id": "c3c53dd0-fd0c-428a-ade9-76bf6f9ee671",
   "metadata": {},
   "source": [
    "Accepting a list and returning multiple variables:"
   ]
  },
  {
   "cell_type": "code",
   "execution_count": 6,
   "id": "6ba17948-0bc3-4f0c-ad07-1d7b3fe05b2f",
   "metadata": {},
   "outputs": [
    {
     "name": "stdout",
     "output_type": "stream",
     "text": [
      "(5, 1, 3.0)\n",
      "5\n",
      "1\n",
      "3.0\n"
     ]
    }
   ],
   "source": [
    "import numpy as np\n",
    "\n",
    "def basic_stats(numbers):\n",
    "    np_numbers=np.array(numbers)\n",
    "    my_min=np_numbers.min()\n",
    "    my_max=np_numbers.max()\n",
    "    my_mean=np_numbers.mean()\n",
    "    return my_max, my_min, my_mean\n",
    "\n",
    "list_min, list_max, list_mean = basic_stats([1,2,3,4,5])\n",
    "print(basic_stats([1,2,3,4,5]))\n",
    "print(list_min)\n",
    "print(list_max)\n",
    "print(list_mean)"
   ]
  },
  {
   "attachments": {},
   "cell_type": "markdown",
   "id": "0d376909",
   "metadata": {},
   "source": [
    "### Named functions that don’t return"
   ]
  },
  {
   "cell_type": "markdown",
   "id": "a49c4296-31ef-4e77-97fd-ce9dda838fe9",
   "metadata": {},
   "source": [
    "Can do something but not return a value.\\\n",
    "Examples:\n",
    "- `print()`.\n",
    "- Save data to file."
   ]
  },
  {
   "attachments": {},
   "cell_type": "markdown",
   "id": "c601474c",
   "metadata": {},
   "source": [
    "## 1.2 Anonymous functions"
   ]
  },
  {
   "cell_type": "markdown",
   "id": "0b9d9b02-c985-4635-b391-7e7ad6052256",
   "metadata": {},
   "source": [
    "Also known as lambda functions.\\\n",
    "Suitable for short 1-liners."
   ]
  },
  {
   "cell_type": "markdown",
   "id": "d0a2caaa-06ad-4ee5-b07f-41a6e8a400d7",
   "metadata": {},
   "source": [
    "E.g. 1:"
   ]
  },
  {
   "cell_type": "code",
   "execution_count": 7,
   "id": "3b6bb471-7d37-44ce-a4c5-c917c746897b",
   "metadata": {},
   "outputs": [
    {
     "data": {
      "text/plain": [
       "'Hello Super Man!'"
      ]
     },
     "execution_count": 7,
     "metadata": {},
     "output_type": "execute_result"
    }
   ],
   "source": [
    "my_short_function=lambda name: f\"Hello {name}!\"\n",
    "my_short_function(name=\"Super Man\")"
   ]
  },
  {
   "cell_type": "markdown",
   "id": "1b01d3a6-f069-4e61-8696-838be0ee7e3a",
   "metadata": {},
   "source": [
    "Accepts a single argument called `name`.\\\n",
    "`lambda` function always returns value of last statement."
   ]
  },
  {
   "cell_type": "markdown",
   "id": "82f812fa-6756-4ccc-bd07-fba41b6d9c15",
   "metadata": {},
   "source": [
    "E.g. 2: Sort 2D list."
   ]
  },
  {
   "cell_type": "markdown",
   "id": "f817095d-df81-4210-8145-10dddb8ac83f",
   "metadata": {},
   "source": [
    "Use `sorted()` function."
   ]
  },
  {
   "cell_type": "code",
   "execution_count": 8,
   "id": "9ee62b6b-d02d-4a47-ae99-ea250d7e9748",
   "metadata": {},
   "outputs": [],
   "source": [
    "numbers=[[9, 0, -10],\n",
    "         [8, 1, -11],\n",
    "         [7, 2, -12],\n",
    "         [6, 3, -13],\n",
    "         [5, 4, -14],\n",
    "         [4, 5, -15],\n",
    "         [3, 6, -16],\n",
    "         [2, 7, -17],\n",
    "         [1, 8, -18],\n",
    "         [0, 9, -19]]"
   ]
  },
  {
   "cell_type": "markdown",
   "id": "24d1389d-fa2f-45e2-bb5f-7f709686f897",
   "metadata": {},
   "source": [
    "3 ways to use `sorted()`:"
   ]
  },
  {
   "cell_type": "markdown",
   "id": "b1a978d3-f87f-46eb-9107-4082222de6b2",
   "metadata": {},
   "source": [
    "Method 1:"
   ]
  },
  {
   "cell_type": "code",
   "execution_count": 9,
   "id": "d2261358-5076-423d-be7a-f2ab15dec35f",
   "metadata": {},
   "outputs": [
    {
     "data": {
      "text/plain": [
       "[[0, 9, -19],\n",
       " [1, 8, -18],\n",
       " [2, 7, -17],\n",
       " [3, 6, -16],\n",
       " [4, 5, -15],\n",
       " [5, 4, -14],\n",
       " [6, 3, -13],\n",
       " [7, 2, -12],\n",
       " [8, 1, -11],\n",
       " [9, 0, -10]]"
      ]
     },
     "execution_count": 9,
     "metadata": {},
     "output_type": "execute_result"
    }
   ],
   "source": [
    "sorted(numbers)"
   ]
  },
  {
   "cell_type": "markdown",
   "id": "877bb691-7ebb-48c8-8793-595a68a64b90",
   "metadata": {},
   "source": [
    "Sort by comparing default key (i.e. 1st element).\\\n",
    "Compares 1st elements of sub-lists."
   ]
  },
  {
   "cell_type": "markdown",
   "id": "7b676fa5-794a-48b8-8e74-c7ab03fc6a70",
   "metadata": {},
   "source": [
    "Method 2:"
   ]
  },
  {
   "cell_type": "code",
   "execution_count": 14,
   "id": "7d0f4530-f00e-42f0-9932-3e5644692e95",
   "metadata": {},
   "outputs": [
    {
     "data": {
      "text/plain": [
       "[[9, 0, -10],\n",
       " [8, 1, -11],\n",
       " [7, 2, -12],\n",
       " [6, 3, -13],\n",
       " [5, 4, -14],\n",
       " [4, 5, -15],\n",
       " [3, 6, -16],\n",
       " [2, 7, -17],\n",
       " [1, 8, -18],\n",
       " [0, 9, -19]]"
      ]
     },
     "execution_count": 14,
     "metadata": {},
     "output_type": "execute_result"
    }
   ],
   "source": [
    "sorted(numbers,key=lambda x:x[1])"
   ]
  },
  {
   "cell_type": "markdown",
   "id": "43fd5b19-9457-4869-af1e-a0fd87e545ea",
   "metadata": {},
   "source": [
    "Sort by comparing custom key using 2nd element (index = 1).\\\n",
    "If other criteria used, need to specify `key` to be used by `sorted()` for comparison.\\\n",
    "Using `lambda` function to define `key`."
   ]
  },
  {
   "cell_type": "markdown",
   "id": "f20ef18e-c9c7-45f7-bacb-faaac34e34af",
   "metadata": {},
   "source": [
    "Method 3:"
   ]
  },
  {
   "cell_type": "code",
   "execution_count": 15,
   "id": "1f8a1c0f-2947-46a7-a8a8-4997584abdc1",
   "metadata": {},
   "outputs": [
    {
     "data": {
      "text/plain": [
       "[[0, 9, -19],\n",
       " [1, 8, -18],\n",
       " [2, 7, -17],\n",
       " [3, 6, -16],\n",
       " [4, 5, -15],\n",
       " [5, 4, -14],\n",
       " [6, 3, -13],\n",
       " [7, 2, -12],\n",
       " [8, 1, -11],\n",
       " [9, 0, -10]]"
      ]
     },
     "execution_count": 15,
     "metadata": {},
     "output_type": "execute_result"
    }
   ],
   "source": [
    "sorted(numbers,key=lambda x:sum(x))"
   ]
  },
  {
   "cell_type": "markdown",
   "id": "d75e1356-846d-4ffe-93d2-40668d4111ea",
   "metadata": {},
   "source": [
    "Sort by comparing custom key using sum of elements of sub-lists."
   ]
  },
  {
   "attachments": {},
   "cell_type": "markdown",
   "id": "777a16f8",
   "metadata": {},
   "source": [
    "## 1.3 Optional arguments"
   ]
  },
  {
   "cell_type": "markdown",
   "id": "1385f02c-ce53-449c-8329-37bd931f616d",
   "metadata": {},
   "source": [
    "Give argument default value such that function can run without argument and have no errors."
   ]
  },
  {
   "cell_type": "code",
   "execution_count": 17,
   "id": "8261347c-bc53-447e-aff2-f95acbd9a5a8",
   "metadata": {},
   "outputs": [
    {
     "data": {
      "text/plain": [
       "'Hello no one!'"
      ]
     },
     "execution_count": 17,
     "metadata": {},
     "output_type": "execute_result"
    }
   ],
   "source": [
    "def greeting(name='no one'):\n",
    "    if name == 'Batman':\n",
    "        return 'Hello Batman! So, nice to meet you!'\n",
    "    else:\n",
    "        return f'Hello {name}!'\n",
    "\n",
    "greeting()"
   ]
  },
  {
   "cell_type": "markdown",
   "id": "214ad158-f0f6-43e6-866e-28581205d965",
   "metadata": {},
   "source": [
    "Another example using `print()`:"
   ]
  },
  {
   "cell_type": "code",
   "execution_count": 18,
   "id": "874ea6d9-e619-4767-937e-76bc23fa1dea",
   "metadata": {},
   "outputs": [
    {
     "data": {
      "text/plain": [
       "\u001b[1;31mSignature:\u001b[0m \u001b[0mprint\u001b[0m\u001b[1;33m(\u001b[0m\u001b[1;33m*\u001b[0m\u001b[0margs\u001b[0m\u001b[1;33m,\u001b[0m \u001b[0msep\u001b[0m\u001b[1;33m=\u001b[0m\u001b[1;34m' '\u001b[0m\u001b[1;33m,\u001b[0m \u001b[0mend\u001b[0m\u001b[1;33m=\u001b[0m\u001b[1;34m'\\n'\u001b[0m\u001b[1;33m,\u001b[0m \u001b[0mfile\u001b[0m\u001b[1;33m=\u001b[0m\u001b[1;32mNone\u001b[0m\u001b[1;33m,\u001b[0m \u001b[0mflush\u001b[0m\u001b[1;33m=\u001b[0m\u001b[1;32mFalse\u001b[0m\u001b[1;33m)\u001b[0m\u001b[1;33m\u001b[0m\u001b[1;33m\u001b[0m\u001b[0m\n",
       "\u001b[1;31mDocstring:\u001b[0m\n",
       "Prints the values to a stream, or to sys.stdout by default.\n",
       "\n",
       "sep\n",
       "  string inserted between values, default a space.\n",
       "end\n",
       "  string appended after the last value, default a newline.\n",
       "file\n",
       "  a file-like object (stream); defaults to the current sys.stdout.\n",
       "flush\n",
       "  whether to forcibly flush the stream.\n",
       "\u001b[1;31mType:\u001b[0m      builtin_function_or_method"
      ]
     },
     "metadata": {},
     "output_type": "display_data"
    }
   ],
   "source": [
    "?print"
   ]
  },
  {
   "cell_type": "markdown",
   "id": "775a3eae-e36d-419e-8e75-3587cb062063",
   "metadata": {},
   "source": [
    "`print()` can accept other arguments that are optional with default values.\\\n",
    "Arguments can be specified as well."
   ]
  },
  {
   "cell_type": "code",
   "execution_count": 19,
   "id": "0e840d39-5e7c-47c6-a4f0-288ac0608b50",
   "metadata": {},
   "outputs": [
    {
     "name": "stdout",
     "output_type": "stream",
     "text": [
      "I am Batman!\n"
     ]
    }
   ],
   "source": [
    "print('I','am','Batman!')"
   ]
  },
  {
   "cell_type": "code",
   "execution_count": 20,
   "id": "867fb6df-f40a-46c3-86a8-d87f588b0a5f",
   "metadata": {},
   "outputs": [
    {
     "name": "stdout",
     "output_type": "stream",
     "text": [
      "I---am---Batman!\n"
     ]
    }
   ],
   "source": [
    "print('I','am','Batman!',sep='---')"
   ]
  },
  {
   "attachments": {},
   "cell_type": "markdown",
   "id": "4c49a49d",
   "metadata": {},
   "source": [
    "## 1.4 The importance of functions?"
   ]
  },
  {
   "attachments": {},
   "cell_type": "markdown",
   "id": "59776467",
   "metadata": {},
   "source": [
    "### An argument for functions"
   ]
  },
  {
   "cell_type": "markdown",
   "id": "a2199d88-90b7-4272-813e-b6f8adef1917",
   "metadata": {},
   "source": [
    "Reasons why functions are good:\n",
    "- Abstraction of details:\\\n",
    "Breaking down a complicated solution into modular chunks (i.e. functions).\\\n",
    "Hides details to focus on the overall solution rather than how it works or unnecessary details.\\\n",
    "Exceptions are when knowing how it works helps to determine which methods to choose from.\n",
    "- Reusability of code:\\\n",
    "Encapsulate chunk of code in function.\\\n",
    "Allows code to be shorter and more compact.\n",
    "- Maintainability of code:\\\n",
    "Easier to change and maintain code.\\\n",
    "Only need to edit at the definition part of the function."
   ]
  },
  {
   "attachments": {},
   "cell_type": "markdown",
   "id": "dddf5de5",
   "metadata": {},
   "source": [
    "### A word of caution"
   ]
  },
  {
   "cell_type": "markdown",
   "id": "c6cd9a07-49f8-4363-9d72-63cbfc20a4b5",
   "metadata": {},
   "source": [
    "Avoid misusing functions:\n",
    "- Don't **abuse** the use of functions by trying to do too many things or having too many arguments.\\\n",
    "- Don't **overuse** functions, as they make code difficult to read and compute."
   ]
  }
 ],
 "metadata": {
  "kernelspec": {
   "display_name": "Python 3 (ipykernel)",
   "language": "python",
   "name": "python3"
  },
  "language_info": {
   "codemirror_mode": {
    "name": "ipython",
    "version": 3
   },
   "file_extension": ".py",
   "mimetype": "text/x-python",
   "name": "python",
   "nbconvert_exporter": "python",
   "pygments_lexer": "ipython3",
   "version": "3.11.5"
  },
  "toc": {
   "base_numbering": 1,
   "nav_menu": {},
   "number_sections": true,
   "sideBar": true,
   "skip_h1_title": false,
   "title_cell": "Table of Contents",
   "title_sidebar": "Contents",
   "toc_cell": false,
   "toc_position": {},
   "toc_section_display": true,
   "toc_window_display": false
  },
  "vscode": {
   "interpreter": {
    "hash": "31f2aee4e71d21fbe5cf8b01ff0e069b9275f58929596ceb00d14d90e3e16cd6"
   }
  }
 },
 "nbformat": 4,
 "nbformat_minor": 5
}
