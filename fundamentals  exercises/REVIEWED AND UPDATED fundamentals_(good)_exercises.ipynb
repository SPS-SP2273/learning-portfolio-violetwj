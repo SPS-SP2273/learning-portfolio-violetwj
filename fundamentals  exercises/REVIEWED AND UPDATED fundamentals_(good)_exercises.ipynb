{
 "cells": [
  {
   "attachments": {},
   "cell_type": "markdown",
   "id": "123456",
   "metadata": {},
   "source": [
    "<div style=\"text-align:left;font-size:2em\"><span style=\"font-weight:bolder;font-size:1.25em\">SP2273 | Learning Portfolio</span><br><br><span style=\"font-weight:bold;color:darkred\">Fundamentals (Good) Exercises</span></div>"
   ]
  },
  {
   "cell_type": "markdown",
   "id": "86e7a258-6130-4d38-a28f-c1bfd22206aa",
   "metadata": {},
   "source": [
    "# Exercise 1"
   ]
  },
  {
   "cell_type": "markdown",
   "id": "5a35f5fc-5610-42e0-ae3d-b52873fab3ba",
   "metadata": {},
   "source": [
    "Example of running code with `input()`:"
   ]
  },
  {
   "cell_type": "code",
   "execution_count": 9,
   "id": "e8be8678-68ac-4a0e-8fec-e14da769a8cc",
   "metadata": {},
   "outputs": [
    {
     "name": "stdin",
     "output_type": "stream",
     "text": [
      "Give me a number? 1\n"
     ]
    },
    {
     "name": "stdout",
     "output_type": "stream",
     "text": [
      "You entered 1 which is a <class 'str'>\n"
     ]
    }
   ],
   "source": [
    "user_input=input('Give me a number?')\n",
    "print('You entered', user_input, 'which is a', type(user_input))"
   ]
  },
  {
   "cell_type": "markdown",
   "id": "c784592b-fb17-4752-97b2-c2a942b2ce71",
   "metadata": {},
   "source": [
    "It shows a box for the user to really key in an input, and it prints accordingly to what the user has inputted."
   ]
  },
  {
   "cell_type": "markdown",
   "id": "314d653b-6297-4586-82ba-3a46b13eac2a",
   "metadata": {},
   "source": [
    "## Task:\n",
    "\n",
    "Write a Python program that takes a numerical grade (0-100) as input and outputs the corresponding letter grade based on the following criteria:\n",
    "\n",
    "|Grade|Score Range|\n",
    "|:-|:-|\n",
    "|A|70-100|\n",
    "|B|50-69|\n",
    "|C|35-49|\n",
    "|Fail|0-34|\n",
    "\n",
    "Expected format:\\\n",
    "Enter the student's score: ` `.\\\n",
    "The student's letter grade is ` `."
   ]
  },
  {
   "cell_type": "code",
   "execution_count": 1,
   "id": "e4aed67f-2862-4dab-85c4-43dd9493d867",
   "metadata": {},
   "outputs": [
    {
     "name": "stdin",
     "output_type": "stream",
     "text": [
      "Enter the student's score: 77\n"
     ]
    },
    {
     "name": "stdout",
     "output_type": "stream",
     "text": [
      "The student's letter grade is: A\n"
     ]
    }
   ],
   "source": [
    "# If score within score range, return according grade as output.\n",
    "\n",
    "# isnumeric() only accepts strings, not integers.\n",
    "# Format: [variable].isnumeric().\n",
    "\n",
    "# No need to include 'source ==' in 'if' statement.\n",
    "# Range itself is already checking if score is within range.\n",
    "\n",
    "score=input(\"Enter the student's score:\")\n",
    "if score.isnumeric() == True:\n",
    "    if 70<=int(score)<=100:\n",
    "        print(\"The student's letter grade is:\",\"A\")\n",
    "    elif 50<=int(score)<=69:\n",
    "        print(\"The student's letter grade is:\",\"B\")\n",
    "    elif 35<=int(score)<=49:\n",
    "        print(\"The student's letter grade is:\",\"C\")\n",
    "    elif 0<=int(score)<=34:\n",
    "        print(\"The student's letter grade is:\",\"Fail\")\n",
    "    else:\n",
    "        print(\"Error: The input is invalid. Expected a numerical grade from 0-100.\")\n",
    "else:\n",
    "    print(\"Error: Score is not an integer.\")"
   ]
  }
 ],
 "metadata": {
  "kernelspec": {
   "display_name": "Python 3 (ipykernel)",
   "language": "python",
   "name": "python3"
  },
  "language_info": {
   "codemirror_mode": {
    "name": "ipython",
    "version": 3
   },
   "file_extension": ".py",
   "mimetype": "text/x-python",
   "name": "python",
   "nbconvert_exporter": "python",
   "pygments_lexer": "ipython3",
   "version": "3.11.5"
  },
  "toc": {
   "base_numbering": 1,
   "nav_menu": {},
   "number_sections": true,
   "sideBar": true,
   "skip_h1_title": false,
   "title_cell": "Table of Contents",
   "title_sidebar": "Contents",
   "toc_cell": false,
   "toc_position": {},
   "toc_section_display": true,
   "toc_window_display": false
  },
  "vscode": {
   "interpreter": {
    "hash": "31f2aee4e71d21fbe5cf8b01ff0e069b9275f58929596ceb00d14d90e3e16cd6"
   }
  }
 },
 "nbformat": 4,
 "nbformat_minor": 5
}
