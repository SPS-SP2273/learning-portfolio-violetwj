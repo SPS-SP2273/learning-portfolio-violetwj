{
 "cells": [
  {
   "attachments": {},
   "cell_type": "markdown",
   "id": "123456",
   "metadata": {},
   "source": [
    "<div style=\"text-align:left;font-size:2em\"><span style=\"font-weight:bolder;font-size:1.25em\">SP2273 | Learning Portfolio</span><br><br><span style=\"font-weight:bold;color:darkred\">Fundamentals (Good) Exercises</span></div>"
   ]
  },
  {
   "cell_type": "markdown",
   "id": "86e7a258-6130-4d38-a28f-c1bfd22206aa",
   "metadata": {},
   "source": [
    "# Exercise 1"
   ]
  },
  {
   "cell_type": "markdown",
   "id": "5a35f5fc-5610-42e0-ae3d-b52873fab3ba",
   "metadata": {},
   "source": [
    "Example of running code with `input()`:"
   ]
  },
  {
   "cell_type": "code",
   "execution_count": 12,
   "id": "e8be8678-68ac-4a0e-8fec-e14da769a8cc",
   "metadata": {},
   "outputs": [
    {
     "name": "stdin",
     "output_type": "stream",
     "text": [
      "Give me a number? 1\n"
     ]
    },
    {
     "name": "stdout",
     "output_type": "stream",
     "text": [
      "You entered 1\n"
     ]
    }
   ],
   "source": [
    "user_input=input('Give me a number?')\n",
    "print('You entered', user_input)"
   ]
  },
  {
   "cell_type": "markdown",
   "id": "c784592b-fb17-4752-97b2-c2a942b2ce71",
   "metadata": {},
   "source": [
    "It shows a box for the user to really key in an input, and it prints accordingly to what the user has inputted."
   ]
  },
  {
   "cell_type": "markdown",
   "id": "314d653b-6297-4586-82ba-3a46b13eac2a",
   "metadata": {},
   "source": [
    "## Task:\n",
    "\n",
    "Write a Python program that takes a numerical grade (0-100) as input and outputs the corresponding letter grade based on the following criteria:\n",
    "\n",
    "|Grade|Score Range|\n",
    "|:-|:-|\n",
    "|A|70-100|\n",
    "|B|50-69|\n",
    "|C|35-49|\n",
    "|Fail|0-34|\n",
    "\n",
    "Expected format:\\\n",
    "Enter the student's score: ` `.\\\n",
    "The student's letter grade is ` `."
   ]
  },
  {
   "cell_type": "code",
   "execution_count": 61,
   "id": "e4aed67f-2862-4dab-85c4-43dd9493d867",
   "metadata": {},
   "outputs": [
    {
     "name": "stdout",
     "output_type": "stream",
     "text": [
      "Score is not valid.\n"
     ]
    }
   ],
   "source": [
    "# If score within score range, return according grade as output.\n",
    "score=73\n",
    "\n",
    "if score == 70<=int(score)<=100:\n",
    "    print(\"A\")\n",
    "elif score == 50<=int(score)<=69:\n",
    "    print(\"B\")\n",
    "elif score == 35<=int(score)<=49:\n",
    "    print(\"C\")\n",
    "elif score == 0<=int(score)<=34:\n",
    "    print(\"Fail\")\n",
    "else:\n",
    "    print(\"Score is not valid.\")"
   ]
  },
  {
   "cell_type": "code",
   "execution_count": 59,
   "id": "38042624-edae-4a4a-8add-388a54fdaf79",
   "metadata": {},
   "outputs": [],
   "source": [
    "if score == 70<=int(score)<=100:\n",
    "    print(\"A\")"
   ]
  },
  {
   "cell_type": "code",
   "execution_count": 34,
   "id": "a7813fb5-1ee8-4ada-958c-f4ed205055d2",
   "metadata": {},
   "outputs": [
    {
     "name": "stdin",
     "output_type": "stream",
     "text": [
      "Enter the student's score: 1\n"
     ]
    }
   ],
   "source": [
    "score=input(\"Enter the student's score:\") "
   ]
  },
  {
   "cell_type": "code",
   "execution_count": null,
   "id": "7d7a1e61-9a1e-46ad-ad96-43d6e2cc7987",
   "metadata": {},
   "outputs": [],
   "source": []
  }
 ],
 "metadata": {
  "kernelspec": {
   "display_name": "Python 3 (ipykernel)",
   "language": "python",
   "name": "python3"
  },
  "language_info": {
   "codemirror_mode": {
    "name": "ipython",
    "version": 3
   },
   "file_extension": ".py",
   "mimetype": "text/x-python",
   "name": "python",
   "nbconvert_exporter": "python",
   "pygments_lexer": "ipython3",
   "version": "3.11.5"
  },
  "toc": {
   "base_numbering": 1,
   "nav_menu": {},
   "number_sections": true,
   "sideBar": true,
   "skip_h1_title": false,
   "title_cell": "Table of Contents",
   "title_sidebar": "Contents",
   "toc_cell": false,
   "toc_position": {},
   "toc_section_display": true,
   "toc_window_display": false
  },
  "vscode": {
   "interpreter": {
    "hash": "31f2aee4e71d21fbe5cf8b01ff0e069b9275f58929596ceb00d14d90e3e16cd6"
   }
  }
 },
 "nbformat": 4,
 "nbformat_minor": 5
}
