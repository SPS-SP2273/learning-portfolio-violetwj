{
 "cells": [
  {
   "attachments": {},
   "cell_type": "markdown",
   "id": "123456",
   "metadata": {},
   "source": [
    "<div style=\"text-align:left;font-size:2em\"><span style=\"font-weight:bolder;font-size:1.25em\">SP2273 | Learning Portfolio</span><br><br><span style=\"font-weight:bold;color:darkred\">Fundamentals (Need) Exercises</span></div>"
   ]
  },
  {
   "cell_type": "markdown",
   "id": "66731fab-75ea-4c49-91d7-bb41532758e5",
   "metadata": {},
   "source": [
    "# Exercise 1"
   ]
  },
  {
   "cell_type": "markdown",
   "id": "33f7a4a8-884d-4ba4-936d-ff4ba13eb7cb",
   "metadata": {},
   "source": [
    "~My mind is blank; what is a Python feature?\\\n",
    "I'm quite lost on what is considered a 'feature' of Python.~\n",
    "\n",
    "```\n",
    "Suggested by Jace to interpret 'Python feature' as \"What have you learnt in Fundamentals (Need) lecture/non-exercise?\".\n",
    "```\n",
    "\n",
    "List:\n",
    "- *Functions.*\n",
    "- *Comments.*\n",
    "- *Making decisions with `if`.*\n",
    "- *Indentations.*\n",
    "- *English VS variables.*\n",
    "- *Brackets.*\n",
    "- *Packages.*\n",
    "- *Dot `.`*."
   ]
  },
  {
   "cell_type": "markdown",
   "id": "4b687769-2c9a-43af-b364-95bceb64f832",
   "metadata": {},
   "source": [
    "# Exercise 2"
   ]
  },
  {
   "cell_type": "markdown",
   "id": "77e884c1-35bd-476b-9b0e-180f8e6523c7",
   "metadata": {},
   "source": [
    "Original code:"
   ]
  },
  {
   "cell_type": "code",
   "execution_count": 2,
   "id": "098b463d-db59-42a4-89a6-348ceb1cc511",
   "metadata": {},
   "outputs": [
    {
     "ename": "IndentationError",
     "evalue": "unindent does not match any outer indentation level (<tokenize>, line 3)",
     "output_type": "error",
     "traceback": [
      "\u001b[1;36m  File \u001b[1;32m<tokenize>:3\u001b[1;36m\u001b[0m\n\u001b[1;33m    Print(x, y, z)\u001b[0m\n\u001b[1;37m    ^\u001b[0m\n\u001b[1;31mIndentationError\u001b[0m\u001b[1;31m:\u001b[0m unindent does not match any outer indentation level\n"
     ]
    }
   ],
   "source": [
    "x, y = 3, 4\n",
    "        z = sqrt(x*2 + y**2)\n",
    "    Print(x, y, z)"
   ]
  },
  {
   "cell_type": "markdown",
   "id": "42fff164-5057-4026-9be2-ac1d00648003",
   "metadata": {},
   "source": [
    "Fixed code:"
   ]
  },
  {
   "cell_type": "code",
   "execution_count": 16,
   "id": "9325e252-0493-4602-bc62-056027b861cd",
   "metadata": {},
   "outputs": [
    {
     "name": "stdout",
     "output_type": "stream",
     "text": [
      "3 4 5\n"
     ]
    }
   ],
   "source": [
    "import numpy as np\n",
    "x,y,z=3,4,int(np.sqrt(x**2+y**2))\n",
    "print(x,y,z)"
   ]
  },
  {
   "cell_type": "markdown",
   "id": "27720b6c-f5d4-464c-85d5-b5eba9a65ad9",
   "metadata": {},
   "source": [
    "# Exercise 3"
   ]
  },
  {
   "cell_type": "markdown",
   "id": "af2e8398-70c7-4181-b564-e5f67c420263",
   "metadata": {},
   "source": [
    "|#|Term|Description|\n",
    "|:-:|:-|:-:|\n",
    "|1|Function|~Put an input through a function to generate an output.~<br>*'Something' that does a specific task.*|\n",
    "|2|Arguments|Refers to the input.|\n",
    "|3|Comments|Text that is not read as code in code cells.|\n",
    "|4|Indentations|Refers to spaces and tabs.|\n",
    "|5|Packages|Collection of modules that provide additional features.|\n",
    "|6|`.`|~Used to associate something with something.~<br>*Used to indicate ownership.*|\n",
    "|7|`:`|Used to designate a block of code.|\n",
    "|8|`[]`|Used for lists *and arrays*.|\n",
    "|9|`[[[]]]`|Refers to a list within a list within a list.|\n",
    "|10|`{}`|Used to store data in dictionary.<br>*Also used to indicate variables in f-strings.*|"
   ]
  },
  {
   "cell_type": "markdown",
   "id": "183da06f-ec91-4f17-bbfa-565470765428",
   "metadata": {},
   "source": [
    "# Exercise 4"
   ]
  },
  {
   "cell_type": "code",
   "execution_count": 4,
   "id": "f44f5299-1c81-4237-ac85-22adc787c20e",
   "metadata": {},
   "outputs": [
    {
     "data": {
      "text/plain": [
       "2.5"
      ]
     },
     "execution_count": 4,
     "metadata": {},
     "output_type": "execute_result"
    }
   ],
   "source": [
    "5/2  # Returns as a float."
   ]
  },
  {
   "cell_type": "code",
   "execution_count": 1,
   "id": "cd41c1ae-0d4a-4c64-bf05-f0ae83fb0803",
   "metadata": {},
   "outputs": [
    {
     "data": {
      "text/plain": [
       "2.3333333333333335"
      ]
     },
     "execution_count": 1,
     "metadata": {},
     "output_type": "execute_result"
    }
   ],
   "source": [
    "7/3"
   ]
  },
  {
   "cell_type": "markdown",
   "id": "0af69efe-08c8-4e42-8754-d761b67ad0d7",
   "metadata": {},
   "source": [
    "`5/2` refers to 5 being divided by 2, and returning as a **float**.\\\n",
    "`/` also known as **floating point division**."
   ]
  },
  {
   "cell_type": "code",
   "execution_count": 2,
   "id": "5da72dff-d60e-4809-b2e8-a476136d7779",
   "metadata": {},
   "outputs": [
    {
     "data": {
      "text/plain": [
       "2"
      ]
     },
     "execution_count": 2,
     "metadata": {},
     "output_type": "execute_result"
    }
   ],
   "source": [
    "5//2  # Rounds down the result to the nearest integer."
   ]
  },
  {
   "cell_type": "markdown",
   "id": "447ed3c8-fd46-4e9a-b461-4baeef84615f",
   "metadata": {},
   "source": [
    "`5//2` refers to 5 being divided by 2, but **rounded down** to the nearest **integer**.\\\n",
    "`//` also known as **floor/ integer division**."
   ]
  },
  {
   "cell_type": "code",
   "execution_count": 3,
   "id": "bcc368fb-9a38-4d6e-8e54-ed08c9b61407",
   "metadata": {},
   "outputs": [
    {
     "data": {
      "text/plain": [
       "1"
      ]
     },
     "execution_count": 3,
     "metadata": {},
     "output_type": "execute_result"
    }
   ],
   "source": [
    "5%2  # Returns the remainder of the operation."
   ]
  },
  {
   "cell_type": "markdown",
   "id": "e8f1595c-5307-4eb1-8559-33596a6bd44a",
   "metadata": {},
   "source": [
    "`5%2` refers to 5 being divided by 2, and returning the **remainder** as the output.\\\n",
    "`%` also known as **modulo operator**."
   ]
  }
 ],
 "metadata": {
  "kernelspec": {
   "display_name": "Python 3 (ipykernel)",
   "language": "python",
   "name": "python3"
  },
  "language_info": {
   "codemirror_mode": {
    "name": "ipython",
    "version": 3
   },
   "file_extension": ".py",
   "mimetype": "text/x-python",
   "name": "python",
   "nbconvert_exporter": "python",
   "pygments_lexer": "ipython3",
   "version": "3.11.5"
  },
  "toc": {
   "base_numbering": 1,
   "nav_menu": {},
   "number_sections": true,
   "sideBar": true,
   "skip_h1_title": false,
   "title_cell": "Table of Contents",
   "title_sidebar": "Contents",
   "toc_cell": false,
   "toc_position": {},
   "toc_section_display": true,
   "toc_window_display": false
  },
  "vscode": {
   "interpreter": {
    "hash": "31f2aee4e71d21fbe5cf8b01ff0e069b9275f58929596ceb00d14d90e3e16cd6"
   }
  }
 },
 "nbformat": 4,
 "nbformat_minor": 5
}
