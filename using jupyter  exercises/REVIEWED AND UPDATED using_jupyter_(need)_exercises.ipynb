{
 "cells": [
  {
   "attachments": {},
   "cell_type": "markdown",
   "id": "123456",
   "metadata": {},
   "source": [
    "<div style=\"text-align:left;font-size:2em\"><span style=\"font-weight:bolder;font-size:1.25em\">SP2273 | Learning Portfolio</span><br><br><span style=\"font-weight:bold;color:darkred\">Using Jupyter (Need), Exercises</span></div>"
   ]
  },
  {
   "cell_type": "markdown",
   "id": "24eabdfe-fe2f-4754-99d3-2a00be33f2a3",
   "metadata": {},
   "source": [
    "# Exercise 1"
   ]
  },
  {
   "attachments": {},
   "cell_type": "markdown",
   "id": "3b58fb37",
   "metadata": {},
   "source": [
    "## Quadratic Equations"
   ]
  },
  {
   "attachments": {},
   "cell_type": "markdown",
   "id": "ed8bde34",
   "metadata": {},
   "source": [
    "### Introduction"
   ]
  },
  {
   "cell_type": "markdown",
   "id": "b6bd889c-02ae-443d-96f4-9c90dca54f99",
   "metadata": {},
   "source": [
    "![](https://upload.wikimedia.org/wikipedia/commons/thumb/f/f8/Polynomialdeg2.svg/300px-Polynomialdeg2.svg.png)"
   ]
  },
  {
   "cell_type": "markdown",
   "id": "b5e7bef9-6667-4425-a41b-c062eacbd554",
   "metadata": {},
   "source": [
    "(_Image from the <ins>[Wikipedia page on Quadratic equations](https://en.wikipedia.org/wiki/Quadratic_equation)</ins>_)"
   ]
  },
  {
   "cell_type": "markdown",
   "id": "da4f2663-5462-4644-b3dd-9534a0e51eaf",
   "metadata": {},
   "source": [
    "The general form of a quadratic equation is:\n",
    "$$\n",
    "ax^2+bx+c=0\n",
    "$$"
   ]
  },
  {
   "attachments": {},
   "cell_type": "markdown",
   "id": "7475c968",
   "metadata": {},
   "source": [
    "### Solutions"
   ]
  },
  {
   "cell_type": "markdown",
   "id": "44165552-7349-4a98-b5b1-1c2e5ffa3c96",
   "metadata": {
    "jp-MarkdownHeadingCollapsed": true
   },
   "source": [
    "Provided $a\\ne0$, we can use an elementary algebraic method called <ins>[completing the square](https://en.wikipedia.org/wiki/Completing_the_square)</ins> to show that a quadratic equation has the following solution:\n",
    "$$\n",
    "x=\\dfrac {-b \\pm \\sqrt{b^2-4ac}} {2a}\n",
    "$$"
   ]
  },
  {
   "attachments": {},
   "cell_type": "markdown",
   "id": "014df96f",
   "metadata": {},
   "source": [
    "### Discriminant"
   ]
  },
  {
   "cell_type": "markdown",
   "id": "47c0f62b-f7df-422c-a84d-f6cbd43ea1c2",
   "metadata": {},
   "source": [
    "The quantity $\\Delta=b^2-4ac$ is called the **discriminant** of the equation and decides the nature of its solutions. The table below shows the various possibilities."
   ]
  },
  {
   "cell_type": "markdown",
   "id": "207423f5-78c0-46dd-8276-8d60dce4755c",
   "metadata": {},
   "source": [
    "|Discriminant|Roots|\n",
    "|:-:|:-|\n",
    "|$\\Delta=b^2-4ac=0$|A single solution of $-b/(2a)$|\n",
    "|$\\Delta=b^2-4ac\\gt0$|Two distinct solutions|\n",
    "|$\\Delta=b^2-4ac\\lt0$|No real solutions; both are complex.|"
   ]
  },
  {
   "cell_type": "markdown",
   "id": "9cbe5593-bf56-403b-ac1c-1b423c5248b5",
   "metadata": {},
   "source": [
    "# Exercise 2"
   ]
  },
  {
   "cell_type": "markdown",
   "id": "633108dd-3069-4f6c-8cf2-655bd65c1443",
   "metadata": {},
   "source": [
    "1. What is a Git **repository**?\n",
    "\n",
    "Git repository is like a storage space for changes that happen within any folder that is stored within it.\n",
    "\n",
    "2. Git keeps tracks of ____BLANK____ in the files in our repository.\n",
    "\n",
    "Changes.\n",
    "\n",
    "3. What is a **commit**?\n",
    "\n",
    "~Commit is the irreversible process of reviewing and confirming changes made to the folder and its contents after a change is made elsewhere (such as on Jupyter notebook).~\n",
    "\n",
    "Commit is a **reversible** process of reviewing and confirming changes made to the folder and its contents after a change is made, which can be seen as 'version history' or snapshots of code at a particular instance in time.\n",
    "```\n",
    "Necessary such that:\n",
    "- One can see commits made over time.\n",
    "- Allow one to undo changes by working on a previous commit that is more favourable/ suitable.\n",
    "\n",
    "Particularly useful for collaboration so that one can see what changes others have made relative to where one last left off.\n",
    "\n",
    "Additional points for reverting commits on GitHub Desktop:\n",
    "1. If commit pushed: 'History' tab-> (right click commit of choice) -> Revert changes in commit. This revert is also a commit.\n",
    "2. If commit has NOT been pushed: 'Changes' tab -> (bottom right of sidebar) -> 'Undo' commit.\n",
    "Note: Can amend commit message, same access under 'History' tab.\n",
    "```\n",
    "\n",
    "4. What is a **push**?\n",
    "\n",
    "~Push is the process of reflecting changes made on current platform used to another platform.~\n",
    "\n",
    "Push is the process of uploading changes made on current platform used to another platform.\n",
    "\n",
    "5. What is a **pull**?\n",
    "\n",
    "~Pull is the process of reflecting changes made on another platform onto the current platform used.~\n",
    "\n",
    "Pull is the process of fetching changes made on current platform used to another platform.\n",
    "\n",
    "6. What is the difference between **GitHub** and **Github Desktop**?\n",
    "\n",
    "GitHub is an online server that is able to store changes and is accessible by self, as well as others that have been enabled permission to edit. GitHub desktop is a local server that can store local changes made on the current device used."
   ]
  },
  {
   "cell_type": "code",
   "execution_count": null,
   "id": "fd8e4b41-ad58-4732-84a7-f6c45d17b6ea",
   "metadata": {},
   "outputs": [],
   "source": []
  }
 ],
 "metadata": {
  "kernelspec": {
   "display_name": "Python 3 (ipykernel)",
   "language": "python",
   "name": "python3"
  },
  "language_info": {
   "codemirror_mode": {
    "name": "ipython",
    "version": 3
   },
   "file_extension": ".py",
   "mimetype": "text/x-python",
   "name": "python",
   "nbconvert_exporter": "python",
   "pygments_lexer": "ipython3",
   "version": "3.11.5"
  },
  "toc": {
   "base_numbering": 1,
   "nav_menu": {},
   "number_sections": true,
   "sideBar": true,
   "skip_h1_title": false,
   "title_cell": "Table of Contents",
   "title_sidebar": "Contents",
   "toc_cell": false,
   "toc_position": {},
   "toc_section_display": true,
   "toc_window_display": false
  },
  "vscode": {
   "interpreter": {
    "hash": "31f2aee4e71d21fbe5cf8b01ff0e069b9275f58929596ceb00d14d90e3e16cd6"
   }
  }
 },
 "nbformat": 4,
 "nbformat_minor": 5
}
