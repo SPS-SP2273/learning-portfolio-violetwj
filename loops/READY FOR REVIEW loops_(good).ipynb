{
 "cells": [
  {
   "attachments": {},
   "cell_type": "markdown",
   "id": "123456",
   "metadata": {},
   "source": [
    "<div style=\"text-align:left;font-size:2em\"><span style=\"font-weight:bolder;font-size:1.25em\">SP2273 | Learning Portfolio</span><br><br><span style=\"font-weight:bold;color:darkred\">Loops (Good)</span></div>"
   ]
  },
  {
   "attachments": {},
   "cell_type": "markdown",
   "id": "09fc52d8",
   "metadata": {},
   "source": [
    "# What to expect in this chapter"
   ]
  },
  {
   "cell_type": "markdown",
   "id": "72f0e7ef-04db-44fa-9798-872c5ccb6b8f",
   "metadata": {},
   "source": [
    "Having more control over loops with `continue` and `break`.\\\n",
    "Introduction to list comprehension."
   ]
  },
  {
   "attachments": {},
   "cell_type": "markdown",
   "id": "d4aa7d93",
   "metadata": {},
   "source": [
    "# 1 Interrupting the flow"
   ]
  },
  {
   "cell_type": "markdown",
   "id": "b378443d-01aa-44d2-b994-7a7dec4ca86e",
   "metadata": {},
   "source": [
    "Using `break` and `continue` to change flow of loop from within."
   ]
  },
  {
   "cell_type": "markdown",
   "id": "395286f4-6486-4247-bc0d-7e3eee6e39c6",
   "metadata": {},
   "source": [
    "E.g. 1: Breaking out of and terminating the loop."
   ]
  },
  {
   "cell_type": "code",
   "execution_count": 1,
   "id": "9fa4821e-de07-4df4-a639-4867dc371fe4",
   "metadata": {},
   "outputs": [
    {
     "name": "stdout",
     "output_type": "stream",
     "text": [
      "0 1\n",
      "1 10\n",
      "2 100\n",
      "3 1000\n"
     ]
    }
   ],
   "source": [
    "for power in range(5):\n",
    "    number=10**power\n",
    "    if number>5000:\n",
    "        break\n",
    "    print(power,number)"
   ]
  },
  {
   "cell_type": "markdown",
   "id": "46a45339-33a8-4efb-8da6-cb1530142b0d",
   "metadata": {},
   "source": [
    "Typically used with `if`, to break out of loop if a certain condition is met.\\\n",
    "Also works with `while` loop."
   ]
  },
  {
   "cell_type": "markdown",
   "id": "0650f1a4-791c-4b87-872a-3261e6130fb3",
   "metadata": {},
   "source": [
    "E.g. 2: Skipping iteration."
   ]
  },
  {
   "cell_type": "code",
   "execution_count": 2,
   "id": "d6fad9fc-0fc0-40d2-8eda-23fd39e40965",
   "metadata": {},
   "outputs": [
    {
     "name": "stdout",
     "output_type": "stream",
     "text": [
      "0 1\n",
      "1 10\n",
      "2 100\n",
      "4 10000\n"
     ]
    }
   ],
   "source": [
    "for power in range(5):\n",
    "    if power==3:\n",
    "        continue\n",
    "    number=10**power\n",
    "    print(power,number)"
   ]
  },
  {
   "cell_type": "markdown",
   "id": "b1f98043-a6ea-4c5a-8a27-c34faefe34c5",
   "metadata": {},
   "source": [
    "Skips iteration, ignores code below the current loop to start next loop.\\\n",
    "No printout shown for `power = 3`.\\\n",
    "Typically used with `if`.\\\n",
    "Also works with `while` loop."
   ]
  },
  {
   "cell_type": "markdown",
   "id": "ab35f6d9-3e23-4b51-b1a3-c97556a110b7",
   "metadata": {},
   "source": [
    "E.g. 3:"
   ]
  },
  {
   "cell_type": "code",
   "execution_count": 3,
   "id": "a668e913-4820-473c-88e2-96f6b5bf6ea0",
   "metadata": {},
   "outputs": [
    {
     "name": "stdout",
     "output_type": "stream",
     "text": [
      "1\n",
      "3\n",
      "5\n",
      "7\n",
      "9\n"
     ]
    }
   ],
   "source": [
    "for number in range(10):\n",
    "    if number%2==0:\n",
    "        continue\n",
    "    print(number)"
   ]
  },
  {
   "cell_type": "markdown",
   "id": "82d816d0-5fb3-4499-b07c-2bcf0cd59324",
   "metadata": {},
   "source": [
    "It will not proceed if the remainder is 0 (i.e. number is even)."
   ]
  },
  {
   "cell_type": "markdown",
   "id": "8ba4fc11-4b56-4441-ad75-569aa495ddd0",
   "metadata": {},
   "source": [
    "E.g. 4:"
   ]
  },
  {
   "cell_type": "markdown",
   "id": "4078de40-f7a8-44c5-a808-908574342415",
   "metadata": {},
   "source": [
    "`while` example from Loops (Need):"
   ]
  },
  {
   "cell_type": "code",
   "execution_count": 5,
   "id": "6c6051a7-d9e8-4806-923f-6b142878f68b",
   "metadata": {},
   "outputs": [
    {
     "name": "stdout",
     "output_type": "stream",
     "text": [
      "0\n",
      "1\n",
      "2\n",
      "3\n",
      "4\n"
     ]
    }
   ],
   "source": [
    "number=0\n",
    "while number<5:\n",
    "    print(number)\n",
    "    number+=1"
   ]
  },
  {
   "cell_type": "markdown",
   "id": "0e5af115-810a-4440-ac2e-47f985b84149",
   "metadata": {},
   "source": [
    "Redoing `while` example with `break`:"
   ]
  },
  {
   "cell_type": "code",
   "execution_count": 4,
   "id": "9647b052-e08f-4c59-9ced-0e77162aabe8",
   "metadata": {},
   "outputs": [
    {
     "name": "stdout",
     "output_type": "stream",
     "text": [
      "0\n",
      "1\n",
      "2\n",
      "3\n",
      "4\n"
     ]
    }
   ],
   "source": [
    "number=0\n",
    "\n",
    "while True:\n",
    "    print(number)\n",
    "    number+=1\n",
    "    if number>4:break"
   ]
  },
  {
   "attachments": {},
   "cell_type": "markdown",
   "id": "b3f4ae55",
   "metadata": {},
   "source": [
    "# 2 List comprehension!"
   ]
  },
  {
   "cell_type": "markdown",
   "id": "87cb2d83-d7ea-4a53-ab70-eeeac80ba406",
   "metadata": {},
   "source": [
    "Optimised syntax for using loops to create lists."
   ]
  },
  {
   "attachments": {},
   "cell_type": "markdown",
   "id": "5d9df54d",
   "metadata": {},
   "source": [
    "## 2.1 Basic syntax"
   ]
  },
  {
   "cell_type": "markdown",
   "id": "96b11630-9175-4eb6-bd1d-f7dc3ede44e7",
   "metadata": {},
   "source": [
    "Works by adjoining desired output to the front of `for` loop.\\\n",
    "Whole syntax embedded within `[]`."
   ]
  },
  {
   "cell_type": "markdown",
   "id": "c2fc1739-bedb-4aeb-8a35-6d7dfb488faa",
   "metadata": {},
   "source": [
    "Creating a simple list from 0 to 4:"
   ]
  },
  {
   "cell_type": "code",
   "execution_count": 6,
   "id": "ef9e26cf-eec6-434c-a99e-0ef7b935cb47",
   "metadata": {},
   "outputs": [
    {
     "data": {
      "text/plain": [
       "[0, 1, 2, 3, 4]"
      ]
     },
     "execution_count": 6,
     "metadata": {},
     "output_type": "execute_result"
    }
   ],
   "source": [
    "[number for number in range(5)]"
   ]
  },
  {
   "cell_type": "markdown",
   "id": "b4d78d36-c2af-4ace-ae28-f07649ff2c0c",
   "metadata": {},
   "source": [
    "Creating a list of squares:"
   ]
  },
  {
   "cell_type": "code",
   "execution_count": 9,
   "id": "2b50ada6-9622-418b-bf96-7a0b9f4599ad",
   "metadata": {},
   "outputs": [
    {
     "data": {
      "text/plain": [
       "[0, 1, 4, 9, 16]"
      ]
     },
     "execution_count": 9,
     "metadata": {},
     "output_type": "execute_result"
    }
   ],
   "source": [
    "[number**2 for number in range(5)]"
   ]
  },
  {
   "attachments": {},
   "cell_type": "markdown",
   "id": "4a1a05b4",
   "metadata": {},
   "source": [
    "## 2.2 List comprehension with conditions"
   ]
  },
  {
   "cell_type": "markdown",
   "id": "f83010c6-99a2-4448-b3de-7a210940d4ea",
   "metadata": {},
   "source": [
    "Can also be used to specify conditions:"
   ]
  },
  {
   "cell_type": "code",
   "execution_count": 10,
   "id": "e6e3596e-ed8d-4764-82cf-896c2de37d95",
   "metadata": {},
   "outputs": [
    {
     "data": {
      "text/plain": [
       "[0, 2, 4, 6, 8]"
      ]
     },
     "execution_count": 10,
     "metadata": {},
     "output_type": "execute_result"
    }
   ],
   "source": [
    "[number for number in range(10) if number%2==0]"
   ]
  },
  {
   "attachments": {},
   "cell_type": "markdown",
   "id": "d277615c",
   "metadata": {},
   "source": [
    "# 3 Other useful stuff"
   ]
  },
  {
   "attachments": {},
   "cell_type": "markdown",
   "id": "65b161a9",
   "metadata": {},
   "source": [
    "## 3.1 for with unpacking"
   ]
  },
  {
   "cell_type": "markdown",
   "id": "43ec2204-ac78-49f0-a0eb-6dc21e9647f6",
   "metadata": {},
   "source": [
    "How it works:"
   ]
  },
  {
   "cell_type": "code",
   "execution_count": 12,
   "id": "a3ab7b4e-50be-4ad3-b72e-619a396775fa",
   "metadata": {},
   "outputs": [
    {
     "name": "stdout",
     "output_type": "stream",
     "text": [
      "x = 1, y = 2, z = 3\n"
     ]
    }
   ],
   "source": [
    "x,y,z=[1,2,3]\n",
    "print(f'x = {x}, y = {y}, z = {z}')"
   ]
  },
  {
   "cell_type": "markdown",
   "id": "c5ef1a21-0596-4cad-8999-e99550a41ea3",
   "metadata": {},
   "source": [
    "Useful for unpacking 2D lists.\\\n",
    "Can be combined with `for` loop to extract elements:"
   ]
  },
  {
   "cell_type": "code",
   "execution_count": 13,
   "id": "b2f9670b-9c0d-4474-8312-8f22170273f4",
   "metadata": {},
   "outputs": [
    {
     "name": "stdout",
     "output_type": "stream",
     "text": [
      "Natasha Romanoff is Marvel's Black Widow!\n",
      "Tony Stark is Marvel's Iron Man!\n",
      "Stephen Strange is Marvel's Doctor Strange!\n"
     ]
    }
   ],
   "source": [
    "py_superhero_info=[['Natasha Romanoff','Black Widow'],\n",
    "                   ['Tony Stark','Iron Man'],\n",
    "                   ['Stephen Strange','Doctor Strange']]\n",
    "for real_name, super_name in py_superhero_info:\n",
    "    print(f\"{real_name} is Marvel's {super_name}!\")"
   ]
  },
  {
   "attachments": {},
   "cell_type": "markdown",
   "id": "79fed73a",
   "metadata": {},
   "source": [
    "## 3.2 for with zip()"
   ]
  },
  {
   "cell_type": "markdown",
   "id": "f90366fd-cba3-41e1-8008-fa6df9c3e8db",
   "metadata": {},
   "source": [
    "Using `zip()` to combine 2 lists.\\\n",
    "Most elegant solution for using multiple lists with a `for` loop."
   ]
  },
  {
   "cell_type": "code",
   "execution_count": 14,
   "id": "f5b9a864-64d1-4c13-85eb-e2148298d276",
   "metadata": {},
   "outputs": [
    {
     "name": "stdout",
     "output_type": "stream",
     "text": [
      "Natasha Romanoff is Marvel's Black Widow!\n",
      "Tony Stark is Marvel's Iron Man!\n",
      "Stephen Strange is Marvel's Doctor Strange!\n"
     ]
    }
   ],
   "source": [
    "super_names=[\"Black Widow\",\"Iron Man\",\"Doctor Strange\"]\n",
    "real_names=[\"Natasha Romanoff\",\"Tony Stark\",\"Stephen Strange\"]\n",
    "\n",
    "for real_name, super_name in zip(real_names,super_names):\n",
    "    print(f\"{real_name} is Marvel's {super_name}!\")"
   ]
  },
  {
   "attachments": {},
   "cell_type": "markdown",
   "id": "845784f3",
   "metadata": {},
   "source": [
    "## 3.3 for with dictionaries"
   ]
  },
  {
   "cell_type": "markdown",
   "id": "52bc2e04-b5ab-440f-8fee-1a4d9a3412a4",
   "metadata": {},
   "source": [
    "Looping through dictionaries with `for` loop.\\\n",
    "Using 'hidden' function `items()` to give both key and corresponding value."
   ]
  },
  {
   "cell_type": "code",
   "execution_count": 15,
   "id": "145da8e3-b810-4456-814d-910d9eac696e",
   "metadata": {},
   "outputs": [
    {
     "name": "stdout",
     "output_type": "stream",
     "text": [
      "Natasha Romanoff is Marvel's Black Widow!\n",
      "Tony Stark is Marvel's Iron Man!\n",
      "Stephen Strange is Marvel's Doctor Strange!\n"
     ]
    }
   ],
   "source": [
    "superhero_info={\"Natasha Romanoff\":\"Black Widow\",\n",
    "                \"Tony Stark\":\"Iron Man\",\n",
    "                \"Stephen Strange\":\"Doctor Strange\"}\n",
    "\n",
    "for key, value in superhero_info.items():\n",
    "    print(f\"{key} is Marvel's {value}!\")"
   ]
  },
  {
   "cell_type": "markdown",
   "id": "83166c17-3b93-4574-a122-1ffde6982495",
   "metadata": {},
   "source": [
    "Use `keys()` to return keys of the dictionary.\\\n",
    "Directly access keys as follows:"
   ]
  },
  {
   "cell_type": "code",
   "execution_count": 19,
   "id": "1a0a8110-ae6e-43f0-8b85-34458644ce60",
   "metadata": {},
   "outputs": [
    {
     "name": "stdout",
     "output_type": "stream",
     "text": [
      "Natasha Romanoff is Marvel's Black Widow!\n",
      "Tony Stark is Marvel's Iron Man!\n",
      "Stephen Strange is Marvel's Doctor Strange!\n"
     ]
    }
   ],
   "source": [
    "for key in superhero_info.keys():\n",
    "    value=superhero_info[key]\n",
    "    print(f\"{key} is Marvel's {value}!\")"
   ]
  },
  {
   "attachments": {},
   "cell_type": "markdown",
   "id": "936654bf",
   "metadata": {},
   "source": [
    "## Footnotes"
   ]
  }
 ],
 "metadata": {
  "kernelspec": {
   "display_name": "Python 3 (ipykernel)",
   "language": "python",
   "name": "python3"
  },
  "language_info": {
   "codemirror_mode": {
    "name": "ipython",
    "version": 3
   },
   "file_extension": ".py",
   "mimetype": "text/x-python",
   "name": "python",
   "nbconvert_exporter": "python",
   "pygments_lexer": "ipython3",
   "version": "3.11.5"
  },
  "toc": {
   "base_numbering": 1,
   "nav_menu": {},
   "number_sections": true,
   "sideBar": true,
   "skip_h1_title": false,
   "title_cell": "Table of Contents",
   "title_sidebar": "Contents",
   "toc_cell": false,
   "toc_position": {},
   "toc_section_display": true,
   "toc_window_display": false
  },
  "vscode": {
   "interpreter": {
    "hash": "31f2aee4e71d21fbe5cf8b01ff0e069b9275f58929596ceb00d14d90e3e16cd6"
   }
  }
 },
 "nbformat": 4,
 "nbformat_minor": 5
}
