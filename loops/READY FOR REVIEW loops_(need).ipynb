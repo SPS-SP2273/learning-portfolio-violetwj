{
 "cells": [
  {
   "attachments": {},
   "cell_type": "markdown",
   "id": "123456",
   "metadata": {},
   "source": [
    "<div style=\"text-align:left;font-size:2em\"><span style=\"font-weight:bolder;font-size:1.25em\">SP2273 | Learning Portfolio</span><br><br><span style=\"font-weight:bold;color:darkred\">Loops (Need)</span></div>"
   ]
  },
  {
   "attachments": {},
   "cell_type": "markdown",
   "id": "28236e79",
   "metadata": {},
   "source": [
    "# What to expect in this chapter"
   ]
  },
  {
   "cell_type": "markdown",
   "id": "c0cda921-4497-4a98-b54c-b9bd713ad4da",
   "metadata": {},
   "source": [
    "Repeat tasks over and over again.\\\n",
    "Also known as loops or iterations.\\\n",
    "2 mechanisms for looping:\n",
    "- `for` statement.\n",
    "- `while` statement."
   ]
  },
  {
   "attachments": {},
   "cell_type": "markdown",
   "id": "8718d2c0",
   "metadata": {},
   "source": [
    "# 1 The for iterator"
   ]
  },
  {
   "cell_type": "code",
   "execution_count": 5,
   "id": "89bb10eb-1575-4dfd-8a4a-521fe59cdc67",
   "metadata": {},
   "outputs": [],
   "source": [
    "real_names=[\"Natasha Romanoff\",\"Tony Stark\",\"Stephen Strange\"]"
   ]
  },
  {
   "cell_type": "markdown",
   "id": "143f2f12-0313-4091-a909-738fb4a9c339",
   "metadata": {},
   "source": [
    "Goal: print messages corresponding to every superhero in the list."
   ]
  },
  {
   "cell_type": "code",
   "execution_count": 2,
   "id": "3426fb43-024f-458e-a307-625194ba3a2d",
   "metadata": {},
   "outputs": [
    {
     "name": "stdout",
     "output_type": "stream",
     "text": [
      "Natasha Romanoff is a Marvel superhero!\n",
      "Tony Stark is a Marvel superhero!\n",
      "Stephen Strange is a Marvel superhero!\n"
     ]
    }
   ],
   "source": [
    "name=real_names[0]\n",
    "print(f\"{name} is a Marvel superhero!\")\n",
    "name=real_names[1]\n",
    "print(f\"{name} is a Marvel superhero!\")\n",
    "name=real_names[2]\n",
    "print(f\"{name} is a Marvel superhero!\")"
   ]
  },
  {
   "cell_type": "markdown",
   "id": "34384363-56e9-49f8-81c3-0f87c634956a",
   "metadata": {},
   "source": [
    "Poor way to programme as such.\n",
    "\n",
    "3 reasons why:\n",
    "1. Does not scale very well.\n",
    "2. Cumbersome to make changes; have to change for every single line.\n",
    "3. Highly error prone, due to having to type something new, even if just copying and pasting.\n",
    "\n",
    "Hence, `for` loop comes in handy."
   ]
  },
  {
   "attachments": {},
   "cell_type": "markdown",
   "id": "5c68fdb7",
   "metadata": {},
   "source": [
    "## 1.1 for with a list"
   ]
  },
  {
   "cell_type": "code",
   "execution_count": 3,
   "id": "3c004894-8c6c-475d-acd4-4bec60713001",
   "metadata": {},
   "outputs": [
    {
     "name": "stdout",
     "output_type": "stream",
     "text": [
      "Natasha Romanoff is a Marvel superhero!\n",
      "Tony Stark is a Marvel superhero!\n",
      "Stephen Strange is a Marvel superhero!\n"
     ]
    }
   ],
   "source": [
    "for name in real_names:\n",
    "    print(f\"{name} is a Marvel superhero!\")"
   ]
  },
  {
   "cell_type": "markdown",
   "id": "7374c0c9-1067-4997-b394-43f1f950391c",
   "metadata": {},
   "source": [
    "Loop structure:\n",
    "- Goes through list (`real_names`) and assigns `name` as the value of each element of the list.\n",
    "- Runs code block using values of `name`.\n",
    "- Code block designated using `:` and tabs like `if`."
   ]
  },
  {
   "cell_type": "code",
   "execution_count": 4,
   "id": "1927827e-de2e-4811-ac17-0c32217f41ec",
   "metadata": {},
   "outputs": [
    {
     "name": "stdout",
     "output_type": "stream",
     "text": [
      "Natasha Romanoff is a Marvel superhero!\n",
      "Tony Stark is a Marvel superhero!\n",
      "Stephen Strange is a Marvel superhero!\n"
     ]
    }
   ],
   "source": [
    "for x in real_names:\n",
    "    print(f\"{x} is a Marvel superhero!\")"
   ]
  },
  {
   "cell_type": "markdown",
   "id": "42e014e2-e521-4213-82fa-0dbd8f0dd79e",
   "metadata": {},
   "source": [
    "Can use any variable name.\\\n",
    "`x` can be used, just not very readable."
   ]
  },
  {
   "attachments": {},
   "cell_type": "markdown",
   "id": "5036fe55",
   "metadata": {},
   "source": [
    "## 1.2 for with enumerate"
   ]
  },
  {
   "cell_type": "code",
   "execution_count": 6,
   "id": "9bf4c691-7f71-4698-9e20-3406c6daea66",
   "metadata": {},
   "outputs": [],
   "source": [
    "super_names=[\"Black Widow\",\"Iron Man\",\"Doctor Strange\"]\n",
    "real_names=[\"Natasha Romanoff\",\"Tony Stark\",\"Stephen Strange\"]"
   ]
  },
  {
   "cell_type": "markdown",
   "id": "b2a1fa80-fe28-4d2f-9096-010c1f832d06",
   "metadata": {},
   "source": [
    "`for` loop only accepts 1 list.\\\n",
    "Option to use `enumerate()` to access both lists.\n"
   ]
  },
  {
   "cell_type": "code",
   "execution_count": 10,
   "id": "52a26a52-c0e6-4b50-91ed-da25cca9212f",
   "metadata": {},
   "outputs": [
    {
     "name": "stdout",
     "output_type": "stream",
     "text": [
      "0: Natasha Romanoff is a Marvel superhero!\n",
      "1: Tony Stark is a Marvel superhero!\n",
      "2: Stephen Strange is a Marvel superhero!\n"
     ]
    }
   ],
   "source": [
    "for count, name in enumerate(real_names):\n",
    "    print(f'{count}: {name} is a Marvel superhero!')\n",
    "\n",
    "# Recall f-string is used to combine multiple variables."
   ]
  },
  {
   "cell_type": "markdown",
   "id": "108ffd6e-e7bd-4919-bb05-12060a698e94",
   "metadata": {},
   "source": [
    "`enumerate()` is something that keeps count when looping through a list.\\\n",
    "Gives elements of list.\\\n",
    "Returns number, which is stored as `count`.\\\n",
    "Can also be used to index lists."
   ]
  },
  {
   "cell_type": "code",
   "execution_count": 11,
   "id": "3f2cbbd4-534a-4f03-90fd-6095826fb2c4",
   "metadata": {},
   "outputs": [
    {
     "name": "stdout",
     "output_type": "stream",
     "text": [
      "Natasha Romanoff is Black Widow!\n",
      "Tony Stark is Iron Man!\n",
      "Stephen Strange is Doctor Strange!\n"
     ]
    }
   ],
   "source": [
    "for index, name in enumerate(real_names):\n",
    "    superhero_name=super_names[index]      # Indexes each element in 'super_names' list.\n",
    "    print(f'{name} is {superhero_name}!')"
   ]
  },
  {
   "cell_type": "markdown",
   "id": "aaa36185-d400-4e59-a76e-cfc985ca51cb",
   "metadata": {},
   "source": [
    "2 points to note:\n",
    "1. Change of variable names (`count` and `index`) that is used with `enumerate()` to match logical use.\n",
    "- Helps to see intention or what is being done with the code.\n",
    "- Python doesn't really care about the variable names.\n",
    "2. By default, `enumerate()` starts from index 0, but can be easily changed to start at another value."
   ]
  },
  {
   "cell_type": "code",
   "execution_count": 12,
   "id": "4f122d33-168b-45f8-bfe2-5332afc2da58",
   "metadata": {},
   "outputs": [
    {
     "name": "stdout",
     "output_type": "stream",
     "text": [
      "100: Natasha Romanoff is a Marvel superhero!\n",
      "101: Tony Stark is a Marvel superhero!\n",
      "102: Stephen Strange is a Marvel superhero!\n"
     ]
    }
   ],
   "source": [
    "for count, name in enumerate(real_names,100):\n",
    "    print(f'{count}: {name} is a Marvel superhero!')"
   ]
  },
  {
   "attachments": {},
   "cell_type": "markdown",
   "id": "49be66a1",
   "metadata": {},
   "source": [
    "## 1.3 for with range"
   ]
  },
  {
   "cell_type": "markdown",
   "id": "cda15658-277a-4608-bc40-3ea62e3fdf6a",
   "metadata": {},
   "source": [
    "Can also achieve the above result with `range()`."
   ]
  },
  {
   "cell_type": "markdown",
   "id": "d584340d-241f-44a3-a741-38c2e274abcc",
   "metadata": {},
   "source": [
    "E.g. 1: Using `range()` to get `for` loop to run a given number of loops."
   ]
  },
  {
   "cell_type": "code",
   "execution_count": 13,
   "id": "08f3dfd1-f427-4fdb-9373-d969007c7c71",
   "metadata": {},
   "outputs": [
    {
     "name": "stdout",
     "output_type": "stream",
     "text": [
      "0\n",
      "1\n",
      "2\n",
      "3\n",
      "4\n"
     ]
    }
   ],
   "source": [
    "for i in range(5):\n",
    "    print(i)"
   ]
  },
  {
   "cell_type": "markdown",
   "id": "4100176e-0fc2-4553-bca0-513633cb7c59",
   "metadata": {},
   "source": [
    "E.g. 2: Using `range()` to tailor starting and ending values."
   ]
  },
  {
   "cell_type": "code",
   "execution_count": 14,
   "id": "57e6fd71-880c-446a-a5e9-607d65d96ade",
   "metadata": {},
   "outputs": [
    {
     "name": "stdout",
     "output_type": "stream",
     "text": [
      "5\n",
      "6\n",
      "7\n",
      "8\n",
      "9\n"
     ]
    }
   ],
   "source": [
    "for i in range(5,10):\n",
    "    print(i)"
   ]
  },
  {
   "cell_type": "markdown",
   "id": "341c97a2-7264-495f-b4c3-4fd9cd9ba011",
   "metadata": {},
   "source": [
    "E.g. 3: Using `range()` to adjust step size."
   ]
  },
  {
   "cell_type": "code",
   "execution_count": 15,
   "id": "0715e416-59bb-4609-b1fa-5ae9ce6f1c40",
   "metadata": {},
   "outputs": [
    {
     "name": "stdout",
     "output_type": "stream",
     "text": [
      "1\n",
      "4\n",
      "7\n"
     ]
    }
   ],
   "source": [
    "for i in range(1,10,3):\n",
    "    print(i)"
   ]
  },
  {
   "cell_type": "markdown",
   "id": "f8867afd-4c03-47d9-bd79-7d6cf0115854",
   "metadata": {},
   "source": [
    "Note:\n",
    "- Functions like `range()` and `enumerate()` only work with looping structures.\n",
    "- `range()` always ends 1 short of ending number."
   ]
  },
  {
   "cell_type": "markdown",
   "id": "81a63a1f-5cb2-49cc-873c-d22c085cf409",
   "metadata": {},
   "source": [
    "Using `range()` to print superhero names:"
   ]
  },
  {
   "cell_type": "code",
   "execution_count": 17,
   "id": "c08dc863-32bd-47be-bfd5-3d8023f7b06f",
   "metadata": {},
   "outputs": [
    {
     "name": "stdout",
     "output_type": "stream",
     "text": [
      "Natasha Romanoff is Marvel's Black Widow!\n",
      "Tony Stark is Marvel's Iron Man!\n",
      "Stephen Strange is Marvel's Doctor Strange!\n"
     ]
    }
   ],
   "source": [
    "for i in range(len(real_names)):\n",
    "    real_name=real_names[i]\n",
    "    super_name=super_names[i]\n",
    "    print(f\"{real_name} is Marvel's {super_name}!\")"
   ]
  },
  {
   "cell_type": "markdown",
   "id": "f75623fe-6d6b-4828-a4db-ed1910a98943",
   "metadata": {},
   "source": [
    "Note the use of `len(real_names)` to indicate how many times the loop runs."
   ]
  },
  {
   "attachments": {},
   "cell_type": "markdown",
   "id": "ea33e21b",
   "metadata": {},
   "source": [
    "# 2 while"
   ]
  },
  {
   "cell_type": "code",
   "execution_count": 5,
   "id": "b48f4ae0-f733-4bfc-b39c-40f5e89e54ec",
   "metadata": {},
   "outputs": [
    {
     "name": "stdout",
     "output_type": "stream",
     "text": [
      "0\n",
      "1\n",
      "2\n",
      "3\n",
      "4\n"
     ]
    }
   ],
   "source": [
    "number=0\n",
    "while number<5:\n",
    "    print(number)  # This will loop FOREVER; crashed notebook due to insufficient memory.\n",
    "    number+=1      # Ran this without 'number+=1', horrendous results. -.-\""
   ]
  },
  {
   "cell_type": "markdown",
   "id": "70f345c0-70c5-4fbb-a666-5c325a137102",
   "metadata": {},
   "source": [
    "`while` loops keeps running while a condition is `True`.\\\n",
    "Checks condition at the start and begins another loop if its `True`.\\\n",
    "Need not know beforehand the number of iterations needed."
   ]
  }
 ],
 "metadata": {
  "kernelspec": {
   "display_name": "Python 3 (ipykernel)",
   "language": "python",
   "name": "python3"
  },
  "language_info": {
   "codemirror_mode": {
    "name": "ipython",
    "version": 3
   },
   "file_extension": ".py",
   "mimetype": "text/x-python",
   "name": "python",
   "nbconvert_exporter": "python",
   "pygments_lexer": "ipython3",
   "version": "3.11.5"
  },
  "toc": {
   "base_numbering": 1,
   "nav_menu": {},
   "number_sections": true,
   "sideBar": true,
   "skip_h1_title": false,
   "title_cell": "Table of Contents",
   "title_sidebar": "Contents",
   "toc_cell": false,
   "toc_position": {},
   "toc_section_display": true,
   "toc_window_display": false
  },
  "vscode": {
   "interpreter": {
    "hash": "31f2aee4e71d21fbe5cf8b01ff0e069b9275f58929596ceb00d14d90e3e16cd6"
   }
  }
 },
 "nbformat": 4,
 "nbformat_minor": 5
}
