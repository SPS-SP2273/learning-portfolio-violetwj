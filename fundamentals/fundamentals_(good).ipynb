{
 "cells": [
  {
   "attachments": {},
   "cell_type": "markdown",
   "id": "123456",
   "metadata": {},
   "source": [
    "<div style=\"text-align:left;font-size:2em\"><span style=\"font-weight:bolder;font-size:1.25em\">SP2273 | Learning Portfolio</span><br><br><span style=\"font-weight:bold;color:darkred\">Fundamentals (Good)</span></div>"
   ]
  },
  {
   "attachments": {},
   "cell_type": "markdown",
   "id": "69a6a848",
   "metadata": {},
   "source": [
    "# What to expect in this chapter"
   ]
  },
  {
   "cell_type": "markdown",
   "id": "89d5264b-0b61-4aeb-bf5f-86ee0bf976be",
   "metadata": {},
   "source": [
    "Building on earlier concepts and adding details.\\\n",
    "Introduction to different data types.\\\n",
    "Combine variables with English."
   ]
  },
  {
   "attachments": {},
   "cell_type": "markdown",
   "id": "8b0423c1",
   "metadata": {},
   "source": [
    "# 1 There is more to if"
   ]
  },
  {
   "cell_type": "markdown",
   "id": "dfaa6c8f-fbe1-461e-ace7-e8cdf33f582b",
   "metadata": {},
   "source": [
    "Might have situations needing more branches to `if`.\\\n",
    "Can use `elif`, or 'else if'."
   ]
  },
  {
   "cell_type": "code",
   "execution_count": 6,
   "id": "8fb33b95-bc75-4cf4-b3cf-02b4fe96d3e1",
   "metadata": {},
   "outputs": [
    {
     "name": "stdout",
     "output_type": "stream",
     "text": [
      "Hello Batman!\n"
     ]
    }
   ],
   "source": [
    "name = 'Batman'\n",
    "\n",
    "if name == 'Batman':\n",
    "    print('Hello Batman!')\n",
    "elif name == 'Robin':\n",
    "    print('Hello Sidekick!')\n",
    "else:\n",
    "    print('Hello World!')"
   ]
  },
  {
   "cell_type": "markdown",
   "id": "ecd0f772-bf39-4d79-8514-37beee0ebf97",
   "metadata": {},
   "source": [
    "*Pushing this, can you have multiple elif?*"
   ]
  },
  {
   "cell_type": "code",
   "execution_count": 7,
   "id": "088ad339-919d-45e9-8e9a-27a9cf195647",
   "metadata": {},
   "outputs": [
    {
     "name": "stdout",
     "output_type": "stream",
     "text": [
      "Hello World!\n"
     ]
    }
   ],
   "source": [
    "name = 'Potato'\n",
    "\n",
    "if name == 'Batman':\n",
    "    print('Hello Batman!')\n",
    "elif name == 'Robin':\n",
    "    print('Hello Sidekick!')\n",
    "elif name == 'Alfred':\n",
    "    print('Hello Butler!')\n",
    "elif name == 'Nightwing':\n",
    "    print('Hello Kid')\n",
    "else:\n",
    "    print('Hello World!')"
   ]
  },
  {
   "cell_type": "markdown",
   "id": "050ccbc8-fae1-4095-8cb4-ae61e176ded7",
   "metadata": {},
   "source": [
    "*Can have multiple `elif`, but foresee this being super tedious.\\\n",
    "Have to key in if/ elif for each variable to check.*"
   ]
  },
  {
   "attachments": {},
   "cell_type": "markdown",
   "id": "8d4db08a",
   "metadata": {},
   "source": [
    "# 2 Asking questions"
   ]
  },
  {
   "cell_type": "markdown",
   "id": "7179bc15-c6b5-47d2-bdbc-7fdfe822833f",
   "metadata": {},
   "source": [
    "If want to use `if` to make decision, need to know how to ask questions.\\\n",
    "Example with 2 lists:"
   ]
  },
  {
   "cell_type": "code",
   "execution_count": 8,
   "id": "dc252ddf-64fe-44f3-ba7a-bdf4e91e122e",
   "metadata": {},
   "outputs": [],
   "source": [
    "fruits = ['apple', 'banana', 'pineapple', 'jackfruit']\n",
    "vegetables = ['celery', 'potato', 'broccoli', 'kale']"
   ]
  },
  {
   "cell_type": "markdown",
   "id": "17ad70d2-91b7-4691-aa39-13c953455b02",
   "metadata": {},
   "source": [
    "E.g. 1: Is 'apple' in the list `fruits`?"
   ]
  },
  {
   "cell_type": "code",
   "execution_count": 9,
   "id": "91afbf51-2c46-4ca3-ad66-7c899c717670",
   "metadata": {},
   "outputs": [
    {
     "data": {
      "text/plain": [
       "True"
      ]
     },
     "execution_count": 9,
     "metadata": {},
     "output_type": "execute_result"
    }
   ],
   "source": [
    "'apple' in fruits"
   ]
  },
  {
   "cell_type": "markdown",
   "id": "d78c41b1-3003-4c57-ac0c-46bdb935e02a",
   "metadata": {},
   "source": [
    "E.g. 2: Is 'peach' in the list `fruits`?"
   ]
  },
  {
   "cell_type": "code",
   "execution_count": 10,
   "id": "d9cc2c62-9900-416a-8ce8-8c3d1ecc23bd",
   "metadata": {},
   "outputs": [
    {
     "data": {
      "text/plain": [
       "False"
      ]
     },
     "execution_count": 10,
     "metadata": {},
     "output_type": "execute_result"
    }
   ],
   "source": [
    "'peach' in fruits"
   ]
  },
  {
   "cell_type": "markdown",
   "id": "58084937-324e-4a7a-97ee-dd9f12f2ba59",
   "metadata": {},
   "source": [
    "E.g. 3: Is 'peach' not in the list `fruits`?"
   ]
  },
  {
   "cell_type": "code",
   "execution_count": 11,
   "id": "fd7ed4a7-105a-46a0-9eac-1cd6c14991d7",
   "metadata": {},
   "outputs": [
    {
     "data": {
      "text/plain": [
       "True"
      ]
     },
     "execution_count": 11,
     "metadata": {},
     "output_type": "execute_result"
    }
   ],
   "source": [
    "'peach' not in fruits"
   ]
  },
  {
   "cell_type": "markdown",
   "id": "5556551c-7df3-48ff-99a4-defbc8af5337",
   "metadata": {},
   "source": [
    "E.g. 4: Is 'apple' in the list `fruits` **and** is 'celery' in the list `vegetables`?"
   ]
  },
  {
   "cell_type": "code",
   "execution_count": 12,
   "id": "9ec0050b-0485-4c81-8e79-c395cdd935c6",
   "metadata": {},
   "outputs": [
    {
     "data": {
      "text/plain": [
       "True"
      ]
     },
     "execution_count": 12,
     "metadata": {},
     "output_type": "execute_result"
    }
   ],
   "source": [
    "('apple' in fruits) and ('celery' in vegetables)"
   ]
  },
  {
   "cell_type": "markdown",
   "id": "c7b8aa33-41c2-42c6-b04a-58f5db53c78c",
   "metadata": {},
   "source": [
    "E.g. 5: Is 'apple' in the list `fruits` **or** is 'celery' in the list `vegetables`?"
   ]
  },
  {
   "cell_type": "code",
   "execution_count": 13,
   "id": "9930ddbf-e6c3-453c-8138-955e7feff787",
   "metadata": {},
   "outputs": [
    {
     "data": {
      "text/plain": [
       "True"
      ]
     },
     "execution_count": 13,
     "metadata": {},
     "output_type": "execute_result"
    }
   ],
   "source": [
    "('apple' in fruits) or ('celery' in vegetables)"
   ]
  },
  {
   "cell_type": "markdown",
   "id": "4fc622d7-e4df-4bcd-910e-4a0751ddec1b",
   "metadata": {},
   "source": [
    "E.g. 6: Is 'app' in 'apple'?"
   ]
  },
  {
   "cell_type": "code",
   "execution_count": 14,
   "id": "b9af2930-b0a6-43c0-a1aa-b9492af1ff05",
   "metadata": {},
   "outputs": [
    {
     "data": {
      "text/plain": [
       "True"
      ]
     },
     "execution_count": 14,
     "metadata": {},
     "output_type": "execute_result"
    }
   ],
   "source": [
    "'app' in 'apple'"
   ]
  },
  {
   "cell_type": "markdown",
   "id": "b1c722b9-e0da-405c-a505-971943489bf2",
   "metadata": {},
   "source": [
    "Useful Python keywords in asking questions: `not`, `in`, `and`, `or`.\\\n",
    "Basic Python can only compare similar things (types):\n",
    "- Numbers.\n",
    "- English.\n",
    "\n",
    "Exception is between English, which works as English letters are internally represented as numbers in Python."
   ]
  },
  {
   "cell_type": "code",
   "execution_count": 15,
   "id": "3ce0d3cc-a56d-42f3-a2aa-94e73b1d824f",
   "metadata": {},
   "outputs": [
    {
     "data": {
      "text/plain": [
       "False"
      ]
     },
     "execution_count": 15,
     "metadata": {},
     "output_type": "execute_result"
    }
   ],
   "source": [
    "3 > 10.5     # Works, comparing numbers."
   ]
  },
  {
   "cell_type": "code",
   "execution_count": 16,
   "id": "6d1f1077-8561-44d8-b699-fedf10aa1d0e",
   "metadata": {},
   "outputs": [
    {
     "ename": "TypeError",
     "evalue": "'>' not supported between instances of 'int' and 'str'",
     "output_type": "error",
     "traceback": [
      "\u001b[1;31m---------------------------------------------------------------------------\u001b[0m",
      "\u001b[1;31mTypeError\u001b[0m                                 Traceback (most recent call last)",
      "Cell \u001b[1;32mIn[16], line 1\u001b[0m\n\u001b[1;32m----> 1\u001b[0m \u001b[38;5;241;43m3\u001b[39;49m\u001b[43m \u001b[49m\u001b[38;5;241;43m>\u001b[39;49m\u001b[43m \u001b[49m\u001b[38;5;124;43m'\u001b[39;49m\u001b[38;5;124;43mapple\u001b[39;49m\u001b[38;5;124;43m'\u001b[39;49m  \u001b[38;5;66;03m# Does not work, compares numbers to English.\u001b[39;00m\n",
      "\u001b[1;31mTypeError\u001b[0m: '>' not supported between instances of 'int' and 'str'"
     ]
    }
   ],
   "source": [
    "3 > 'apple'  # Does not work, compares numbers to English."
   ]
  },
  {
   "cell_type": "code",
   "execution_count": 17,
   "id": "32fbf804-5a1c-4783-a0b9-21183a1d6eec",
   "metadata": {},
   "outputs": [
    {
     "data": {
      "text/plain": [
       "False"
      ]
     },
     "execution_count": 17,
     "metadata": {},
     "output_type": "execute_result"
    }
   ],
   "source": [
    "'apples' > 'oranges'"
   ]
  },
  {
   "attachments": {},
   "cell_type": "markdown",
   "id": "66184a7a",
   "metadata": {},
   "source": [
    "## 2.1 Asking Math questions"
   ]
  },
  {
   "cell_type": "markdown",
   "id": "c7ed15d5-80a8-4c41-9079-1bfd89153bb1",
   "metadata": {},
   "source": [
    "Useful symbols for asking mathematical questions:"
   ]
  },
  {
   "cell_type": "markdown",
   "id": "1d75e67f-1813-4658-89dd-bf96174f2cd0",
   "metadata": {},
   "source": [
    "|Question/ Condition|Math Symbol|Python Symbols|\n",
    "|:-|:-:|:-:|\n",
    "|Equals?|$=$|`==`|\n",
    "|Not equal?|$\\ne$|`!=`|\n",
    "|Less than?|$\\lt$|`<`|\n",
    "|Greater than?|$\\gt$|`>`|\n",
    "|Greater than or equal?|$\\leq$|`<=`|\n",
    "|Greater than or equal?|$\\geq$|`>=`|\n"
   ]
  },
  {
   "cell_type": "markdown",
   "id": "85d526d5-b655-4cdf-a69d-5369172f8682",
   "metadata": {},
   "source": [
    "Accepts all following syntax when asking the same question.\\\n",
    "All 3 lines mean the same thing in Python.\\\n",
    "May not be the case in other languages.\n",
    "\n",
    "Example: Is x greater than 5 but lesser than 15? Set x=10."
   ]
  },
  {
   "cell_type": "code",
   "execution_count": 18,
   "id": "03dcb905-805d-409b-a6ab-d7c7e178a8a4",
   "metadata": {},
   "outputs": [
    {
     "data": {
      "text/plain": [
       "True"
      ]
     },
     "execution_count": 18,
     "metadata": {},
     "output_type": "execute_result"
    }
   ],
   "source": [
    "x=10\n",
    "x > 5 and x < 15"
   ]
  },
  {
   "cell_type": "code",
   "execution_count": 19,
   "id": "401b463b-ef11-4299-b59a-22d71896b2df",
   "metadata": {},
   "outputs": [
    {
     "data": {
      "text/plain": [
       "True"
      ]
     },
     "execution_count": 19,
     "metadata": {},
     "output_type": "execute_result"
    }
   ],
   "source": [
    "x=10\n",
    "(x > 5) and (x < 15)"
   ]
  },
  {
   "cell_type": "code",
   "execution_count": 20,
   "id": "3adf557d-2d80-4b1b-b23c-1c4a53aa418d",
   "metadata": {},
   "outputs": [
    {
     "data": {
      "text/plain": [
       "True"
      ]
     },
     "execution_count": 20,
     "metadata": {},
     "output_type": "execute_result"
    }
   ],
   "source": [
    "x=10\n",
    "5 < x < 15"
   ]
  },
  {
   "cell_type": "markdown",
   "id": "3ed09478-eb69-4f09-b0c2-e987cf40e3db",
   "metadata": {},
   "source": [
    "Note the differences in format in answering the same question.\\\n",
    "Brackets increase the readability of the statement."
   ]
  },
  {
   "attachments": {},
   "cell_type": "markdown",
   "id": "f3988473",
   "metadata": {},
   "source": [
    "# 3 Python stores information in different formats or types"
   ]
  },
  {
   "cell_type": "markdown",
   "id": "f33708ab-5f53-4261-92b0-f7b8798b7395",
   "metadata": {},
   "source": [
    "4 different ways to store numbers using the number 1.234.\\\n",
    "`type()` asks Python how the info in stored."
   ]
  },
  {
   "cell_type": "markdown",
   "id": "4eeb88b3-f4fe-4055-8531-1b2bd36d4bd7",
   "metadata": {},
   "source": [
    "E.g. 1: As an integer `int()`.\\\n",
    "Note: this drops the decimal portion of the number."
   ]
  },
  {
   "cell_type": "code",
   "execution_count": 21,
   "id": "4205e961-6b8e-4696-8aef-76cc73121b55",
   "metadata": {},
   "outputs": [
    {
     "name": "stdout",
     "output_type": "stream",
     "text": [
      "1 <class 'int'>\n"
     ]
    }
   ],
   "source": [
    "x=int(1.234)\n",
    "print(x,type(x))"
   ]
  },
  {
   "cell_type": "markdown",
   "id": "4f39b78f-fcda-4d90-8432-5b54b464cda2",
   "metadata": {},
   "source": [
    "E.g. 2: As an English word `str()`.\\\n",
    "Note: 'str' is short for string."
   ]
  },
  {
   "cell_type": "code",
   "execution_count": 22,
   "id": "74ab8943-cc35-4698-a1db-780d98940b2e",
   "metadata": {},
   "outputs": [
    {
     "name": "stdout",
     "output_type": "stream",
     "text": [
      "1.234 <class 'str'>\n"
     ]
    }
   ],
   "source": [
    "x=str(1.234)\n",
    "print(x,type(x))"
   ]
  },
  {
   "cell_type": "markdown",
   "id": "2c9a7f4a-45f4-4003-bdfa-cfe4cc397e89",
   "metadata": {},
   "source": [
    "E.g. 3: As a decimal number `float()`."
   ]
  },
  {
   "cell_type": "code",
   "execution_count": 23,
   "id": "3a016034-e5fc-458d-9bed-b2ce8a9b7e4a",
   "metadata": {},
   "outputs": [
    {
     "name": "stdout",
     "output_type": "stream",
     "text": [
      "1.234 <class 'float'>\n"
     ]
    }
   ],
   "source": [
    "x=float(1.234)\n",
    "print(x,type(x))"
   ]
  },
  {
   "cell_type": "markdown",
   "id": "e46eaba3-9934-4c50-834f-33a35e92c44e",
   "metadata": {},
   "source": [
    "E.g. 4: As a complex number `complex()`."
   ]
  },
  {
   "cell_type": "code",
   "execution_count": 24,
   "id": "1404c765-d19c-422d-9950-069c324d6cdf",
   "metadata": {},
   "outputs": [
    {
     "name": "stdout",
     "output_type": "stream",
     "text": [
      "(1.234+0j) <class 'complex'>\n"
     ]
    }
   ],
   "source": [
    "x=complex(1.234)\n",
    "print(x,type(x))"
   ]
  },
  {
   "cell_type": "markdown",
   "id": "1c81e64e-8374-4173-83f3-66268f1b0767",
   "metadata": {},
   "source": [
    "Many other types of data available.\\\n",
    "Typecasting: converting value of single data type to another data type."
   ]
  },
  {
   "cell_type": "code",
   "execution_count": 25,
   "id": "41b5715e-d6b9-48da-b9b2-3c28dc0e728a",
   "metadata": {},
   "outputs": [
    {
     "name": "stdout",
     "output_type": "stream",
     "text": [
      "1.234 <class 'str'>\n",
      "1.234 <class 'float'>\n"
     ]
    }
   ],
   "source": [
    "x='1.234'\n",
    "print(x,type(x))\n",
    "\n",
    "x=float(x)        # Line converts 'str' to 'float'.\n",
    "print(x,type(x))"
   ]
  },
  {
   "attachments": {},
   "cell_type": "markdown",
   "id": "a06e595a",
   "metadata": {},
   "source": [
    "# 4 Never compare floats directly"
   ]
  },
  {
   "attachments": {},
   "cell_type": "markdown",
   "id": "d4817624",
   "metadata": {},
   "source": [
    "## 4.1 The Problem"
   ]
  },
  {
   "cell_type": "markdown",
   "id": "353ba8bf-5107-4ae4-8d1d-d4e3ce9e906a",
   "metadata": {},
   "source": [
    "Floating point numbers cannot be exactly stored in computer, limited by hardware and IEEE 754 standards.\\\n",
    "Leads to roundoff errors.\\\n",
    "Note: as long as it is a **decimal number**, this error will always happen."
   ]
  },
  {
   "cell_type": "markdown",
   "id": "8f4c3e1a-8412-4304-b98c-06abb60ceb0c",
   "metadata": {},
   "source": [
    "E.g.: Compare 0.1 $\\times$ 3 and 0.3. What exactly is '0.3' to 17 d.p.?"
   ]
  },
  {
   "cell_type": "code",
   "execution_count": 26,
   "id": "34a5420e-0015-4f1d-95a9-327fad211bed",
   "metadata": {},
   "outputs": [
    {
     "data": {
      "text/plain": [
       "False"
      ]
     },
     "execution_count": 26,
     "metadata": {},
     "output_type": "execute_result"
    }
   ],
   "source": [
    "a=0.1\n",
    "a3=0.3\n",
    "a*3==a3"
   ]
  },
  {
   "cell_type": "code",
   "execution_count": 27,
   "id": "3f06fd2a-28ea-4ff6-b134-d8d3d08daaa1",
   "metadata": {},
   "outputs": [
    {
     "data": {
      "text/plain": [
       "'0.29999999999999999'"
      ]
     },
     "execution_count": 27,
     "metadata": {},
     "output_type": "execute_result"
    }
   ],
   "source": [
    "f'{0.3:.17f}'"
   ]
  },
  {
   "cell_type": "markdown",
   "id": "f5aaf086-877f-4abc-9873-7432f7e9efb5",
   "metadata": {},
   "source": [
    "This shows that floating point numbers have roundoff errors."
   ]
  },
  {
   "attachments": {},
   "cell_type": "markdown",
   "id": "89938d61",
   "metadata": {},
   "source": [
    "## 4.2 A solution"
   ]
  },
  {
   "cell_type": "markdown",
   "id": "abbd49ca-f925-415f-9c12-a2609b457537",
   "metadata": {},
   "source": [
    "To resolve roundoff errors, check if variable is **close** to expected value instead of equality."
   ]
  },
  {
   "cell_type": "code",
   "execution_count": 28,
   "id": "f3cc218e-5364-4a1f-b30d-f513255c2737",
   "metadata": {},
   "outputs": [
    {
     "data": {
      "text/plain": [
       "True"
      ]
     },
     "execution_count": 28,
     "metadata": {},
     "output_type": "execute_result"
    }
   ],
   "source": [
    "eps=1E-10\n",
    "abs(a*3-a3)<eps"
   ]
  },
  {
   "cell_type": "code",
   "execution_count": 31,
   "id": "5f5a0ff4-bcf0-4cb0-b1e2-c8ad528bff04",
   "metadata": {},
   "outputs": [
    {
     "data": {
      "text/plain": [
       "True"
      ]
     },
     "execution_count": 31,
     "metadata": {},
     "output_type": "execute_result"
    }
   ],
   "source": [
    "import numpy as np\n",
    "np.isclose(a*3,a3)"
   ]
  },
  {
   "attachments": {},
   "cell_type": "markdown",
   "id": "c7c517dc",
   "metadata": {},
   "source": [
    "# 5 Combining English and variables"
   ]
  },
  {
   "cell_type": "markdown",
   "id": "4342cc05-4986-439f-bc13-934f437c86c3",
   "metadata": {},
   "source": [
    "Combining strings (i.e. English) with variables.\\\n",
    "Very valuable coding skill."
   ]
  },
  {
   "cell_type": "markdown",
   "id": "5406f931-6f5d-4513-98ba-a13d04b1cc72",
   "metadata": {},
   "source": [
    "Examples of combining text and variables:"
   ]
  },
  {
   "cell_type": "markdown",
   "id": "1c8dd63a-ae6c-48dc-bc5e-ebe653a310eb",
   "metadata": {},
   "source": [
    "E.g. 1:"
   ]
  },
  {
   "cell_type": "code",
   "execution_count": 37,
   "id": "c03f47fb-cc41-4a73-8ec0-602cedaf6f88",
   "metadata": {},
   "outputs": [
    {
     "name": "stdout",
     "output_type": "stream",
     "text": [
      "Hello Batman!\n"
     ]
    }
   ],
   "source": [
    "name=\"Batman\"\n",
    "print(f\"Hello {name}!\")"
   ]
  },
  {
   "cell_type": "markdown",
   "id": "797fa065-5aa0-4d8e-b782-cb16dc90ecdb",
   "metadata": {},
   "source": [
    "E.g. 2:"
   ]
  },
  {
   "cell_type": "code",
   "execution_count": 38,
   "id": "850eeeaf-2a08-4fd8-b353-c5a2ecd31cfd",
   "metadata": {},
   "outputs": [
    {
     "name": "stdout",
     "output_type": "stream",
     "text": [
      "Hello BATMAN!\n"
     ]
    }
   ],
   "source": [
    "name=\"Batman\"\n",
    "print(f\"Hello {name.upper()}!\")"
   ]
  },
  {
   "cell_type": "markdown",
   "id": "9bde5bc8-eabc-4c09-ae9f-6e36a04d84bf",
   "metadata": {},
   "source": [
    "E.g. 3:"
   ]
  },
  {
   "cell_type": "code",
   "execution_count": 39,
   "id": "362931b7-3358-42af-8248-c68ae9e5fe93",
   "metadata": {},
   "outputs": [
    {
     "name": "stdout",
     "output_type": "stream",
     "text": [
      "The value of 10 squared is 100!\n"
     ]
    }
   ],
   "source": [
    "x=10\n",
    "print(f\"The value of {x} squared is {x**2}!\")"
   ]
  },
  {
   "cell_type": "code",
   "execution_count": 41,
   "id": "2ba7fc49-6db0-406d-ae97-2b762301b14f",
   "metadata": {},
   "outputs": [
    {
     "name": "stdout",
     "output_type": "stream",
     "text": [
      "The value of {x} squared is {x**2}!\n"
     ]
    }
   ],
   "source": [
    "x=10\n",
    "print(\"The value of {x} squared is {x**2}!\")"
   ]
  },
  {
   "cell_type": "markdown",
   "id": "c39fc421-1a38-4fa4-a471-b63bb3cd72e5",
   "metadata": {},
   "source": [
    "Notice if f-string is not indicated, everything between \" \" is printed as text/ string.\\\n",
    "F-string (i.e. string interpolation) allows variables to be inserted/ interpolated into a line.\n",
    "- `f` is used to denote f-string.\n",
    "- `{}` is used to denote variables that are inserted in the f-string."
   ]
  },
  {
   "cell_type": "markdown",
   "id": "541d4a8d-f0be-4fac-87ba-2e8062dccf37",
   "metadata": {},
   "source": [
    "More examples with f-strings:"
   ]
  },
  {
   "cell_type": "markdown",
   "id": "220111fc-f44d-4b09-a039-4d0c062dd411",
   "metadata": {},
   "source": [
    "E.g. 1: Using f-strings to format text (strings)."
   ]
  },
  {
   "cell_type": "code",
   "execution_count": 66,
   "id": "f8f6fa30-46b2-4897-a00a-05ba6c9a5622",
   "metadata": {},
   "outputs": [
    {
     "name": "stdout",
     "output_type": "stream",
     "text": [
      "Bruce Wayne is Batman.\n",
      "        Bruce Wayne is Batman.\n",
      "    Bruce Wayne is Batman.    \n",
      "Bruce Wayne is Batman.        \n"
     ]
    }
   ],
   "source": [
    "text='Bruce Wayne is Batman.'\n",
    "print(f'{text}')\n",
    "print(f'{text:>30}')\n",
    "print(f'{text:^30}')\n",
    "print(f'{text:<30}')"
   ]
  },
  {
   "cell_type": "markdown",
   "id": "bf9ddea6-9bb1-4d82-8911-e96088351838",
   "metadata": {},
   "source": [
    "Number stated is used to denote the number of characters in a block.\\\n",
    "It will take alignment according to the **number of characters** specified and the **type of alignment** mentioned.\n",
    "\n",
    "Alignment formats:\n",
    "- Align left: `<`.\n",
    "- Align centre: `^`.\n",
    "- Align right: `>`."
   ]
  },
  {
   "cell_type": "markdown",
   "id": "27ffbdfa-bf96-49b0-a03e-21263e4597c0",
   "metadata": {},
   "source": [
    "E.g. 2: Using f-strings to format numbers."
   ]
  },
  {
   "cell_type": "code",
   "execution_count": 69,
   "id": "49fe415b-50e8-457e-900d-d78ef897959c",
   "metadata": {},
   "outputs": [
    {
     "name": "stdout",
     "output_type": "stream",
     "text": [
      "The cube of pi to 6 decimal places is 31.006277\n"
     ]
    }
   ],
   "source": [
    "print(f'The cube of pi to 6 decimal places is {np.pi**3:.6f}')"
   ]
  },
  {
   "cell_type": "markdown",
   "id": "afd8d5b3-7873-449e-ac2f-ba5a95e85b16",
   "metadata": {},
   "source": [
    "`f` in `.6f` used to tell f-string to output number in **decimal** notation."
   ]
  },
  {
   "cell_type": "code",
   "execution_count": 70,
   "id": "22f8ae84-d72f-4b66-acd4-65ce6a556ecd",
   "metadata": {},
   "outputs": [
    {
     "name": "stdout",
     "output_type": "stream",
     "text": [
      "The cube of pi to 6 decimal places is 3.100628e+01\n"
     ]
    }
   ],
   "source": [
    "print(f'The cube of pi to 6 decimal places is {np.pi**3:.6e}')"
   ]
  },
  {
   "cell_type": "markdown",
   "id": "16ed92c3-d434-4efb-8181-f56be45b7a32",
   "metadata": {},
   "source": [
    "`e` in `.6e` used to tell f-string to output number in **scientific** notation."
   ]
  },
  {
   "attachments": {},
   "cell_type": "markdown",
   "id": "2e7ae4f0",
   "metadata": {},
   "source": [
    "## 5.1 Structure of f-strings"
   ]
  },
  {
   "cell_type": "markdown",
   "id": "3845c67c-68f5-4205-93c1-d51a380b4166",
   "metadata": {},
   "source": [
    "Format: `{X:>0Y.ZW}`."
   ]
  },
  {
   "cell_type": "markdown",
   "id": "7dcbf124-936b-4669-977d-aeb4a968e0ba",
   "metadata": {},
   "source": [
    "|Letter|Action|Possible Options|\n",
    "|:-|:-|:-|\n",
    "|`X`|Variable to format|Can be number or string.|\n",
    "|`>`|Alignment|`<` (Left justified)<br>`^` (Centre justified)<br>`>` (Right justified)|\n",
    "|`0`|Use 0's to pad spaces|Can use other characters like space ` `.|\n",
    "|`Y`|Total number of characters||\n",
    "|`Z`|Number of decimal places||\n",
    "|`W`|Specifies type of variable|`f` (float)<br>`d` (integer)<br>`s` (string)<br>`g` (Asks Python to figure out)|"
   ]
  },
  {
   "attachments": {},
   "cell_type": "markdown",
   "id": "9cb450a5",
   "metadata": {},
   "source": [
    "# 6 Escape sequences"
   ]
  },
  {
   "cell_type": "code",
   "execution_count": null,
   "id": "6dac42c7-8ad9-469e-a040-12120365b85d",
   "metadata": {},
   "outputs": [],
   "source": []
  },
  {
   "attachments": {},
   "cell_type": "markdown",
   "id": "84044718",
   "metadata": {},
   "source": [
    "# 8 Computers read = from Right to Left!"
   ]
  },
  {
   "attachments": {},
   "cell_type": "markdown",
   "id": "7cb227d5",
   "metadata": {},
   "source": [
    "# 9 Shorter and Cleaner Code"
   ]
  },
  {
   "attachments": {},
   "cell_type": "markdown",
   "id": "5d0ba57d",
   "metadata": {},
   "source": [
    "# 10 Python can be a prima-donna."
   ]
  },
  {
   "attachments": {},
   "cell_type": "markdown",
   "id": "02037495",
   "metadata": {},
   "source": [
    "# 11 Best Practices for Scientific Computing"
   ]
  },
  {
   "attachments": {},
   "cell_type": "markdown",
   "id": "ea0d1bf8",
   "metadata": {},
   "source": [
    "# 12 Looking for help"
   ]
  },
  {
   "attachments": {},
   "cell_type": "markdown",
   "id": "65321e28",
   "metadata": {},
   "source": [
    "## References"
   ]
  },
  {
   "attachments": {},
   "cell_type": "markdown",
   "id": "941df8ce",
   "metadata": {},
   "source": [
    "## Footnotes"
   ]
  }
 ],
 "metadata": {
  "kernelspec": {
   "display_name": "Python 3 (ipykernel)",
   "language": "python",
   "name": "python3"
  },
  "language_info": {
   "codemirror_mode": {
    "name": "ipython",
    "version": 3
   },
   "file_extension": ".py",
   "mimetype": "text/x-python",
   "name": "python",
   "nbconvert_exporter": "python",
   "pygments_lexer": "ipython3",
   "version": "3.11.5"
  },
  "toc": {
   "base_numbering": 1,
   "nav_menu": {},
   "number_sections": true,
   "sideBar": true,
   "skip_h1_title": false,
   "title_cell": "Table of Contents",
   "title_sidebar": "Contents",
   "toc_cell": false,
   "toc_position": {},
   "toc_section_display": true,
   "toc_window_display": false
  },
  "vscode": {
   "interpreter": {
    "hash": "31f2aee4e71d21fbe5cf8b01ff0e069b9275f58929596ceb00d14d90e3e16cd6"
   }
  }
 },
 "nbformat": 4,
 "nbformat_minor": 5
}
