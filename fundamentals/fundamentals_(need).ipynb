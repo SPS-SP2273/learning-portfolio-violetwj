{
 "cells": [
  {
   "attachments": {},
   "cell_type": "markdown",
   "id": "123456",
   "metadata": {},
   "source": [
    "<div style=\"text-align:left;font-size:2em\"><span style=\"font-weight:bolder;font-size:1.25em\">SP2273 | Learning Portfolio</span><br><br><span style=\"font-weight:bold;color:darkred\">Fundamentals (Need)</span></div>"
   ]
  },
  {
   "attachments": {},
   "cell_type": "markdown",
   "id": "c79fb51d",
   "metadata": {},
   "source": [
    "# What to expect in this chapter"
   ]
  },
  {
   "cell_type": "code",
   "execution_count": 1,
   "id": "adb327ac-0e0e-4c8c-9bd1-f1bf547f7adc",
   "metadata": {},
   "outputs": [],
   "source": [
    "# Basic of Python.\n",
    "# Focus on syntax, indentations, and importing packages.\n",
    "# Tips on what to remember/ not remember to know what to watch out for."
   ]
  },
  {
   "attachments": {},
   "cell_type": "markdown",
   "id": "79025148",
   "metadata": {},
   "source": [
    "# 1 Functions"
   ]
  },
  {
   "cell_type": "code",
   "execution_count": 4,
   "id": "b68d18e1-4e33-49a9-a9be-e6005720c986",
   "metadata": {},
   "outputs": [
    {
     "name": "stdout",
     "output_type": "stream",
     "text": [
      "Hello World!\n"
     ]
    }
   ],
   "source": [
    "print('Hello World!')"
   ]
  },
  {
   "cell_type": "code",
   "execution_count": 21,
   "id": "ee723a48-bc43-441c-9e67-dd1b80de7afe",
   "metadata": {},
   "outputs": [],
   "source": [
    "# print() is core function.\n",
    "# Function: 'something' that does a specific task.\n",
    "# Can think of it as a math function: input --(processed by function)--> output.\n",
    "\n",
    "# The 'input' here is argument.\n",
    "# Parentheses '()' used to pass arguments; can be empty if not required.\n",
    "\n",
    "# Core functions are in-built into Python.\n",
    "# Can also define our own functions.\n",
    "\n",
    "# print('Hello World!') is known as code.\n",
    "# Code: instructions written using syntax that the programming language understands."
   ]
  },
  {
   "attachments": {},
   "cell_type": "markdown",
   "id": "166d1e9f",
   "metadata": {},
   "source": [
    "# 2 Python is interpreted"
   ]
  },
  {
   "cell_type": "code",
   "execution_count": 8,
   "id": "f83a8947-afac-4d88-81ec-2d98ce441e64",
   "metadata": {},
   "outputs": [],
   "source": [
    "# 'Python' is interpreter.\n",
    "# Interpreter works sequentially, one at a time.\n",
    "# If there are multiple lines in code cell, it will run the 1st line, then the next line.\n",
    "# Interpreter stops when it encounters error in command that it is currently executing."
   ]
  },
  {
   "cell_type": "code",
   "execution_count": 7,
   "id": "fb44d7df-2319-423e-a022-184876e42db3",
   "metadata": {},
   "outputs": [
    {
     "name": "stdout",
     "output_type": "stream",
     "text": [
      "Hello World\n",
      "Hello World again\n"
     ]
    }
   ],
   "source": [
    "print('Hello World')\n",
    "print('Hello World again')"
   ]
  },
  {
   "attachments": {},
   "cell_type": "markdown",
   "id": "2d368c39",
   "metadata": {},
   "source": [
    "# 3 Python is sensitive."
   ]
  },
  {
   "cell_type": "code",
   "execution_count": null,
   "id": "00d7b788-7d2e-4924-9683-a4154fb7199e",
   "metadata": {},
   "outputs": [],
   "source": [
    "# Case sensitive.\n",
    "# Print() vs print()."
   ]
  },
  {
   "cell_type": "code",
   "execution_count": 11,
   "id": "7c412271-0e95-4f39-8d5a-27b7c7c0b9f0",
   "metadata": {},
   "outputs": [
    {
     "name": "stdout",
     "output_type": "stream",
     "text": [
      "Hello World\n"
     ]
    },
    {
     "ename": "NameError",
     "evalue": "name 'Print' is not defined",
     "output_type": "error",
     "traceback": [
      "\u001b[1;31m---------------------------------------------------------------------------\u001b[0m",
      "\u001b[1;31mNameError\u001b[0m                                 Traceback (most recent call last)",
      "Cell \u001b[1;32mIn[11], line 2\u001b[0m\n\u001b[0;32m      1\u001b[0m \u001b[38;5;28mprint\u001b[39m(\u001b[38;5;124m'\u001b[39m\u001b[38;5;124mHello World\u001b[39m\u001b[38;5;124m'\u001b[39m)\n\u001b[1;32m----> 2\u001b[0m \u001b[43mPrint\u001b[49m(\u001b[38;5;124m'\u001b[39m\u001b[38;5;124mHello World\u001b[39m\u001b[38;5;124m'\u001b[39m) \u001b[38;5;66;03m# They don't recognise 'Print()' function.\u001b[39;00m\n",
      "\u001b[1;31mNameError\u001b[0m: name 'Print' is not defined"
     ]
    }
   ],
   "source": [
    "print('Hello World')\n",
    "Print('Hello World') # They don't recognise 'Print()' function."
   ]
  },
  {
   "attachments": {},
   "cell_type": "markdown",
   "id": "9019b3d9",
   "metadata": {},
   "source": [
    "# 4 Comments"
   ]
  },
  {
   "cell_type": "code",
   "execution_count": 12,
   "id": "cee6e282-6e75-4456-bb67-9370cd45b37d",
   "metadata": {},
   "outputs": [],
   "source": [
    "# Insert comment with '#'.\n",
    "# Anything between # and end of line is considered as comment."
   ]
  },
  {
   "cell_type": "code",
   "execution_count": 14,
   "id": "5d147937-f343-4efa-aa32-49f23b0f018e",
   "metadata": {},
   "outputs": [
    {
     "name": "stdout",
     "output_type": "stream",
     "text": [
      "One\n",
      "Three\n"
     ]
    }
   ],
   "source": [
    "# This is a comment\n",
    "print('One')              # This is a comment.\n",
    "# print('Two')            # The interpreter ignores this line.\n",
    "print('Three')            # This is\n",
    "                          # also a way to\n",
    "                          # write comments"
   ]
  },
  {
   "cell_type": "code",
   "execution_count": 24,
   "id": "11d525d2-c630-4d75-9753-77a0f4c0f13a",
   "metadata": {},
   "outputs": [],
   "source": [
    "# Comments are for readability.\n",
    "# Main thing is used to help self understand purpose of code."
   ]
  },
  {
   "cell_type": "code",
   "execution_count": 16,
   "id": "6e89387a-b420-4a2a-9088-1a50d066dbd8",
   "metadata": {},
   "outputs": [
    {
     "name": "stdout",
     "output_type": "stream",
     "text": [
      "Hello world\n"
     ]
    }
   ],
   "source": [
    "print(\"Hello world\" )     # Printing \"Hello World.\"; reduntant comment."
   ]
  },
  {
   "attachments": {},
   "cell_type": "markdown",
   "id": "08fed0ce",
   "metadata": {},
   "source": [
    "# 5 = is not the same as =="
   ]
  },
  {
   "cell_type": "code",
   "execution_count": 25,
   "id": "ee9e44a3-6f21-4c76-ad58-b02b2fdc3319",
   "metadata": {},
   "outputs": [],
   "source": [
    "# '=' is used to set something equal.\n",
    "# '==' is used to check if something is equal (i.e. asking question).\n",
    "# Note that = gives no output, while == gives an output."
   ]
  },
  {
   "cell_type": "code",
   "execution_count": 26,
   "id": "d15d0ad0-abe2-417a-8091-0fa9584182e0",
   "metadata": {},
   "outputs": [
    {
     "name": "stdout",
     "output_type": "stream",
     "text": [
      "Hello Batman!\n"
     ]
    }
   ],
   "source": [
    "name = 'Batman'\n",
    "\n",
    "if name == 'Batman':\n",
    "    print('Hello Batman!')\n",
    "else:\n",
    "    print('Hello World!')"
   ]
  },
  {
   "attachments": {},
   "cell_type": "markdown",
   "id": "b0b61261",
   "metadata": {},
   "source": [
    "# 6 Use if to make decisions"
   ]
  },
  {
   "cell_type": "code",
   "execution_count": 27,
   "id": "39379934-7401-4c3c-9551-4d366fe2e1a0",
   "metadata": {},
   "outputs": [
    {
     "name": "stdout",
     "output_type": "stream",
     "text": [
      "Hello Batman!\n"
     ]
    }
   ],
   "source": [
    "name = 'Batman'\n",
    "\n",
    "if name == 'Batman':\n",
    "    print('Hello Batman!')\n",
    "else:\n",
    "    print('Hello World!')"
   ]
  },
  {
   "cell_type": "code",
   "execution_count": 28,
   "id": "ddb96d0d-17f8-4643-a286-946f313e7de1",
   "metadata": {},
   "outputs": [],
   "source": [
    "# 'if' statement used to make decisions, and branch flow of program.\n",
    "# 'if' tests a condition and whether the answer is True/ False.\n",
    "# Note use of ':' and indentations (spaces, tabs) to define what to do based on answer."
   ]
  },
  {
   "attachments": {},
   "cell_type": "markdown",
   "id": "219a870b",
   "metadata": {},
   "source": [
    "# 7 Indentations (spaces) are sooo IMPORTANT!"
   ]
  },
  {
   "cell_type": "code",
   "execution_count": 30,
   "id": "f861730f-fac0-49e7-af41-ac9bcfd188d2",
   "metadata": {},
   "outputs": [
    {
     "ename": "IndentationError",
     "evalue": "unexpected indent (3840535622.py, line 5)",
     "output_type": "error",
     "traceback": [
      "\u001b[1;36m  Cell \u001b[1;32mIn[30], line 5\u001b[1;36m\u001b[0m\n\u001b[1;33m    print(x)\u001b[0m\n\u001b[1;37m    ^\u001b[0m\n\u001b[1;31mIndentationError\u001b[0m\u001b[1;31m:\u001b[0m unexpected indent\n"
     ]
    }
   ],
   "source": [
    "x = 10\n",
    "print(x)\n",
    "\n",
    "x = 10\n",
    " print(x)"
   ]
  },
  {
   "cell_type": "code",
   "execution_count": 39,
   "id": "23813e08-b6c4-462a-82de-e5b67b67799c",
   "metadata": {},
   "outputs": [],
   "source": [
    "# Note that indent (space) before code does not work.\n",
    "# Cf. if statement; uses indentation to separate T/F.\n",
    "# For if statement, it auto-indents on next line after if line."
   ]
  },
  {
   "cell_type": "code",
   "execution_count": 41,
   "id": "3f408ed3-0a5a-4f62-9c03-1357e57f9dbc",
   "metadata": {},
   "outputs": [
    {
     "ename": "IndentationError",
     "evalue": "expected an indented block after 'if' statement on line 3 (3568954828.py, line 4)",
     "output_type": "error",
     "traceback": [
      "\u001b[1;36m  Cell \u001b[1;32mIn[41], line 4\u001b[1;36m\u001b[0m\n\u001b[1;33m    print('Hello Batman!')\u001b[0m\n\u001b[1;37m    ^\u001b[0m\n\u001b[1;31mIndentationError\u001b[0m\u001b[1;31m:\u001b[0m expected an indented block after 'if' statement on line 3\n"
     ]
    }
   ],
   "source": [
    "name = 'Batman'\n",
    "\n",
    "if name == 'Batman':\n",
    "print('Hello Batman!')\n",
    "else:\n",
    "    print('Hello World!')"
   ]
  },
  {
   "cell_type": "code",
   "execution_count": 46,
   "id": "15192795-20c0-4333-b3c5-c3cace442a4f",
   "metadata": {},
   "outputs": [],
   "source": [
    "# Python easy to read due to indentation.\n",
    "# Other languages (e.g. C++, R) use brackets.\n",
    "\n",
    "# Example in R:\n",
    "# if (name == 'Batman') {\n",
    "#   print('Hello Hero | Batman!')\n",
    "# } else {\n",
    "#   print('Hello World!')\n",
    "# }"
   ]
  },
  {
   "cell_type": "code",
   "execution_count": 47,
   "id": "9ca20857-2ec7-41b4-837b-f6063ce41bad",
   "metadata": {},
   "outputs": [],
   "source": [
    "# Indentations are crucial, don't use them indiscriminantly.\n",
    "# ':' used to designate a block of code."
   ]
  },
  {
   "attachments": {},
   "cell_type": "markdown",
   "id": "050fb2a2",
   "metadata": {},
   "source": [
    "# 8 ‘age’ is English, age is a variable."
   ]
  },
  {
   "cell_type": "code",
   "execution_count": 49,
   "id": "fa8a36a1-0fab-4e88-b591-7051a41dde44",
   "metadata": {},
   "outputs": [],
   "source": [
    "# Variables: 'things' that can hold info.\n",
    "# All variables possible except keywords used in Python: if, for, while, is.\n",
    "# Best to provide name that describe data carried.\n",
    "\n",
    "# Example:\n",
    "# a = 24\n",
    "# age = 24\n",
    "# student_age = 24"
   ]
  },
  {
   "cell_type": "code",
   "execution_count": 50,
   "id": "e1170de3-3c03-4529-b594-6e77b858eb10",
   "metadata": {},
   "outputs": [],
   "source": [
    "# Do not mix up English with variables.\n",
    "# Variable 'age' must be assigned a value for it to work.\n",
    "# Python will complain about unassigned variables."
   ]
  },
  {
   "cell_type": "code",
   "execution_count": 51,
   "id": "9f0cd5e9-a1b7-4791-b451-6b547f473087",
   "metadata": {},
   "outputs": [
    {
     "ename": "NameError",
     "evalue": "name 'age' is not defined",
     "output_type": "error",
     "traceback": [
      "\u001b[1;31m---------------------------------------------------------------------------\u001b[0m",
      "\u001b[1;31mNameError\u001b[0m                                 Traceback (most recent call last)",
      "Cell \u001b[1;32mIn[51], line 1\u001b[0m\n\u001b[1;32m----> 1\u001b[0m \u001b[38;5;28mprint\u001b[39m(\u001b[43mage\u001b[49m)     \u001b[38;5;66;03m# Print value of variable age.\u001b[39;00m\n\u001b[0;32m      2\u001b[0m \u001b[38;5;28mprint\u001b[39m(\u001b[38;5;124m\"\u001b[39m\u001b[38;5;124mage\u001b[39m\u001b[38;5;124m\"\u001b[39m)   \u001b[38;5;66;03m# Print English word 'age'.\u001b[39;00m\n",
      "\u001b[1;31mNameError\u001b[0m: name 'age' is not defined"
     ]
    }
   ],
   "source": [
    "print(age)     # Print value of variable age.\n",
    "print(\"age\")   # Print English word 'age'."
   ]
  },
  {
   "cell_type": "code",
   "execution_count": 52,
   "id": "5edd3494-d15d-4aa3-a37d-63401e740873",
   "metadata": {},
   "outputs": [
    {
     "name": "stdout",
     "output_type": "stream",
     "text": [
      "10\n"
     ]
    }
   ],
   "source": [
    "age = 10\n",
    "print(age)"
   ]
  },
  {
   "cell_type": "code",
   "execution_count": 53,
   "id": "dbaffb96-1ec6-44b3-9f1c-8f53c7a87855",
   "metadata": {},
   "outputs": [],
   "source": [
    "# Can use either ' ' or \" \".\n",
    "# Good to be consistent with 1 of them in code.\n",
    "# Might need both sometimes."
   ]
  },
  {
   "cell_type": "code",
   "execution_count": 55,
   "id": "8860e7b8-7de1-4ea0-95e7-5067cfafe430",
   "metadata": {},
   "outputs": [
    {
     "ename": "SyntaxError",
     "evalue": "unterminated string literal (detected at line 1) (523689188.py, line 1)",
     "output_type": "error",
     "traceback": [
      "\u001b[1;36m  Cell \u001b[1;32mIn[55], line 1\u001b[1;36m\u001b[0m\n\u001b[1;33m    print('You're twenty years old.')\u001b[0m\n\u001b[1;37m                                   ^\u001b[0m\n\u001b[1;31mSyntaxError\u001b[0m\u001b[1;31m:\u001b[0m unterminated string literal (detected at line 1)\n"
     ]
    }
   ],
   "source": [
    "print('You're twenty years old.')"
   ]
  },
  {
   "cell_type": "code",
   "execution_count": 56,
   "id": "8f7fd0a1-5f4d-443a-b4de-9bc89b0d3a01",
   "metadata": {},
   "outputs": [
    {
     "name": "stdout",
     "output_type": "stream",
     "text": [
      "You're twenty years old.\n"
     ]
    }
   ],
   "source": [
    "print(\"You're twenty years old.\")"
   ]
  },
  {
   "attachments": {},
   "cell_type": "markdown",
   "id": "8a973edc",
   "metadata": {},
   "source": [
    "# 9 Brackets"
   ]
  },
  {
   "cell_type": "code",
   "execution_count": null,
   "id": "6ce4c21d-8230-4631-b73c-7335bafe96d0",
   "metadata": {},
   "outputs": [],
   "source": []
  },
  {
   "attachments": {},
   "cell_type": "markdown",
   "id": "5714c0eb",
   "metadata": {},
   "source": [
    "# 16 Giving Python superpowers with Packages"
   ]
  },
  {
   "attachments": {},
   "cell_type": "markdown",
   "id": "a744d739",
   "metadata": {},
   "source": [
    "## 16.1 Some Context"
   ]
  },
  {
   "attachments": {},
   "cell_type": "markdown",
   "id": "2381ed85",
   "metadata": {},
   "source": [
    "## 16.2 Importing the math package"
   ]
  },
  {
   "attachments": {},
   "cell_type": "markdown",
   "id": "ff86114a",
   "metadata": {},
   "source": [
    "## 16.3 Importing the numpy package"
   ]
  },
  {
   "attachments": {},
   "cell_type": "markdown",
   "id": "48aa4130",
   "metadata": {},
   "source": [
    "## 16.4 Why so many packages?"
   ]
  },
  {
   "attachments": {},
   "cell_type": "markdown",
   "id": "5a561153",
   "metadata": {},
   "source": [
    "# 18 The dot (.)"
   ]
  },
  {
   "attachments": {},
   "cell_type": "markdown",
   "id": "bdf30fbc",
   "metadata": {},
   "source": [
    "## Footnotes"
   ]
  }
 ],
 "metadata": {
  "kernelspec": {
   "display_name": "Python 3 (ipykernel)",
   "language": "python",
   "name": "python3"
  },
  "language_info": {
   "codemirror_mode": {
    "name": "ipython",
    "version": 3
   },
   "file_extension": ".py",
   "mimetype": "text/x-python",
   "name": "python",
   "nbconvert_exporter": "python",
   "pygments_lexer": "ipython3",
   "version": "3.11.5"
  },
  "toc": {
   "base_numbering": 1,
   "nav_menu": {},
   "number_sections": true,
   "sideBar": true,
   "skip_h1_title": false,
   "title_cell": "Table of Contents",
   "title_sidebar": "Contents",
   "toc_cell": false,
   "toc_position": {},
   "toc_section_display": true,
   "toc_window_display": false
  },
  "vscode": {
   "interpreter": {
    "hash": "31f2aee4e71d21fbe5cf8b01ff0e069b9275f58929596ceb00d14d90e3e16cd6"
   }
  }
 },
 "nbformat": 4,
 "nbformat_minor": 5
}
