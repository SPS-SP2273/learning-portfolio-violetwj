{
 "cells": [
  {
   "attachments": {},
   "cell_type": "markdown",
   "id": "123456",
   "metadata": {},
   "source": [
    "<div style=\"text-align:left;font-size:2em\"><span style=\"font-weight:bolder;font-size:1.25em\">SP2273 | Learning Portfolio</span><br><br><span style=\"font-weight:bold;color:darkred\">Fundamentals (Need)</span></div>"
   ]
  },
  {
   "attachments": {},
   "cell_type": "markdown",
   "id": "c79fb51d",
   "metadata": {},
   "source": [
    "# What to expect in this chapter"
   ]
  },
  {
   "cell_type": "markdown",
   "id": "e2bbed61-7de2-4d6b-8a62-75ba831be206",
   "metadata": {},
   "source": [
    "Basic of Python.\\\n",
    "Focus on syntax, indentations, and importing packages.\\\n",
    "Tips on what to remember/ not remember to know what to watch out for.\n",
    "\n",
    "Note: Can use `'\\'` at the end of line for line break, in addition to `<br>`."
   ]
  },
  {
   "attachments": {},
   "cell_type": "markdown",
   "id": "79025148",
   "metadata": {},
   "source": [
    "# 1 Functions"
   ]
  },
  {
   "cell_type": "code",
   "execution_count": 4,
   "id": "b68d18e1-4e33-49a9-a9be-e6005720c986",
   "metadata": {},
   "outputs": [
    {
     "name": "stdout",
     "output_type": "stream",
     "text": [
      "Hello World!\n"
     ]
    }
   ],
   "source": [
    "print('Hello World!')"
   ]
  },
  {
   "cell_type": "markdown",
   "id": "75afdddd-2c60-407b-8184-41155674d3ea",
   "metadata": {},
   "source": [
    "`print()` is core function.\\\n",
    "Function: 'something' that does a specific task.\\\n",
    "Can think of it as a math function: input --(processed by function)--> output.\n",
    "\n",
    "The 'input' here is argument.\\\n",
    "Parentheses '()' used to pass arguments; can be empty if not required.\n",
    "\n",
    "Core functions are in-built into Python.\\\n",
    "Can also define our own functions.\n",
    "\n",
    "`print('Hello World!')` is known as code.\\\n",
    "Code: instructions written using syntax that the programming language understands."
   ]
  },
  {
   "attachments": {},
   "cell_type": "markdown",
   "id": "166d1e9f",
   "metadata": {},
   "source": [
    "# 2 Python is interpreted"
   ]
  },
  {
   "cell_type": "markdown",
   "id": "57eaa833-5c96-4362-a8a3-9ccf8f7dc0bc",
   "metadata": {},
   "source": [
    "'Python' is interpreter.\\\n",
    "Interpreter works sequentially, one at a time.\\\n",
    "If there are multiple lines in code cell, it will run the 1st line, then the next line.\\\n",
    "Interpreter stops when it encounters error in command that it is currently executing."
   ]
  },
  {
   "cell_type": "code",
   "execution_count": 7,
   "id": "fb44d7df-2319-423e-a022-184876e42db3",
   "metadata": {},
   "outputs": [
    {
     "name": "stdout",
     "output_type": "stream",
     "text": [
      "Hello World\n",
      "Hello World again\n"
     ]
    }
   ],
   "source": [
    "print('Hello World')\n",
    "print('Hello World again')"
   ]
  },
  {
   "attachments": {},
   "cell_type": "markdown",
   "id": "2d368c39",
   "metadata": {},
   "source": [
    "# 3 Python is sensitive."
   ]
  },
  {
   "cell_type": "markdown",
   "id": "8fdaf44a-9938-472a-8562-3db377feae03",
   "metadata": {},
   "source": [
    "Case sensitive.\\\n",
    "`Print()` vs `print()`."
   ]
  },
  {
   "cell_type": "code",
   "execution_count": 4,
   "id": "7c412271-0e95-4f39-8d5a-27b7c7c0b9f0",
   "metadata": {},
   "outputs": [
    {
     "name": "stdout",
     "output_type": "stream",
     "text": [
      "Hello World\n"
     ]
    },
    {
     "ename": "NameError",
     "evalue": "name 'Print' is not defined",
     "output_type": "error",
     "traceback": [
      "\u001b[1;31m---------------------------------------------------------------------------\u001b[0m",
      "\u001b[1;31mNameError\u001b[0m                                 Traceback (most recent call last)",
      "Cell \u001b[1;32mIn[4], line 2\u001b[0m\n\u001b[0;32m      1\u001b[0m \u001b[38;5;28mprint\u001b[39m(\u001b[38;5;124m'\u001b[39m\u001b[38;5;124mHello World\u001b[39m\u001b[38;5;124m'\u001b[39m)\n\u001b[1;32m----> 2\u001b[0m \u001b[43mPrint\u001b[49m(\u001b[38;5;124m'\u001b[39m\u001b[38;5;124mHello World\u001b[39m\u001b[38;5;124m'\u001b[39m)     \u001b[38;5;66;03m# They don't recognise 'Print()' function.\u001b[39;00m\n",
      "\u001b[1;31mNameError\u001b[0m: name 'Print' is not defined"
     ]
    }
   ],
   "source": [
    "print('Hello World')\n",
    "Print('Hello World')     # They don't recognise 'Print()' function."
   ]
  },
  {
   "attachments": {},
   "cell_type": "markdown",
   "id": "9019b3d9",
   "metadata": {},
   "source": [
    "# 4 Comments"
   ]
  },
  {
   "cell_type": "markdown",
   "id": "79fba321-c508-4d5b-8fc6-d6842f39cfca",
   "metadata": {},
   "source": [
    "Insert comment with '#'.\\\n",
    "Anything between # and end of line is considered as comment."
   ]
  },
  {
   "cell_type": "code",
   "execution_count": 14,
   "id": "5d147937-f343-4efa-aa32-49f23b0f018e",
   "metadata": {},
   "outputs": [
    {
     "name": "stdout",
     "output_type": "stream",
     "text": [
      "One\n",
      "Three\n"
     ]
    }
   ],
   "source": [
    "# This is a comment\n",
    "print('One')              # This is a comment.\n",
    "# print('Two')            # The interpreter ignores this line.\n",
    "print('Three')            # This is\n",
    "                          # also a way to\n",
    "                          # write comments"
   ]
  },
  {
   "cell_type": "markdown",
   "id": "84896522-597f-468a-b7f7-2a23f3a4c46b",
   "metadata": {},
   "source": [
    "Comments are for readability.\\\n",
    "Main thing is used to help self understand purpose of code."
   ]
  },
  {
   "cell_type": "code",
   "execution_count": 16,
   "id": "6e89387a-b420-4a2a-9088-1a50d066dbd8",
   "metadata": {},
   "outputs": [
    {
     "name": "stdout",
     "output_type": "stream",
     "text": [
      "Hello world\n"
     ]
    }
   ],
   "source": [
    "print(\"Hello world\" )     # Printing \"Hello World.\"; reduntant comment."
   ]
  },
  {
   "attachments": {},
   "cell_type": "markdown",
   "id": "08fed0ce",
   "metadata": {},
   "source": [
    "# 5 = is not the same as =="
   ]
  },
  {
   "cell_type": "markdown",
   "id": "1d42ed02-44fa-4cda-aab9-c31dc0d412fa",
   "metadata": {},
   "source": [
    "'=' is used to set something equal.\\\n",
    "'==' is used to check if something is equal (i.e. asking question).\\\n",
    "Note that = gives no output, while == gives an output."
   ]
  },
  {
   "cell_type": "code",
   "execution_count": 26,
   "id": "d15d0ad0-abe2-417a-8091-0fa9584182e0",
   "metadata": {},
   "outputs": [
    {
     "name": "stdout",
     "output_type": "stream",
     "text": [
      "Hello Batman!\n"
     ]
    }
   ],
   "source": [
    "name = 'Batman'\n",
    "\n",
    "if name == 'Batman':\n",
    "    print('Hello Batman!')\n",
    "else:\n",
    "    print('Hello World!')"
   ]
  },
  {
   "attachments": {},
   "cell_type": "markdown",
   "id": "b0b61261",
   "metadata": {},
   "source": [
    "# 6 Use if to make decisions"
   ]
  },
  {
   "cell_type": "code",
   "execution_count": 27,
   "id": "39379934-7401-4c3c-9551-4d366fe2e1a0",
   "metadata": {},
   "outputs": [
    {
     "name": "stdout",
     "output_type": "stream",
     "text": [
      "Hello Batman!\n"
     ]
    }
   ],
   "source": [
    "name = 'Batman'\n",
    "\n",
    "if name == 'Batman':\n",
    "    print('Hello Batman!')\n",
    "else:\n",
    "    print('Hello World!')"
   ]
  },
  {
   "cell_type": "markdown",
   "id": "0361a26b-d89f-4fd4-8bd7-a64ba4b746c7",
   "metadata": {},
   "source": [
    "'If' statement used to make decisions, and branch flow of program.\\\n",
    "'If' tests a condition and whether the answer is True/ False.\\\n",
    "Note use of ':' and indentations (spaces, tabs) to define what to do based on answer."
   ]
  },
  {
   "attachments": {},
   "cell_type": "markdown",
   "id": "219a870b",
   "metadata": {},
   "source": [
    "# 7 Indentations (spaces) are sooo IMPORTANT!"
   ]
  },
  {
   "cell_type": "code",
   "execution_count": 30,
   "id": "f861730f-fac0-49e7-af41-ac9bcfd188d2",
   "metadata": {},
   "outputs": [
    {
     "ename": "IndentationError",
     "evalue": "unexpected indent (3840535622.py, line 5)",
     "output_type": "error",
     "traceback": [
      "\u001b[1;36m  Cell \u001b[1;32mIn[30], line 5\u001b[1;36m\u001b[0m\n\u001b[1;33m    print(x)\u001b[0m\n\u001b[1;37m    ^\u001b[0m\n\u001b[1;31mIndentationError\u001b[0m\u001b[1;31m:\u001b[0m unexpected indent\n"
     ]
    }
   ],
   "source": [
    "x = 10\n",
    "print(x)\n",
    "\n",
    "x = 10\n",
    " print(x)"
   ]
  },
  {
   "cell_type": "markdown",
   "id": "ea5ea112-bc9f-4e0b-af43-a1bf8e8a4ded",
   "metadata": {},
   "source": [
    "Note that indent (space) before code does not work.\\\n",
    "Cf. 'if' statement; uses indentation to separate T/F.\\\n",
    "For 'if' statement, it auto-indents on next line after if line."
   ]
  },
  {
   "cell_type": "code",
   "execution_count": 1,
   "id": "3f408ed3-0a5a-4f62-9c03-1357e57f9dbc",
   "metadata": {},
   "outputs": [
    {
     "ename": "IndentationError",
     "evalue": "expected an indented block after 'if' statement on line 3 (4152813027.py, line 4)",
     "output_type": "error",
     "traceback": [
      "\u001b[1;36m  Cell \u001b[1;32mIn[1], line 4\u001b[1;36m\u001b[0m\n\u001b[1;33m    print('Hello Batman!')  # Note this line does not have indentation after 'print...'.\u001b[0m\n\u001b[1;37m    ^\u001b[0m\n\u001b[1;31mIndentationError\u001b[0m\u001b[1;31m:\u001b[0m expected an indented block after 'if' statement on line 3\n"
     ]
    }
   ],
   "source": [
    "name = 'Batman'\n",
    "\n",
    "if name == 'Batman':\n",
    "print('Hello Batman!')  # Note this line does not have indentation after 'print...'.\n",
    "else:\n",
    "    print('Hello World!')"
   ]
  },
  {
   "cell_type": "markdown",
   "id": "f1c925f2-a702-4b6c-a7e0-fd206520b716",
   "metadata": {},
   "source": [
    "Python easy to read due to indentation.\\\n",
    "Other languages (e.g. C++, R) use brackets.\n",
    "\n",
    "Example in R:\n",
    "```R\n",
    "if (name == 'Batman') {\n",
    "  print('Hello Hero | Batman!')\n",
    "} else {\n",
    "  print('Hello World!')\n",
    "}\n",
    "```"
   ]
  },
  {
   "cell_type": "markdown",
   "id": "86a455ad-4609-4dd5-93b7-84f5e41376d0",
   "metadata": {},
   "source": [
    "Indentations are crucial, don't use them indiscriminantly.\\\n",
    "':' used to designate a block of code."
   ]
  },
  {
   "attachments": {},
   "cell_type": "markdown",
   "id": "050fb2a2",
   "metadata": {},
   "source": [
    "# 8 ‘age’ is English, age is a variable."
   ]
  },
  {
   "cell_type": "markdown",
   "id": "c577bc56-1282-4bcb-94b3-1353d63576b4",
   "metadata": {},
   "source": [
    "Variables: 'things' that can hold info.\\\n",
    "All variables possible except keywords used in Python: if, for, while, is.\\\n",
    "Best to provide name that describe data carried.\n",
    "\n",
    "Example:\n",
    "- a = 24\n",
    "- age = 24\n",
    "- student_age = 24"
   ]
  },
  {
   "cell_type": "markdown",
   "id": "054f14b1-a9bb-42bb-b8d4-498607a3b5fe",
   "metadata": {},
   "source": [
    "Do not mix up English with variables.\\\n",
    "Variable 'age' must be assigned a value for it to work.\\\n",
    "Python will complain about unassigned variables."
   ]
  },
  {
   "cell_type": "code",
   "execution_count": 51,
   "id": "9f0cd5e9-a1b7-4791-b451-6b547f473087",
   "metadata": {},
   "outputs": [
    {
     "ename": "NameError",
     "evalue": "name 'age' is not defined",
     "output_type": "error",
     "traceback": [
      "\u001b[1;31m---------------------------------------------------------------------------\u001b[0m",
      "\u001b[1;31mNameError\u001b[0m                                 Traceback (most recent call last)",
      "Cell \u001b[1;32mIn[51], line 1\u001b[0m\n\u001b[1;32m----> 1\u001b[0m \u001b[38;5;28mprint\u001b[39m(\u001b[43mage\u001b[49m)     \u001b[38;5;66;03m# Print value of variable age.\u001b[39;00m\n\u001b[0;32m      2\u001b[0m \u001b[38;5;28mprint\u001b[39m(\u001b[38;5;124m\"\u001b[39m\u001b[38;5;124mage\u001b[39m\u001b[38;5;124m\"\u001b[39m)   \u001b[38;5;66;03m# Print English word 'age'.\u001b[39;00m\n",
      "\u001b[1;31mNameError\u001b[0m: name 'age' is not defined"
     ]
    }
   ],
   "source": [
    "print(age)     # Print value of variable age.\n",
    "print(\"age\")   # Print English word 'age'."
   ]
  },
  {
   "cell_type": "code",
   "execution_count": 52,
   "id": "5edd3494-d15d-4aa3-a37d-63401e740873",
   "metadata": {},
   "outputs": [
    {
     "name": "stdout",
     "output_type": "stream",
     "text": [
      "10\n"
     ]
    }
   ],
   "source": [
    "age = 10\n",
    "print(age)"
   ]
  },
  {
   "cell_type": "markdown",
   "id": "c1aa0a83-8359-40f8-b6dc-416fc8b934af",
   "metadata": {},
   "source": [
    "Can use either ' ' or \" \".\\\n",
    "Good to be consistent with 1 of them in code.\\\n",
    "Might need both sometimes."
   ]
  },
  {
   "cell_type": "code",
   "execution_count": 55,
   "id": "8860e7b8-7de1-4ea0-95e7-5067cfafe430",
   "metadata": {},
   "outputs": [
    {
     "ename": "SyntaxError",
     "evalue": "unterminated string literal (detected at line 1) (523689188.py, line 1)",
     "output_type": "error",
     "traceback": [
      "\u001b[1;36m  Cell \u001b[1;32mIn[55], line 1\u001b[1;36m\u001b[0m\n\u001b[1;33m    print('You're twenty years old.')\u001b[0m\n\u001b[1;37m                                   ^\u001b[0m\n\u001b[1;31mSyntaxError\u001b[0m\u001b[1;31m:\u001b[0m unterminated string literal (detected at line 1)\n"
     ]
    }
   ],
   "source": [
    "print('You're twenty years old.')"
   ]
  },
  {
   "cell_type": "code",
   "execution_count": 56,
   "id": "8f7fd0a1-5f4d-443a-b4de-9bc89b0d3a01",
   "metadata": {},
   "outputs": [
    {
     "name": "stdout",
     "output_type": "stream",
     "text": [
      "You're twenty years old.\n"
     ]
    }
   ],
   "source": [
    "print(\"You're twenty years old.\")"
   ]
  },
  {
   "attachments": {},
   "cell_type": "markdown",
   "id": "8a973edc",
   "metadata": {},
   "source": [
    "# 9 Brackets"
   ]
  },
  {
   "cell_type": "markdown",
   "id": "da2bdd33-81d5-43a4-ae1d-4fccb21f2562",
   "metadata": {},
   "source": [
    "Python uses all three types of brackets:\n",
    "- Round brackets: ( ).\n",
    "- Sqaure brackets: [ ].\n",
    "- Curly brackets: { }."
   ]
  },
  {
   "cell_type": "markdown",
   "id": "0572fa20-f999-4a24-aa2a-b52e9dbe6a2b",
   "metadata": {},
   "source": [
    "E.g. 1: `( )` used in calls to function."
   ]
  },
  {
   "cell_type": "code",
   "execution_count": 5,
   "id": "bf236ad0-f26e-435e-b2d4-a78014322d9d",
   "metadata": {},
   "outputs": [
    {
     "name": "stdout",
     "output_type": "stream",
     "text": [
      "Hello!\n"
     ]
    }
   ],
   "source": [
    "print('Hello!')"
   ]
  },
  {
   "cell_type": "markdown",
   "id": "e02e17d8-4da0-4389-b6e7-84864c9c21be",
   "metadata": {},
   "source": [
    "E.g. 2: `( )` used for mathematics."
   ]
  },
  {
   "cell_type": "code",
   "execution_count": 6,
   "id": "84f3550a-cf0e-4113-a63a-8450369e00b4",
   "metadata": {},
   "outputs": [
    {
     "data": {
      "text/plain": [
       "15"
      ]
     },
     "execution_count": 6,
     "metadata": {},
     "output_type": "execute_result"
    }
   ],
   "source": [
    "(1+2)*5"
   ]
  },
  {
   "cell_type": "markdown",
   "id": "6f5b60f1-1d6f-489e-a14c-457551473f17",
   "metadata": {},
   "source": [
    "E.g. 3: `[ ]` used for lists of data. Can be 1D, 2D (shown) or higher dimensions (not shown).\\\n",
    "Note: there are better ways of holding lists within lists (i.e. multi-dimensional lists), e.g. dictionary. More practical for 3D and above."
   ]
  },
  {
   "cell_type": "code",
   "execution_count": 12,
   "id": "93f7fbdc-6ac8-4651-b058-bc7b6617bc1e",
   "metadata": {},
   "outputs": [],
   "source": [
    "py_list = [1,2,3,4,5]  # 1D list.\n",
    "\n",
    "py_list_2 = [          # 2D list.\n",
    "    [1,\"A\"],\n",
    "    [2,\"B\"],\n",
    "    [3,\"C\"],\n",
    "    [4,\"D\"],\n",
    "    [5,\"E\"]\n",
    "]"
   ]
  },
  {
   "cell_type": "markdown",
   "id": "7380ed86-bdbe-4bc3-927c-3af98a719004",
   "metadata": {},
   "source": [
    "E.g. 4: `{ }` to store data in 'thing' called dictionary.\\\n",
    "Note: dictionary uses __key__ to identify __value__, to store data and quickly access info."
   ]
  },
  {
   "cell_type": "code",
   "execution_count": 15,
   "id": "ae99ee8a-5204-4622-9fba-1de161805804",
   "metadata": {},
   "outputs": [],
   "source": [
    "personal_info = {\n",
    "    'Names': 'Batman',\n",
    "    'Real Name': 'Bruce Wayne',      # 'Real Name' is key, 'Bruce Wayne' is value.\n",
    "    'Age': 55,\n",
    "    'Affliation': 'Justice League',\n",
    "    'Universe': 'DC'\n",
    "}"
   ]
  },
  {
   "cell_type": "code",
   "execution_count": 14,
   "id": "93db0371-1d47-4141-a6f8-21ed5999ab71",
   "metadata": {},
   "outputs": [
    {
     "name": "stdout",
     "output_type": "stream",
     "text": [
      "Bruce Wayne\n"
     ]
    }
   ],
   "source": [
    "print(personal_info['Real Name'])"
   ]
  },
  {
   "attachments": {},
   "cell_type": "markdown",
   "id": "5714c0eb",
   "metadata": {},
   "source": [
    "# 10 Giving Python superpowers with Packages"
   ]
  },
  {
   "attachments": {},
   "cell_type": "markdown",
   "id": "a744d739",
   "metadata": {},
   "source": [
    "## 10.1 Some Context"
   ]
  },
  {
   "cell_type": "markdown",
   "id": "61b1229c-9e60-4f4e-becf-5734a5edcb5a",
   "metadata": {},
   "source": [
    "Imbue Python with newer functionalities with **packages**.\\\n",
    "Examples of doing mathematics:\\\n",
    "E.g. 1:\n",
    "$$\n",
    "\\dfrac {1\\times((2-3)+4)^5}{6}\n",
    "$$\n",
    "Note 1: `**` is raising to the power in Python code.\\\n",
    "Note 2: Need not include the brackets for numerator."
   ]
  },
  {
   "cell_type": "code",
   "execution_count": 7,
   "id": "3f5d0195-960f-4e37-b494-4e50c1a6cf82",
   "metadata": {},
   "outputs": [
    {
     "data": {
      "text/plain": [
       "40.5"
      ]
     },
     "execution_count": 7,
     "metadata": {},
     "output_type": "execute_result"
    }
   ],
   "source": [
    "(1*((2-3)+4)**5)/6"
   ]
  },
  {
   "cell_type": "markdown",
   "id": "6e184e4f-3293-41b7-88f5-9326394b5368",
   "metadata": {},
   "source": [
    "E.g. 2:\n",
    "$$\n",
    "\\sqrt4\n",
    "$$\n",
    "Note: Does not work, basic Python is limited."
   ]
  },
  {
   "cell_type": "code",
   "execution_count": 8,
   "id": "27fa0595-08f6-4759-af43-506457ababc0",
   "metadata": {},
   "outputs": [
    {
     "ename": "NameError",
     "evalue": "name 'sqrt' is not defined",
     "output_type": "error",
     "traceback": [
      "\u001b[1;31m---------------------------------------------------------------------------\u001b[0m",
      "\u001b[1;31mNameError\u001b[0m                                 Traceback (most recent call last)",
      "Cell \u001b[1;32mIn[8], line 1\u001b[0m\n\u001b[1;32m----> 1\u001b[0m \u001b[43msqrt\u001b[49m(\u001b[38;5;241m4\u001b[39m)\n",
      "\u001b[1;31mNameError\u001b[0m: name 'sqrt' is not defined"
     ]
    }
   ],
   "source": [
    "sqrt(4)"
   ]
  },
  {
   "attachments": {},
   "cell_type": "markdown",
   "id": "2381ed85",
   "metadata": {},
   "source": [
    "## 10.2 Importing the math package"
   ]
  },
  {
   "cell_type": "markdown",
   "id": "fbf161c6-169e-4db9-b47f-ed2399c2209d",
   "metadata": {},
   "source": [
    "Import 'math' package so that `sqrt()` works.\\\n",
    "Import packages by `import [package]`\\\n",
    "Add 'math.' before the function to use the relevant functions from the 'math' package."
   ]
  },
  {
   "cell_type": "code",
   "execution_count": 13,
   "id": "a96c0312-5a23-41d7-8094-f176653e0629",
   "metadata": {},
   "outputs": [
    {
     "data": {
      "text/plain": [
       "2.0"
      ]
     },
     "execution_count": 13,
     "metadata": {},
     "output_type": "execute_result"
    }
   ],
   "source": [
    "import math   # Line to import 'math' package.\n",
    "math.sqrt(4)"
   ]
  },
  {
   "attachments": {},
   "cell_type": "markdown",
   "id": "ff86114a",
   "metadata": {},
   "source": [
    "## 10.3 Importing the numpy package"
   ]
  },
  {
   "cell_type": "markdown",
   "id": "09609a6f-5dbd-45b2-8a42-e05191dae5cf",
   "metadata": {},
   "source": [
    "Import 'numpy' package so that `sqrt()` works.\\\n",
    "Same with 'math' package, add 'np.' for 'numpy' package.\\\n",
    "`as` function allows 'numpy' to be renamed as the alias 'np'."
   ]
  },
  {
   "cell_type": "code",
   "execution_count": 11,
   "id": "2497e4c0-540e-4544-807c-d7f07a5a0a27",
   "metadata": {},
   "outputs": [
    {
     "data": {
      "text/plain": [
       "2.0"
      ]
     },
     "execution_count": 11,
     "metadata": {},
     "output_type": "execute_result"
    }
   ],
   "source": [
    "import numpy as np\n",
    "np.sqrt(4)"
   ]
  },
  {
   "attachments": {},
   "cell_type": "markdown",
   "id": "48aa4130",
   "metadata": {},
   "source": [
    "## 10.4 Why so many packages?"
   ]
  },
  {
   "cell_type": "markdown",
   "id": "d17ae94b-7089-4bfd-88e8-a878f0273c30",
   "metadata": {},
   "source": [
    "Different packages exit due to different capabilities and efficiencies.\\\n",
    "Example in the case of `sqrt()`, comparing 'math' VS 'numpy':"
   ]
  },
  {
   "cell_type": "code",
   "execution_count": 16,
   "id": "b8b6bce6-fbd2-459e-827b-c390426e7622",
   "metadata": {},
   "outputs": [
    {
     "data": {
      "text/plain": [
       "array([2., 3., 4.])"
      ]
     },
     "execution_count": 16,
     "metadata": {},
     "output_type": "execute_result"
    }
   ],
   "source": [
    "np.sqrt([4,9,16])    # Numpy works for lists."
   ]
  },
  {
   "cell_type": "code",
   "execution_count": 17,
   "id": "bd2e3545-7ec7-440e-bee8-7d7691589c97",
   "metadata": {},
   "outputs": [
    {
     "ename": "TypeError",
     "evalue": "must be real number, not list",
     "output_type": "error",
     "traceback": [
      "\u001b[1;31m---------------------------------------------------------------------------\u001b[0m",
      "\u001b[1;31mTypeError\u001b[0m                                 Traceback (most recent call last)",
      "Cell \u001b[1;32mIn[17], line 1\u001b[0m\n\u001b[1;32m----> 1\u001b[0m \u001b[43mmath\u001b[49m\u001b[38;5;241;43m.\u001b[39;49m\u001b[43msqrt\u001b[49m\u001b[43m(\u001b[49m\u001b[43m[\u001b[49m\u001b[38;5;241;43m4\u001b[39;49m\u001b[43m,\u001b[49m\u001b[38;5;241;43m9\u001b[39;49m\u001b[43m,\u001b[49m\u001b[38;5;241;43m16\u001b[39;49m\u001b[43m]\u001b[49m\u001b[43m)\u001b[49m  \u001b[38;5;66;03m# Math doesn't work for lists.\u001b[39;00m\n",
      "\u001b[1;31mTypeError\u001b[0m: must be real number, not list"
     ]
    }
   ],
   "source": [
    "math.sqrt([4,9,16])  # Math doesn't work for lists."
   ]
  },
  {
   "cell_type": "markdown",
   "id": "9adb9675-2e3e-4119-a0f6-58b7aae0bff7",
   "metadata": {},
   "source": [
    "Points to note:\n",
    "- Packages must be imported only once; Python remembers functions until Python is restarted.\n",
    "- Import functions at start of file. Saves the hassle later on.\n",
    "- There are different ways to import packages (with and without 'alias)."
   ]
  },
  {
   "attachments": {},
   "cell_type": "markdown",
   "id": "5a561153",
   "metadata": {},
   "source": [
    "# 11 The dot (.)"
   ]
  },
  {
   "cell_type": "markdown",
   "id": "8344523c-e862-4779-aa37-e35848969022",
   "metadata": {},
   "source": [
    "Dot '.' used to indicate ownership.\\\n",
    "E.g.:\n",
    "- math.sqrt(4): `sqrt()` belongs to math module.\n",
    "- np.sqrt(4): `sqrt()` belongs to NumPy.\n",
    "\n",
    "Note the difference between module and package.\n",
    "- Module: **single** file with Python code.\n",
    "- Package: **collection** of Python modules."
   ]
  },
  {
   "cell_type": "markdown",
   "id": "c21a800d-c5df-47f0-938c-86ad8500be17",
   "metadata": {},
   "source": [
    "Everything in Python has functions and attributes belonging to them, which are accessed with '.'.\\\n",
    "However, some things won't work, like splitting numbers.\\\n",
    "What '.' can access depends on context."
   ]
  },
  {
   "cell_type": "code",
   "execution_count": 22,
   "id": "4c8fc907-52b5-4756-a18f-e34a674ef852",
   "metadata": {},
   "outputs": [
    {
     "data": {
      "text/plain": [
       "['I', 'am', 'Batman']"
      ]
     },
     "execution_count": 22,
     "metadata": {},
     "output_type": "execute_result"
    }
   ],
   "source": [
    "\"I am Batman\".split()"
   ]
  },
  {
   "cell_type": "code",
   "execution_count": 23,
   "id": "bf057cd9-c2f7-4999-bcf0-7bc001de4a44",
   "metadata": {},
   "outputs": [
    {
     "ename": "SyntaxError",
     "evalue": "invalid decimal literal (3897031440.py, line 1)",
     "output_type": "error",
     "traceback": [
      "\u001b[1;36m  Cell \u001b[1;32mIn[23], line 1\u001b[1;36m\u001b[0m\n\u001b[1;33m    1234.split()\u001b[0m\n\u001b[1;37m        ^\u001b[0m\n\u001b[1;31mSyntaxError\u001b[0m\u001b[1;31m:\u001b[0m invalid decimal literal\n"
     ]
    }
   ],
   "source": [
    "1234.split()"
   ]
  },
  {
   "attachments": {},
   "cell_type": "markdown",
   "id": "bdf30fbc",
   "metadata": {},
   "source": [
    "## Footnotes"
   ]
  }
 ],
 "metadata": {
  "kernelspec": {
   "display_name": "Python 3 (ipykernel)",
   "language": "python",
   "name": "python3"
  },
  "language_info": {
   "codemirror_mode": {
    "name": "ipython",
    "version": 3
   },
   "file_extension": ".py",
   "mimetype": "text/x-python",
   "name": "python",
   "nbconvert_exporter": "python",
   "pygments_lexer": "ipython3",
   "version": "3.11.5"
  },
  "toc": {
   "base_numbering": 1,
   "nav_menu": {},
   "number_sections": true,
   "sideBar": true,
   "skip_h1_title": false,
   "title_cell": "Table of Contents",
   "title_sidebar": "Contents",
   "toc_cell": false,
   "toc_position": {},
   "toc_section_display": true,
   "toc_window_display": false
  },
  "vscode": {
   "interpreter": {
    "hash": "31f2aee4e71d21fbe5cf8b01ff0e069b9275f58929596ceb00d14d90e3e16cd6"
   }
  }
 },
 "nbformat": 4,
 "nbformat_minor": 5
}
