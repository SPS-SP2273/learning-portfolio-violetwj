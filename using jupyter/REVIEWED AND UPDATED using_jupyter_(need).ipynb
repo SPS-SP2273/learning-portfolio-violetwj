{
 "cells": [
  {
   "attachments": {},
   "cell_type": "markdown",
   "id": "123456",
   "metadata": {},
   "source": [
    "<div style=\"text-align:left;font-size:2em\"><span style=\"font-weight:bolder;font-size:1.25em\">SP2273 | Learning Portfolio</span><br><br><span style=\"font-weight:bold;color:darkred\">Using Jupyter (Need)</span></div>"
   ]
  },
  {
   "cell_type": "markdown",
   "id": "aec9b635-ed0e-4d3c-ae46-84423b66b619",
   "metadata": {},
   "source": [
    "# What to expect in this chapter"
   ]
  },
  {
   "cell_type": "markdown",
   "id": "289d0840-555e-4334-b08c-98acc4f45336",
   "metadata": {},
   "source": [
    "Make own notes based on the guide provided.\\\n",
    "Notes should show an understanding and application of the things learnt here."
   ]
  },
  {
   "attachments": {},
   "cell_type": "markdown",
   "id": "b5076d95",
   "metadata": {
    "editable": true,
    "slideshow": {
     "slide_type": ""
    },
    "tags": []
   },
   "source": [
    "# 1 Getting ready"
   ]
  },
  {
   "cell_type": "markdown",
   "id": "968fe6f4-76dd-4419-8278-7476e0117c83",
   "metadata": {},
   "source": [
    "Create new Jupyter notebook: File -> New -> Notebook.\\\n",
    "Select kernel: Python 3 (ipykernel).\\\n",
    "Rename file: Click 'Untitled', rename accordingly."
   ]
  },
  {
   "attachments": {},
   "cell_type": "markdown",
   "id": "ccec7283",
   "metadata": {},
   "source": [
    "# 2 Getting started with Jupyter"
   ]
  },
  {
   "attachments": {},
   "cell_type": "markdown",
   "id": "4acf0607",
   "metadata": {},
   "source": [
    "## 2.1 It is all about running cells"
   ]
  },
  {
   "cell_type": "markdown",
   "id": "55a74182-9392-49c7-b6d1-3ed4bfe5ed48",
   "metadata": {},
   "source": [
    "2 types of cells:\n",
    "- Code cell: uses Python to run code.\n",
    "- Markdown cell: shows nice text, images, or description of what you are doing."
   ]
  },
  {
   "cell_type": "markdown",
   "id": "02547cb9-f7a8-4c0c-8744-b8714df79cf3",
   "metadata": {},
   "source": [
    "Run code using Ctrl + Enter."
   ]
  },
  {
   "attachments": {},
   "cell_type": "markdown",
   "id": "e0b2427a",
   "metadata": {},
   "source": [
    "## 2.2 A traditional start"
   ]
  },
  {
   "cell_type": "markdown",
   "id": "571f2fe4-a74a-402d-8810-ec6c964ac264",
   "metadata": {},
   "source": []
  },
  {
   "cell_type": "markdown",
   "id": "dcb5ea2c-47f4-4906-8e4c-7cf1cde5a18f",
   "metadata": {},
   "source": [
    "Default new cells are code cells.\\\n",
    "Change cell to type that is desired by selecting the dropdown on toolbar and change accordingly.\\\n",
    "Options include:\n",
    "- '-'.\n",
    "- Code.\n",
    "- Markdown.\n",
    "- Raw."
   ]
  },
  {
   "attachments": {
    "2b5c5b46-9f00-41b0-adcf-3bbe97d874c7.png": {
     "image/png": "[encoded data removed]"
    }
   },
   "cell_type": "markdown",
   "id": "cd66e6d8-24ac-4b41-8202-dd3f4d1b8157",
   "metadata": {},
   "source": [
    "![image.png](attachment:2b5c5b46-9f00-41b0-adcf-3bbe97d874c7.png)"
   ]
  },
  {
   "cell_type": "code",
   "execution_count": 2,
   "id": "8906dbe0-c916-4345-9c6a-fa135e9994bf",
   "metadata": {},
   "outputs": [
    {
     "name": "stdout",
     "output_type": "stream",
     "text": [
      "Hello World!\n"
     ]
    }
   ],
   "source": [
    "print('Hello World!')"
   ]
  },
  {
   "attachments": {},
   "cell_type": "markdown",
   "id": "24751648",
   "metadata": {},
   "source": [
    "# 3 All about Markdown"
   ]
  },
  {
   "cell_type": "markdown",
   "id": "241e757b-0d89-4885-bd9c-548a25feb181",
   "metadata": {},
   "source": [
    "All these are for Markdown syntax, cannot run in code cells."
   ]
  },
  {
   "attachments": {},
   "cell_type": "markdown",
   "id": "6f095d88",
   "metadata": {},
   "source": [
    "## 3.1 Rendering Markdown cells"
   ]
  },
  {
   "cell_type": "markdown",
   "id": "6bcd14a0-d687-406e-b0ea-9bc5e4ba79c0",
   "metadata": {},
   "source": [
    "Esc + M to convert code cell to markdown cell.\\\n",
    "The ships hung in the sky in much the same way that bricks don’t.\n",
    "\n",
    "```\n",
    "No, I have not read 'The Hitchhiker's Guide to the Galaxy'...\n",
    "```"
   ]
  },
  {
   "attachments": {},
   "cell_type": "markdown",
   "id": "5c5857a4",
   "metadata": {},
   "source": [
    "## 3.2 Some basic syntax"
   ]
  },
  {
   "cell_type": "markdown",
   "id": "45c70e61-f710-4b9a-9569-ea739271d40c",
   "metadata": {},
   "source": [
    "Basic Markdown syntax:\n",
    "- Bold: `** **` or `__ __`.\n",
    "- Italic: `* *` or `_ _`.\n",
    "- All bold and italic: `*** ***` OR `___ ___`\n",
    "- Subscript: `<sub> </sub>`.\n",
    "- Superscript: `<sup> </sup>`.\n",
    "\n",
    "Note: `/` is needed to break the subscript/ superscript chain."
   ]
  },
  {
   "cell_type": "markdown",
   "id": "2dd24697-6d17-44e1-8298-b05561acc562",
   "metadata": {},
   "source": [
    "For subscript and superscript, can chain/ keep repeating:\n",
    "- Sub of sub of sub: <sub>subscript1<sub>subscript2<sub>subscript3</sub>.\n",
    "- Sup of sup of sup: <sup>subscript1<sup>subscript2<sup>subscript3</sup>."
   ]
  },
  {
   "cell_type": "markdown",
   "id": "e13a2f4f-aa9d-4fd5-90d1-98d8ad11d55c",
   "metadata": {},
   "source": [
    "No spaces between the symbols that embed the text.\\\n",
    "Note slight difference in line thickness for bold's **/__ and italic's */_; only viewable in code when text is embeded between syntax."
   ]
  },
  {
   "cell_type": "markdown",
   "id": "6d30bcca-8141-4f25-8eef-16f6fb408be4",
   "metadata": {},
   "source": [
    "The ships *hung in the sky* in much the same way that **bricks don't.**<sup>1</sup><sub>QUOTE</sub>"
   ]
  },
  {
   "attachments": {},
   "cell_type": "markdown",
   "id": "7fdca49a",
   "metadata": {},
   "source": [
    "## 3.3 Headings"
   ]
  },
  {
   "cell_type": "markdown",
   "id": "6b896b87-8eec-4a97-8041-70a879d40b50",
   "metadata": {},
   "source": [
    "Use `#` for headings.\\\n",
    "Max no. of `#` is 6 (i.e. max 6 heading sizes), but most practical up to 4."
   ]
  },
  {
   "cell_type": "markdown",
   "id": "9c384201-849b-4e84-bc78-f285d377a030",
   "metadata": {},
   "source": [
    "# The largest heading\n",
    "## The second-largest heading\n",
    "### The third-largest heading\n",
    "#### The smallest heading\n",
    "\n",
    "##### Smallest heading a lie?\n",
    "###### Is this the end?\n",
    "####### This is the end."
   ]
  },
  {
   "attachments": {},
   "cell_type": "markdown",
   "id": "d833b3e7",
   "metadata": {},
   "source": [
    "## 3.4 Displaying Code"
   ]
  },
  {
   "cell_type": "markdown",
   "id": "e8bb36ab-94a2-4c6a-ad61-37a21fb2898e",
   "metadata": {},
   "source": [
    "Use \\` to show code in Markdown cells, such that code is highlighted.\\\n",
    "Display code: \\` `.\n",
    "\n",
    "```\n",
    "Previously was using # on code cells for comment to show code..., have updated accordingly.\n",
    "```"
   ]
  },
  {
   "cell_type": "markdown",
   "id": "8b8e9caf-513a-4d1f-8c75-a0165b4025ec",
   "metadata": {},
   "source": [
    "`print('Hello World!')`"
   ]
  },
  {
   "cell_type": "markdown",
   "id": "5d243552-9745-4c96-bd6e-0b88a76a1560",
   "metadata": {},
   "source": [
    "Format to render how Python code will look like in Markdown, including colours.\\\n",
    "Applicable to other coding languages (e.g. C++, Java).\n",
    "\n",
    "Format (excluding `[]` and `\\`):\n",
    "```\n",
    "```[coding language]\n",
    "[code...]\n",
    "\\```\n",
    "```"
   ]
  },
  {
   "cell_type": "markdown",
   "id": "0eb55e7d-0ca9-4b70-bad2-f1d75725adf3",
   "metadata": {},
   "source": [
    "Python:\n",
    "```python\n",
    "print('Hello World!')\n",
    "```"
   ]
  },
  {
   "cell_type": "markdown",
   "id": "77010305-e799-449d-8e95-5d36ea5f6d7b",
   "metadata": {},
   "source": [
    "C++:\n",
    "```c++\n",
    "print('Hello World!')\n",
    "```"
   ]
  },
  {
   "cell_type": "markdown",
   "id": "95b8815e-b962-4538-9e3b-a8e486712f99",
   "metadata": {},
   "source": [
    "Java:\n",
    "```java\n",
    "print('Hello World!')\n",
    "```"
   ]
  },
  {
   "attachments": {},
   "cell_type": "markdown",
   "id": "12d11d8f",
   "metadata": {},
   "source": [
    "## 3.5 Links"
   ]
  },
  {
   "cell_type": "markdown",
   "id": "5c06a0b2-e412-458f-907e-6c9363bbd7f5",
   "metadata": {},
   "source": [
    "For Markdown.\\\n",
    "Format:\n",
    "```\n",
    "[display text](link address).\n",
    "```\n",
    "Remember to include 'https://'."
   ]
  },
  {
   "cell_type": "markdown",
   "id": "d22cd78e-ee72-4181-b315-73c526aa7fe5",
   "metadata": {},
   "source": [
    "[SP2273 Website](https://sps.nus.edu.sg/sp2273)."
   ]
  },
  {
   "attachments": {},
   "cell_type": "markdown",
   "id": "f2d53185",
   "metadata": {},
   "source": [
    "## 3.6 Images"
   ]
  },
  {
   "cell_type": "markdown",
   "id": "8a034592-50af-4c77-9369-75d289c65120",
   "metadata": {},
   "source": [
    "Format:\n",
    "```\n",
    "![](image address).\n",
    "```\n",
    "\n",
    "Images sources:\n",
    "- Website: copy image address and insert between the `()`.\n",
    "- Local device: copy filename.\n",
    "\n",
    "Note: might need copy image into folder with '.ipynb' to successfully load local images."
   ]
  },
  {
   "cell_type": "markdown",
   "id": "5cf0f366-4dcf-4219-a4fc-6fd8417a3408",
   "metadata": {},
   "source": [
    "![](https://nus.edu.sg/images/default-source/base/logo.png)"
   ]
  },
  {
   "attachments": {},
   "cell_type": "markdown",
   "id": "65493530",
   "metadata": {},
   "source": [
    "## 3.7 Tables"
   ]
  },
  {
   "cell_type": "markdown",
   "id": "5cd7f035-9dc8-427e-9b4d-9f43a26a4191",
   "metadata": {},
   "source": [
    "Format:\n",
    "```\n",
    "|A   |  B  |   C| (heading row)\n",
    "|:---|:---:|---:| (separation line between header and data rows)\n",
    "|a1  |  b1 |  c1| (data, start)\n",
    "|a2  |  b2 |  c2|\n",
    "|a3  |  b3 |  c3| (data, end)\n",
    "```\n",
    "Note 1: Spacing here is unnecessary, just included to make it look nice to see format.\\\n",
    "Note 2: No. of '-' doesn't matter, as long as there is 1."
   ]
  },
  {
   "cell_type": "markdown",
   "id": "ba7e3b24-3f80-4991-840a-8a750c07b89d",
   "metadata": {},
   "source": [
    "|A|B|C|\n",
    "|:---|:---:|---:|\n",
    "|a1|b1|c1|\n",
    "|a2|b2|c2|\n",
    "|a3|b3|c3|"
   ]
  },
  {
   "cell_type": "markdown",
   "id": "d14fee07-9b40-47d3-856b-02b13c961a70",
   "metadata": {},
   "source": [
    "Alignment for tables:\n",
    "- `:` used to align headings with column.\n",
    "- `-` used to distinguish heading from data, only treats 1 line before as heading.\n",
    "\n",
    "Left align: `:-`.\\\n",
    "Centre align: `:-:`.\\\n",
    "Right align: `-:`.\n",
    "\n",
    "1st line is headings, which is bolded and default centre align.\\\n",
    "Data lines are default left align."
   ]
  },
  {
   "cell_type": "markdown",
   "id": "f19266b1-f028-4ced-a500-741fade97c84",
   "metadata": {},
   "source": [
    "|Apples|Bananas|Carrots|\n",
    "|:-|:-:|-:|\n",
    "|a1|b1|c1|\n",
    "|a2|b2|c2|\n",
    "|a3|b3|c3|"
   ]
  },
  {
   "cell_type": "markdown",
   "id": "40c04bee-2ad5-4ed8-b69c-088a2d44c6aa",
   "metadata": {},
   "source": [
    "|Apples|Bananas|Carrots|\n",
    "|-|-|-|\n",
    "|a1|bananafunana1|c1|\n",
    "|appletoffee2|b2|c2|\n",
    "|a3|b3|carrotjuice3|"
   ]
  },
  {
   "attachments": {},
   "cell_type": "markdown",
   "id": "80d40813",
   "metadata": {},
   "source": [
    "## 3.8 Lists\n"
   ]
  },
  {
   "cell_type": "markdown",
   "id": "89221b2d-f7bd-4fe4-be9c-4e6f46c7cafd",
   "metadata": {},
   "source": [
    "Types of lists:\n",
    "- Numbered.\n",
    "- Unnumbered.\n",
    "- Combination: numbered-numbered, numbered-unnumbered.\n",
    "\n",
    "Format:\n",
    "- Numbering: '1.'.\n",
    "- Points: '-'.\n",
    "\n",
    "Sub-numbering order: '1.', 'A.', 'a.', 'i.'. Will loop back and remain at '1.'\\\n",
    "Sub-points order: solid dot, solid square, hollow dot. Will remain at hollow dots.\n",
    "\n",
    "Note 1: Numbers/ points for lists are automatically formatted accordingly.\\\n",
    "Note 2: Indicating '1.' for all in number lists will format accordingly."
   ]
  },
  {
   "cell_type": "markdown",
   "id": "e21a5255-d09b-44d8-9d86-cfc94ab4616b",
   "metadata": {},
   "source": [
    "1. Staple food.\n",
    "   1. Root vegetable.\n",
    "      1. Potato.\n",
    "         1. Mashed potato.\n",
    "            1. Shepard's pie.\n",
    "               1. French.\n",
    "1. Seasoning.\n",
    "1. Meat."
   ]
  },
  {
   "cell_type": "markdown",
   "id": "abdf2412-6f53-40f2-8134-4ed58397b9c4",
   "metadata": {},
   "source": [
    "- Banana.\n",
    "  - Green.\n",
    "  - Yellow.\n",
    "    - Dessert.\n",
    "    - Drink.\n",
    "      - Smoothie.\n",
    "        - Mix with milk and ice for milkshake.\n",
    "- Avocado.\n",
    "- Acai berry."
   ]
  },
  {
   "attachments": {},
   "cell_type": "markdown",
   "id": "8b6e0011",
   "metadata": {},
   "source": [
    "## 3.9 Equations"
   ]
  },
  {
   "cell_type": "markdown",
   "id": "793a6040-fedf-4b03-81db-e6807179076a",
   "metadata": {},
   "source": [
    "Math equations with MathJax, a LaTeX engine.\n",
    "\n",
    "Types:\n",
    "- Inline.\n",
    "- Math block.\n",
    "\n",
    "Format for inline (excluding `[]`): `$[equation]$`.\\\n",
    "Format for math block (excluding `[]`):\n",
    "```\n",
    "$$\n",
    "[equation]\n",
    "$$\n",
    "```\n",
    "\n",
    "Note: For equations, curly brackets `{}` are **not shown**, `()` and `[]` are **shown**. "
   ]
  },
  {
   "cell_type": "markdown",
   "id": "8669bec6-22c0-46ba-b751-a5bc727e934c",
   "metadata": {},
   "source": [
    "$\\sqrt{b^2-4ac}$"
   ]
  },
  {
   "cell_type": "markdown",
   "id": "b4dd9417-6615-4a45-8439-1524eda5c100",
   "metadata": {},
   "source": [
    "$$\n",
    "x = \\dfrac{-b \\pm \\sqrt{b^2-4ac}}{2a}\n",
    "$$"
   ]
  },
  {
   "cell_type": "markdown",
   "id": "43bb8591-8565-421a-af8e-d8f80e1765f1",
   "metadata": {},
   "source": [
    "$$\n",
    "(x+y)[sin(x)]^{a+b}\n",
    "$$"
   ]
  },
  {
   "cell_type": "markdown",
   "id": "14d16e21-8edf-461c-a823-53b14a9333cd",
   "metadata": {},
   "source": [
    "`\\` used to indicate symbol, accompanied by text to indicate which one it is.\\\n",
    "For symbols with boundary conditions:\n",
    "- Lower limit: `_`.\n",
    "- Upper limit: `^`.\n",
    "\n",
    "Note: Slight change in format between inline and math block for sum notation sigma.\n",
    "\n",
    "Many other helpful math commands, but should be intuitive if tried typing normally."
   ]
  },
  {
   "cell_type": "markdown",
   "id": "bd4a3b51-1ad4-49ca-a4dd-96e346c503e8",
   "metadata": {},
   "source": [
    "$\\int_{x^2}$\n",
    "$\\sum^{x^2}$\n",
    "$\\int_x^{x^2}$\n"
   ]
  },
  {
   "cell_type": "markdown",
   "id": "5fad53bc-0390-4437-b830-f8257ac70d8e",
   "metadata": {},
   "source": [
    "$$\n",
    "\\int_{x^2}\n",
    "\\sum^{x^2}\n",
    "\\int_x^{x^2}\n",
    "$$"
   ]
  },
  {
   "attachments": {},
   "cell_type": "markdown",
   "id": "dd13a2e9",
   "metadata": {},
   "source": [
    "## Footnotes"
   ]
  },
  {
   "cell_type": "markdown",
   "id": "2c473209-c99a-4957-8329-48342f285403",
   "metadata": {},
   "source": [
    "Might be using too many comments. Please advise haha.\\\n",
    "Resolved, edited comments into Markdown cells, formatted with `\\`, ``` and `."
   ]
  }
 ],
 "metadata": {
  "kernelspec": {
   "display_name": "Python 3 (ipykernel)",
   "language": "python",
   "name": "python3"
  },
  "language_info": {
   "codemirror_mode": {
    "name": "ipython",
    "version": 3
   },
   "file_extension": ".py",
   "mimetype": "text/x-python",
   "name": "python",
   "nbconvert_exporter": "python",
   "pygments_lexer": "ipython3",
   "version": "3.11.5"
  },
  "toc": {
   "base_numbering": 1,
   "nav_menu": {},
   "number_sections": true,
   "sideBar": true,
   "skip_h1_title": false,
   "title_cell": "Table of Contents",
   "title_sidebar": "Contents",
   "toc_cell": false,
   "toc_position": {},
   "toc_section_display": true,
   "toc_window_display": false
  },
  "vscode": {
   "interpreter": {
    "hash": "31f2aee4e71d21fbe5cf8b01ff0e069b9275f58929596ceb00d14d90e3e16cd6"
   }
  }
 },
 "nbformat": 4,
 "nbformat_minor": 5
}
