{
 "cells": [
  {
   "attachments": {},
   "cell_type": "markdown",
   "id": "123456",
   "metadata": {},
   "source": [
    "<div style=\"text-align:left;font-size:2em\"><span style=\"font-weight:bolder;font-size:1.25em\">SP2273 | Learning Portfolio</span><br><br><span style=\"font-weight:bold;color:darkred\">Loops (Need) Exercises</span></div>"
   ]
  },
  {
   "cell_type": "markdown",
   "id": "620538d4-6511-42a7-9b09-27df6806368b",
   "metadata": {},
   "source": [
    "# Exercise 1"
   ]
  },
  {
   "cell_type": "markdown",
   "id": "386c8853-0665-4590-b4fb-98d6706a6e0b",
   "metadata": {},
   "source": [
    "Convert each temperature to Fahrenheit and print both temperatures."
   ]
  },
  {
   "cell_type": "code",
   "execution_count": 30,
   "id": "a3138952-cf47-42cb-90dc-5bfbb95cb9e8",
   "metadata": {},
   "outputs": [],
   "source": [
    "temperature_celsius=[0,5,10,15,20,25,30,35,40,45,50]"
   ]
  },
  {
   "cell_type": "code",
   "execution_count": 60,
   "id": "56c8b696-156d-4af3-b5b3-9251db525d3f",
   "metadata": {},
   "outputs": [
    {
     "name": "stdout",
     "output_type": "stream",
     "text": [
      "[ 0  5 10 15 20 25 30 35 40 45 50]\n",
      "[ 32  41  50  59  68  77  86  95 104 113 122]\n"
     ]
    }
   ],
   "source": [
    "import numpy as np\n",
    "\n",
    "c_array=np.array(temperature_celsius)\n",
    "f_array=(c_array*9/5+32).astype(int)\n",
    "print(c_array)\n",
    "print(f_array)"
   ]
  },
  {
   "cell_type": "code",
   "execution_count": 62,
   "id": "e4dd1347-f1ef-4f4e-9bbb-e1338199b1dc",
   "metadata": {},
   "outputs": [
    {
     "name": "stdout",
     "output_type": "stream",
     "text": [
      "[32, 41, 50, 59, 68, 77, 86, 95, 104, 113, 122]\n"
     ]
    }
   ],
   "source": [
    "temperature_fahrenheit=f_array.tolist()\n",
    "print(temperature_fahrenheit)"
   ]
  },
  {
   "cell_type": "code",
   "execution_count": 70,
   "id": "5b317248-87d3-41fa-8272-0d1af24bff0e",
   "metadata": {},
   "outputs": [
    {
     "name": "stdout",
     "output_type": "stream",
     "text": [
      "0°C, 32°F\n",
      "5°C, 41°F\n",
      "10°C, 50°F\n",
      "15°C, 59°F\n",
      "20°C, 68°F\n",
      "25°C, 77°F\n",
      "30°C, 86°F\n",
      "35°C, 95°F\n",
      "40°C, 104°F\n",
      "45°C, 113°F\n",
      "50°C, 122°F\n"
     ]
    }
   ],
   "source": [
    "for index, c in enumerate(temperature_celsius):\n",
    "    f=temperature_fahrenheit[index]\n",
    "    print(f\"{c}\\N{degree sign}C, {f}\\N{degree sign}F\")"
   ]
  },
  {
   "cell_type": "markdown",
   "id": "7fbd8c0d-8e00-47c0-99f5-243532430e18",
   "metadata": {},
   "source": [
    "# Exercise 2"
   ]
  },
  {
   "cell_type": "markdown",
   "id": "37608335-9fe5-4d7d-9683-223dc341ccab",
   "metadata": {},
   "source": [
    "## Example:"
   ]
  },
  {
   "cell_type": "markdown",
   "id": "7e8198dd-476f-4c9f-85bc-a20f254d4a68",
   "metadata": {},
   "source": [
    "Double loop: loop within a loop."
   ]
  },
  {
   "cell_type": "code",
   "execution_count": 75,
   "id": "b89501f1-4de3-47a1-a0af-d7015dc11477",
   "metadata": {},
   "outputs": [
    {
     "name": "stdout",
     "output_type": "stream",
     "text": [
      "A1\tA2\tA3\t\n",
      "\n",
      "B1\tB2\tB3\t\n",
      "\n",
      "C1\tC2\tC3\t\n",
      "\n"
     ]
    }
   ],
   "source": [
    "for letter in ['A','B','C']:\n",
    "    for number in [1,2,3]:\n",
    "        print(f'{letter}{number}',end='\\t')  # Adds a tab after every number.\n",
    "    print('\\n')                              # Prints every letter at a new line."
   ]
  },
  {
   "cell_type": "markdown",
   "id": "e9fe6bfb-451b-41bb-8262-08f30d456ccd",
   "metadata": {},
   "source": [
    "## Task:"
   ]
  },
  {
   "cell_type": "markdown",
   "id": "ae728b8d-6dd7-49bf-b103-ceb6f6337dec",
   "metadata": {},
   "source": [
    "Print a multiplication able (up to 5) for numbers 1-5 using **nested** `for` loops."
   ]
  },
  {
   "cell_type": "code",
   "execution_count": 116,
   "id": "cb8e8b33-9520-4d9f-b344-983eefc1200f",
   "metadata": {},
   "outputs": [],
   "source": [
    "multiplier_list=[1,2,3,4,5]\n",
    "multiplicand_list=[1,2,3,4,5]\n",
    "multiplier_array=np.array(multiplier_list)\n",
    "multiplicand_array=np.array(multiplicand_list)"
   ]
  },
  {
   "cell_type": "code",
   "execution_count": 158,
   "id": "6054a2d8-f0e5-4450-8c07-900d914bc314",
   "metadata": {},
   "outputs": [
    {
     "name": "stdout",
     "output_type": "stream",
     "text": [
      "1\t2\t3\t4\t5\t5:\n",
      "2\t4\t6\t8\t10\t5:\n",
      "3\t6\t9\t12\t15\t5:\n",
      "4\t8\t12\t16\t20\t5:\n",
      "5\t10\t15\t20\t25\t5:\n"
     ]
    }
   ],
   "source": [
    "for multiplicand in multiplicand_array:\n",
    "    for multiplier in multiplier_array:\n",
    "        print(f\"{multiplier*multiplicand}\",end='\\t')\n",
    "    print(f\"{multiplier}:\",end='\\n')"
   ]
  },
  {
   "cell_type": "code",
   "execution_count": 125,
   "id": "bdb68922-ee8a-4f50-afbf-69f8e4789083",
   "metadata": {},
   "outputs": [
    {
     "data": {
      "text/plain": [
       "array([ 1,  4,  9, 16, 25])"
      ]
     },
     "execution_count": 125,
     "metadata": {},
     "output_type": "execute_result"
    }
   ],
   "source": [
    "multiplier_array*multiplicand_array"
   ]
  },
  {
   "cell_type": "code",
   "execution_count": 117,
   "id": "ddd74fcb-376c-4c49-8d01-68668832b70a",
   "metadata": {},
   "outputs": [
    {
     "name": "stdout",
     "output_type": "stream",
     "text": [
      "5\n",
      "1:[1, 2, 3, 4, 5]\n",
      "2:[1, 2, 3, 4, 5]\n",
      "3:[1, 2, 3, 4, 5]\n",
      "4:[1, 2, 3, 4, 5]\n",
      "5:[1, 2, 3, 4, 5]\n"
     ]
    }
   ],
   "source": [
    "print(multiplier)\n",
    "\n",
    "for multiplier in [1,2,3,4,5]:\n",
    "    print(f'{multiplier}:{multiplicand_list}')"
   ]
  },
  {
   "cell_type": "code",
   "execution_count": 106,
   "id": "fbeaad9c-b7cf-4311-85f1-74645c9e4710",
   "metadata": {},
   "outputs": [
    {
     "name": "stdout",
     "output_type": "stream",
     "text": [
      "[ 5 10 15 20 25]\n"
     ]
    }
   ],
   "source": [
    "#product_list=multiplier_list*multiplicand_list\n",
    "#print(product_list)\n",
    "\n",
    "product_array=multiplier_array*multiplicand_array\n",
    "print(product_array)"
   ]
  },
  {
   "cell_type": "code",
   "execution_count": 108,
   "id": "1f000175-c578-44fb-a7ce-dd1dfafafa26",
   "metadata": {},
   "outputs": [
    {
     "name": "stdout",
     "output_type": "stream",
     "text": [
      "1 : 5\t1 : 10\t1 : 15\t1 : 20\t1 : 25\t\n",
      "\n",
      "2 : 5\t2 : 10\t2 : 15\t2 : 20\t2 : 25\t\n",
      "\n",
      "3 : 5\t3 : 10\t3 : 15\t3 : 20\t3 : 25\t\n",
      "\n",
      "4 : 5\t4 : 10\t4 : 15\t4 : 20\t4 : 25\t\n",
      "\n",
      "5 : 5\t5 : 10\t5 : 15\t5 : 20\t5 : 25\t\n",
      "\n"
     ]
    }
   ],
   "source": [
    "for multiplier in [1,2,3,4,5]:\n",
    "    for multiplicand in product_array:\n",
    "        print(f\"{multiplier} : {multiplicand}\",end='\\t')\n",
    "    print('\\n')"
   ]
  },
  {
   "cell_type": "code",
   "execution_count": null,
   "id": "20b904b8-8e02-48eb-a670-11ed767b450a",
   "metadata": {},
   "outputs": [],
   "source": [
    "print(f\"{multiplier} : {multiplier*multiplicand})"
   ]
  },
  {
   "cell_type": "code",
   "execution_count": null,
   "id": "3d376f3c-b0ad-4604-90fa-51c15e6eb588",
   "metadata": {},
   "outputs": [],
   "source": []
  }
 ],
 "metadata": {
  "kernelspec": {
   "display_name": "Python 3 (ipykernel)",
   "language": "python",
   "name": "python3"
  },
  "language_info": {
   "codemirror_mode": {
    "name": "ipython",
    "version": 3
   },
   "file_extension": ".py",
   "mimetype": "text/x-python",
   "name": "python",
   "nbconvert_exporter": "python",
   "pygments_lexer": "ipython3",
   "version": "3.11.5"
  },
  "toc": {
   "base_numbering": 1,
   "nav_menu": {},
   "number_sections": true,
   "sideBar": true,
   "skip_h1_title": false,
   "title_cell": "Table of Contents",
   "title_sidebar": "Contents",
   "toc_cell": false,
   "toc_position": {},
   "toc_section_display": true,
   "toc_window_display": false
  },
  "vscode": {
   "interpreter": {
    "hash": "31f2aee4e71d21fbe5cf8b01ff0e069b9275f58929596ceb00d14d90e3e16cd6"
   }
  }
 },
 "nbformat": 4,
 "nbformat_minor": 5
}
