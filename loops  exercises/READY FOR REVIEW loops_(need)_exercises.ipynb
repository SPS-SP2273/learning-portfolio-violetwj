{
 "cells": [
  {
   "attachments": {},
   "cell_type": "markdown",
   "id": "123456",
   "metadata": {},
   "source": [
    "<div style=\"text-align:left;font-size:2em\"><span style=\"font-weight:bolder;font-size:1.25em\">SP2273 | Learning Portfolio</span><br><br><span style=\"font-weight:bold;color:darkred\">Loops (Need) Exercises</span></div>"
   ]
  },
  {
   "cell_type": "markdown",
   "id": "620538d4-6511-42a7-9b09-27df6806368b",
   "metadata": {},
   "source": [
    "# Exercise 1"
   ]
  },
  {
   "cell_type": "markdown",
   "id": "386c8853-0665-4590-b4fb-98d6706a6e0b",
   "metadata": {},
   "source": [
    "Convert each temperature to Fahrenheit and print both temperatures."
   ]
  },
  {
   "cell_type": "code",
   "execution_count": 1,
   "id": "a3138952-cf47-42cb-90dc-5bfbb95cb9e8",
   "metadata": {},
   "outputs": [],
   "source": [
    "temperature_celsius=[0,5,10,15,20,25,30,35,40,45,50]"
   ]
  },
  {
   "cell_type": "code",
   "execution_count": 2,
   "id": "56c8b696-156d-4af3-b5b3-9251db525d3f",
   "metadata": {},
   "outputs": [
    {
     "name": "stdout",
     "output_type": "stream",
     "text": [
      "[ 0  5 10 15 20 25 30 35 40 45 50]\n",
      "[ 32  41  50  59  68  77  86  95 104 113 122]\n"
     ]
    }
   ],
   "source": [
    "import numpy as np\n",
    "\n",
    "c_array=np.array(temperature_celsius)\n",
    "f_array=(c_array*9/5+32).astype(int)\n",
    "print(c_array)\n",
    "print(f_array)"
   ]
  },
  {
   "cell_type": "code",
   "execution_count": 3,
   "id": "e4dd1347-f1ef-4f4e-9bbb-e1338199b1dc",
   "metadata": {},
   "outputs": [
    {
     "name": "stdout",
     "output_type": "stream",
     "text": [
      "[32, 41, 50, 59, 68, 77, 86, 95, 104, 113, 122]\n"
     ]
    }
   ],
   "source": [
    "temperature_fahrenheit=f_array.tolist()\n",
    "print(temperature_fahrenheit)"
   ]
  },
  {
   "cell_type": "code",
   "execution_count": 61,
   "id": "5b317248-87d3-41fa-8272-0d1af24bff0e",
   "metadata": {},
   "outputs": [
    {
     "name": "stdout",
     "output_type": "stream",
     "text": [
      "0°C, 32°F\n",
      "5°C, 41°F\n",
      "10°C, 50°F\n",
      "15°C, 59°F\n",
      "20°C, 68°F\n",
      "25°C, 77°F\n",
      "30°C, 86°F\n",
      "35°C, 95°F\n",
      "40°C, 104°F\n",
      "45°C, 113°F\n",
      "50°C, 122°F\n"
     ]
    }
   ],
   "source": [
    "for index, c in enumerate(temperature_celsius):\n",
    "    f=temperature_fahrenheit[index]\n",
    "    print(f\"{c}\\N{degree sign}C, {f}\\N{degree sign}F\")\n",
    "\n",
    "# Used arrays instead of loops."
   ]
  },
  {
   "cell_type": "markdown",
   "id": "7fbd8c0d-8e00-47c0-99f5-243532430e18",
   "metadata": {},
   "source": [
    "# Exercise 2"
   ]
  },
  {
   "cell_type": "markdown",
   "id": "37608335-9fe5-4d7d-9683-223dc341ccab",
   "metadata": {},
   "source": [
    "## Example:"
   ]
  },
  {
   "cell_type": "markdown",
   "id": "7e8198dd-476f-4c9f-85bc-a20f254d4a68",
   "metadata": {},
   "source": [
    "Double loop: loop within a loop."
   ]
  },
  {
   "cell_type": "code",
   "execution_count": 5,
   "id": "b89501f1-4de3-47a1-a0af-d7015dc11477",
   "metadata": {},
   "outputs": [
    {
     "name": "stdout",
     "output_type": "stream",
     "text": [
      "A1\tA2\tA3\t\n",
      "\n",
      "B1\tB2\tB3\t\n",
      "\n",
      "C1\tC2\tC3\t\n",
      "\n"
     ]
    }
   ],
   "source": [
    "for letter in ['A','B','C']:\n",
    "    for number in [1,2,3]:\n",
    "        print(f'{letter}{number}',end='\\t')  # Adds a tab after every number.\n",
    "    print('\\n')                              # Prints every letter at a new line."
   ]
  },
  {
   "cell_type": "markdown",
   "id": "e9fe6bfb-451b-41bb-8262-08f30d456ccd",
   "metadata": {},
   "source": [
    "## Task:"
   ]
  },
  {
   "cell_type": "markdown",
   "id": "ae728b8d-6dd7-49bf-b103-ceb6f6337dec",
   "metadata": {},
   "source": [
    "Print a multiplication able (up to 5) for numbers 1-5 using **nested** `for` loops."
   ]
  },
  {
   "cell_type": "code",
   "execution_count": 60,
   "id": "c98a2fed-48e3-4e9b-9d67-c79b19e3a948",
   "metadata": {},
   "outputs": [
    {
     "name": "stdout",
     "output_type": "stream",
     "text": [
      "1 : 1   2   3   4   5  \n",
      "2 : 2   4   6   8   10 \n",
      "3 : 3   6   9   12  15 \n",
      "4 : 4   8   12  16  20 \n",
      "5 : 5   10  15  20  25 \n"
     ]
    }
   ],
   "source": [
    "for multiplier in [1,2,3,4,5]:                  # Number of rows.\n",
    "    text=f'{multiplier} :'\n",
    "    for multiplicand in [1,2,3,4,5]:            # Number of columns.\n",
    "        text+=f' {multiplicand*multiplier:<3}'\n",
    "    print(text)\n",
    "\n",
    "# Asked a friend on how to do this code."
   ]
  },
  {
   "cell_type": "code",
   "execution_count": 62,
   "id": "d99b893d-49ef-463f-85d9-b94c6e389877",
   "metadata": {},
   "outputs": [
    {
     "name": "stdout",
     "output_type": "stream",
     "text": [
      "1 : 5  \n",
      "2 : 10 \n",
      "3 : 15 \n",
      "4 : 20 \n",
      "5 : 25 \n"
     ]
    }
   ],
   "source": [
    "for multiplier in [1,2,3,4,5]:                  # Number of rows.\n",
    "    for multiplicand in [1,2,3,4,5]:            # Number of columns.\n",
    "        text=f'{multiplier} : {multiplicand*multiplier:<3}'\n",
    "    print(text)\n",
    "\n",
    "# Difference between inserting f'{multiplier} between 2 loops and within inner loop?"
   ]
  }
 ],
 "metadata": {
  "kernelspec": {
   "display_name": "Python 3 (ipykernel)",
   "language": "python",
   "name": "python3"
  },
  "language_info": {
   "codemirror_mode": {
    "name": "ipython",
    "version": 3
   },
   "file_extension": ".py",
   "mimetype": "text/x-python",
   "name": "python",
   "nbconvert_exporter": "python",
   "pygments_lexer": "ipython3",
   "version": "3.11.5"
  },
  "toc": {
   "base_numbering": 1,
   "nav_menu": {},
   "number_sections": true,
   "sideBar": true,
   "skip_h1_title": false,
   "title_cell": "Table of Contents",
   "title_sidebar": "Contents",
   "toc_cell": false,
   "toc_position": {},
   "toc_section_display": true,
   "toc_window_display": false
  },
  "vscode": {
   "interpreter": {
    "hash": "31f2aee4e71d21fbe5cf8b01ff0e069b9275f58929596ceb00d14d90e3e16cd6"
   }
  }
 },
 "nbformat": 4,
 "nbformat_minor": 5
}
