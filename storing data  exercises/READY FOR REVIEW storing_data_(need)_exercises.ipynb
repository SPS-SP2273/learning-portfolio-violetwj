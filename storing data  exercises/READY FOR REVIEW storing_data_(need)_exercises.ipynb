{
 "cells": [
  {
   "attachments": {},
   "cell_type": "markdown",
   "id": "123456",
   "metadata": {},
   "source": [
    "<div style=\"text-align:left;font-size:2em\"><span style=\"font-weight:bolder;font-size:1.25em\">SP2273 | Learning Portfolio</span><br><br><span style=\"font-weight:bold;color:darkred\">Storing Data (Need) Exercises</span></div>"
   ]
  },
  {
   "cell_type": "markdown",
   "id": "a460edd9-2a32-443a-9ac0-24b9e736afa8",
   "metadata": {},
   "source": [
    "# Exercise 1"
   ]
  },
  {
   "cell_type": "markdown",
   "id": "da0fa1bf-e79d-43c6-91f9-0d500458e7b6",
   "metadata": {},
   "source": [
    "1. 2 similarities between lists and arrays.\n",
    "- Can be used to store data.\n",
    "- Mutable.\n",
    "- *Size.*\n",
    "\n",
    "2. 2 differences between lists and arrays.\n",
    "- Arrays are more versatile than lists, allows more functions to be carried out.\n",
    "- Arrays can embed lists into lists to form 2D and higher dimension lists, while lists can only contain elements, which require a list for every dimension that is required.\n",
    "- *Arrays can only accept 1 data type, lists can accept multiple.*\n",
    "- *Lists cannot add numbers, arrays can.*\n",
    "\n",
    "3. What is a dictionary?\n",
    "- Storage of multiple variables as data.\n",
    "- Requires key to access *associated* value/ variables.\n",
    "- *Holds key and value in 1 structure.*"
   ]
  },
  {
   "cell_type": "markdown",
   "id": "6c809ea4-e482-46b4-9523-b315faef758b",
   "metadata": {},
   "source": [
    "# Exercise 2"
   ]
  },
  {
   "cell_type": "code",
   "execution_count": 1,
   "id": "795d9967-8bf1-4ca6-9eb2-d7b6d1d84396",
   "metadata": {},
   "outputs": [],
   "source": [
    "py_list=[\"a1\",\"b2\",\"c3\",\"d4\",\"e5\",\"f6\",\"g7\",\"h8\",\"i9\",\"j10\"]"
   ]
  },
  {
   "cell_type": "code",
   "execution_count": 9,
   "id": "47f0bd3a-05fe-4a37-be6f-da45dcc188cf",
   "metadata": {},
   "outputs": [
    {
     "name": "stdout",
     "output_type": "stream",
     "text": [
      "a1\n",
      "c3\n",
      "e5\n",
      "g7\n",
      "i9\n"
     ]
    }
   ],
   "source": [
    "print(py_list[0])\n",
    "print(py_list[2])\n",
    "print(py_list[4])\n",
    "print(py_list[6])\n",
    "print(py_list[8])"
   ]
  },
  {
   "cell_type": "markdown",
   "id": "30080b0d-d412-4936-9a2f-d72eace00fef",
   "metadata": {},
   "source": [
    "# Exercise 3"
   ]
  },
  {
   "cell_type": "code",
   "execution_count": 22,
   "id": "5bbc6d6d-ab86-496e-987e-9897c9cd51f8",
   "metadata": {},
   "outputs": [],
   "source": [
    "elements=['Hydrogen','Helium','Lithium','Beryllium','Boron',\n",
    "          'Carbon','Nitrogen','Oxygen','Fluoride','Neon']"
   ]
  },
  {
   "cell_type": "markdown",
   "id": "4082af7d-7f56-492f-8636-69c6ea4d304e",
   "metadata": {},
   "source": [
    "1. Forward indexing:"
   ]
  },
  {
   "cell_type": "code",
   "execution_count": 25,
   "id": "452080ac-d946-4bc5-b290-2160df3a0328",
   "metadata": {},
   "outputs": [
    {
     "name": "stdout",
     "output_type": "stream",
     "text": [
      "Boron\n"
     ]
    }
   ],
   "source": [
    "print(elements[4])"
   ]
  },
  {
   "cell_type": "markdown",
   "id": "5833e11a-6961-4c60-a112-234559d4b249",
   "metadata": {},
   "source": [
    "2. Reverse indexing:"
   ]
  },
  {
   "cell_type": "code",
   "execution_count": 27,
   "id": "21bae5cd-8485-4500-9109-e6ff77c5f55a",
   "metadata": {},
   "outputs": [
    {
     "name": "stdout",
     "output_type": "stream",
     "text": [
      "Boron\n"
     ]
    }
   ],
   "source": [
    "print(elements[-6])"
   ]
  },
  {
   "cell_type": "markdown",
   "id": "362b1195-cab7-4516-9567-69c2c994dd77",
   "metadata": {},
   "source": [
    "# Exercise 4"
   ]
  },
  {
   "cell_type": "code",
   "execution_count": 70,
   "id": "0a42908e-49fa-4267-bf44-899993857a32",
   "metadata": {},
   "outputs": [],
   "source": [
    "numbers=[45,60,1,30,96,1,96,57,16,1,\n",
    "         99,62,86,43,42,60,59,1,1,35,\n",
    "         83,47,34,28,68,23,22,92,1,79,\n",
    "         1,29,94,72,46,47,1,74,32,20,\n",
    "         8,37,35,1,89,29,86,19,43,61]"
   ]
  },
  {
   "cell_type": "code",
   "execution_count": 47,
   "id": "333975e7-143f-4ccb-8564-5bcf9b9f184f",
   "metadata": {},
   "outputs": [
    {
     "name": "stdout",
     "output_type": "stream",
     "text": [
      "[45 60  1 30 96  1 96 57 16  1 99 62 86 43 42 60 59  1  1 35 83 47 34 28\n",
      " 68 23 22 92  1 79  1 29 94 72 46 47  1 74 32 20  8 37 35  1 89 29 86 19\n",
      " 43 61]\n"
     ]
    }
   ],
   "source": [
    "np_number=np.array(numbers)\n",
    "print(np_number)  # Now is array, checked by multiplying list by 2."
   ]
  },
  {
   "cell_type": "code",
   "execution_count": 109,
   "id": "00e47372-e24f-47df-85c1-a2b318983d5c",
   "metadata": {},
   "outputs": [
    {
     "name": "stdout",
     "output_type": "stream",
     "text": [
      "[array([False, False,  True, False, False,  True, False, False, False,\n",
      "        True, False, False, False, False, False, False, False,  True,\n",
      "        True, False, False, False, False, False, False, False, False,\n",
      "       False,  True, False,  True, False, False, False, False, False,\n",
      "        True, False, False, False, False, False, False,  True, False,\n",
      "       False, False, False, False, False])]\n"
     ]
    }
   ],
   "source": [
    "mask_1=[number_array==1]\n",
    "print(mask_1)"
   ]
  },
  {
   "cell_type": "code",
   "execution_count": 110,
   "id": "a49dc4d7-7019-4995-acc0-f27f2f11cc7d",
   "metadata": {},
   "outputs": [
    {
     "name": "stdout",
     "output_type": "stream",
     "text": [
      "[0 0 1 0 0 1 0 0 0 1 0 0 0 0 0 0 0 1 1 0 0 0 0 0 0 0 0 0 1 0 1 0 0 0 0 0 1\n",
      " 0 0 0 0 0 0 1 0 0 0 0 0 0]\n"
     ]
    }
   ],
   "source": [
    "print(sum(mask_1))"
   ]
  },
  {
   "cell_type": "code",
   "execution_count": 111,
   "id": "dc9f61c3-c1f5-463d-8e06-fc7775898467",
   "metadata": {},
   "outputs": [
    {
     "name": "stdout",
     "output_type": "stream",
     "text": [
      "[0, 0, 1, 0, 0, 1, 0, 0, 0, 1, 0, 0, 0, 0, 0, 0, 0, 1, 1, 0, 0, 0, 0, 0, 0, 0, 0, 0, 1, 0, 1, 0, 0, 0, 0, 0, 1, 0, 0, 0, 0, 0, 0, 1, 0, 0, 0, 0, 0, 0]\n"
     ]
    }
   ],
   "source": [
    "print(list(sum(mask_1)))"
   ]
  },
  {
   "cell_type": "code",
   "execution_count": 112,
   "id": "6e5400cb-fbec-45a7-af5f-322714d62565",
   "metadata": {},
   "outputs": [
    {
     "name": "stdout",
     "output_type": "stream",
     "text": [
      "9\n"
     ]
    }
   ],
   "source": [
    "print(sum(list(sum(mask_1))))"
   ]
  }
 ],
 "metadata": {
  "kernelspec": {
   "display_name": "Python 3 (ipykernel)",
   "language": "python",
   "name": "python3"
  },
  "language_info": {
   "codemirror_mode": {
    "name": "ipython",
    "version": 3
   },
   "file_extension": ".py",
   "mimetype": "text/x-python",
   "name": "python",
   "nbconvert_exporter": "python",
   "pygments_lexer": "ipython3",
   "version": "3.11.5"
  },
  "toc": {
   "base_numbering": 1,
   "nav_menu": {},
   "number_sections": true,
   "sideBar": true,
   "skip_h1_title": false,
   "title_cell": "Table of Contents",
   "title_sidebar": "Contents",
   "toc_cell": false,
   "toc_position": {},
   "toc_section_display": true,
   "toc_window_display": false
  },
  "vscode": {
   "interpreter": {
    "hash": "31f2aee4e71d21fbe5cf8b01ff0e069b9275f58929596ceb00d14d90e3e16cd6"
   }
  }
 },
 "nbformat": 4,
 "nbformat_minor": 5
}
