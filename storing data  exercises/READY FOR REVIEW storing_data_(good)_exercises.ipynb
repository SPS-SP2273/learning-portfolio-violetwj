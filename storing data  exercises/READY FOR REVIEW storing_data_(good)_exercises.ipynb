{
 "cells": [
  {
   "attachments": {},
   "cell_type": "markdown",
   "id": "123456",
   "metadata": {},
   "source": [
    "<div style=\"text-align:left;font-size:2em\"><span style=\"font-weight:bolder;font-size:1.25em\">SP2273 | Learning Portfolio</span><br><br><span style=\"font-weight:bold;color:darkred\">Storing Data (Good) Exercises</span></div>"
   ]
  },
  {
   "cell_type": "markdown",
   "id": "191b1474-5eee-458d-921b-9b30215dc88f",
   "metadata": {},
   "source": [
    "# Exercise 1"
   ]
  },
  {
   "cell_type": "markdown",
   "id": "bb397c14-3449-4ab6-bb1c-5699c8bfbef1",
   "metadata": {},
   "source": [
    "|Term|Brief Description|\n",
    "|:-|:-|\n",
    "|Subsetting|*Select a subset of data in list/ array.*|\n",
    "|Indexing|Assigning every element in a list with a position identity, using integers starting from 0.<br>*Select 1 element.*|\n",
    "|Slicing|*Selecting range of elements.*|\n",
    "|Masking|Hide certain elements in a list by assigning them T/F based on set conditions.|"
   ]
  },
  {
   "cell_type": "markdown",
   "id": "70a9b1ba-0e4c-421a-98ad-aa5400fb54f8",
   "metadata": {},
   "source": [
    "# Exercise 2"
   ]
  },
  {
   "cell_type": "code",
   "execution_count": 13,
   "id": "0f922a50-f5b6-4b4f-96ce-b87b8c83f4b2",
   "metadata": {},
   "outputs": [],
   "source": [
    "import numpy as np\n",
    "import pandas as pd\n",
    "\n",
    "np_array_2d=np.array(([1,\"A\"],[3,\"C\"],[2,\"B\"],[4,\"D\"],[5,\"E\"],\n",
    "                      [7,\"G\"],[6,\"F\"],[8,\"H\"],[10,\"J\"],[9,\"I\"]))"
   ]
  },
  {
   "cell_type": "code",
   "execution_count": 14,
   "id": "e20a0a6c-ba07-4a09-baa1-8dd6e3d01124",
   "metadata": {},
   "outputs": [
    {
     "name": "stdout",
     "output_type": "stream",
     "text": [
      "['1' '3' '2' '4' '5' '7' '6' '8' '10' '9']\n"
     ]
    }
   ],
   "source": [
    "print(np_array_2d[:,0])"
   ]
  },
  {
   "cell_type": "code",
   "execution_count": 15,
   "id": "e0d8a686-8a8a-4a36-9500-4986875f1498",
   "metadata": {},
   "outputs": [
    {
     "name": "stdout",
     "output_type": "stream",
     "text": [
      "    0  1\n",
      "0   1  A\n",
      "1   3  C\n",
      "2   2  B\n",
      "3   4  D\n",
      "4   5  E\n",
      "5   7  G\n",
      "6   6  F\n",
      "7   8  H\n",
      "8  10  J\n",
      "9   9  I\n"
     ]
    }
   ],
   "source": [
    "data = pd.DataFrame(np_array_2d)\n",
    "print(data)"
   ]
  },
  {
   "cell_type": "code",
   "execution_count": 16,
   "id": "e81186c2-b7d8-4918-8b92-7fa018a0f050",
   "metadata": {},
   "outputs": [
    {
     "name": "stdout",
     "output_type": "stream",
     "text": [
      "0    object\n",
      "1    object\n",
      "dtype: object\n"
     ]
    }
   ],
   "source": [
    "print(data.dtypes)"
   ]
  },
  {
   "cell_type": "code",
   "execution_count": 20,
   "id": "292028da-2ca4-47df-bd79-4491987ba90d",
   "metadata": {},
   "outputs": [
    {
     "name": "stdout",
     "output_type": "stream",
     "text": [
      "0     1\n",
      "1     3\n",
      "2     2\n",
      "3     4\n",
      "4     5\n",
      "5     7\n",
      "6     6\n",
      "7     8\n",
      "8    10\n",
      "9     9\n",
      "Name: 0, dtype: int32\n"
     ]
    }
   ],
   "source": [
    "array_2d = data.copy()\n",
    "array_2d = array_2d[0].astype(int)\n",
    "print(array_2d)"
   ]
  },
  {
   "cell_type": "code",
   "execution_count": 8,
   "id": "9d8aec39-8c00-46c2-8f97-90e55f026996",
   "metadata": {},
   "outputs": [
    {
     "name": "stdout",
     "output_type": "stream",
     "text": [
      "0    1\n",
      "1    1\n",
      "2    0\n",
      "3    0\n",
      "4    1\n",
      "5    1\n",
      "6    0\n",
      "7    0\n",
      "8    0\n",
      "9    1\n",
      "Name: 0, dtype: int32\n"
     ]
    }
   ],
   "source": [
    "print(array_2d%2)"
   ]
  },
  {
   "cell_type": "code",
   "execution_count": 9,
   "id": "1a4240ba-3cf4-416c-8d99-138046771fe6",
   "metadata": {},
   "outputs": [
    {
     "name": "stdout",
     "output_type": "stream",
     "text": [
      "0     True\n",
      "1     True\n",
      "2    False\n",
      "3    False\n",
      "4     True\n",
      "5     True\n",
      "6    False\n",
      "7    False\n",
      "8    False\n",
      "9     True\n",
      "Name: 0, dtype: bool\n"
     ]
    }
   ],
   "source": [
    "mask_2d=array_2d%2==1\n",
    "print(mask_2d)"
   ]
  },
  {
   "cell_type": "code",
   "execution_count": 10,
   "id": "3d77901a-436b-4c7b-9ff2-b20c5beef59a",
   "metadata": {},
   "outputs": [
    {
     "data": {
      "text/plain": [
       "0    1\n",
       "1    3\n",
       "4    5\n",
       "5    7\n",
       "9    9\n",
       "Name: 0, dtype: int32"
      ]
     },
     "execution_count": 10,
     "metadata": {},
     "output_type": "execute_result"
    }
   ],
   "source": [
    "array_2d[mask_2d]"
   ]
  },
  {
   "cell_type": "code",
   "execution_count": 11,
   "id": "9b2d3003-cbe6-4854-82ca-62f0f0abbc13",
   "metadata": {},
   "outputs": [
    {
     "data": {
      "text/plain": [
       "array(['A', 'C', 'E', 'G', 'I'], dtype='<U11')"
      ]
     },
     "execution_count": 11,
     "metadata": {},
     "output_type": "execute_result"
    }
   ],
   "source": [
    "np_array_2d[mask_2d][:,1]  # Subsetting array with mask."
   ]
  },
  {
   "cell_type": "code",
   "execution_count": 12,
   "id": "17a83615-ad34-4d82-90cb-91c071bec386",
   "metadata": {},
   "outputs": [
    {
     "name": "stdout",
     "output_type": "stream",
     "text": [
      "['A' 'C' 'E' 'G' 'I']\n"
     ]
    }
   ],
   "source": [
    "print(np_array_2d[mask_2d][:,1])"
   ]
  }
 ],
 "metadata": {
  "kernelspec": {
   "display_name": "Python 3 (ipykernel)",
   "language": "python",
   "name": "python3"
  },
  "language_info": {
   "codemirror_mode": {
    "name": "ipython",
    "version": 3
   },
   "file_extension": ".py",
   "mimetype": "text/x-python",
   "name": "python",
   "nbconvert_exporter": "python",
   "pygments_lexer": "ipython3",
   "version": "3.11.5"
  },
  "toc": {
   "base_numbering": 1,
   "nav_menu": {},
   "number_sections": true,
   "sideBar": true,
   "skip_h1_title": false,
   "title_cell": "Table of Contents",
   "title_sidebar": "Contents",
   "toc_cell": false,
   "toc_position": {},
   "toc_section_display": true,
   "toc_window_display": false
  },
  "vscode": {
   "interpreter": {
    "hash": "31f2aee4e71d21fbe5cf8b01ff0e069b9275f58929596ceb00d14d90e3e16cd6"
   }
  }
 },
 "nbformat": 4,
 "nbformat_minor": 5
}
