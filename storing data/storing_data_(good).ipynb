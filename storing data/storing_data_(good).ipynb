{
 "cells": [
  {
   "attachments": {},
   "cell_type": "markdown",
   "id": "123456",
   "metadata": {},
   "source": [
    "<div style=\"text-align:left;font-size:2em\"><span style=\"font-weight:bolder;font-size:1.25em\">SP2273 | Learning Portfolio</span><br><br><span style=\"font-weight:bold;color:darkred\">Storing Data (Good)</span></div>"
   ]
  },
  {
   "attachments": {},
   "cell_type": "markdown",
   "id": "11c9c8c7",
   "metadata": {},
   "source": [
    "# What to expect in this chapter"
   ]
  },
  {
   "cell_type": "markdown",
   "id": "a6d9aaff-9cb1-4a3a-8220-6e249736a27d",
   "metadata": {},
   "source": [
    "Accessing and modifying structures.\n",
    "Better understandin of similarities and differences between lists, NumPy arrays and dictionaries."
   ]
  },
  {
   "attachments": {},
   "cell_type": "markdown",
   "id": "f326331c",
   "metadata": {},
   "source": [
    "# 1 Subsetting: Indexing and Slicing"
   ]
  },
  {
   "cell_type": "markdown",
   "id": "369e1302-33ea-4c76-bcb8-e3c85a0cad9a",
   "metadata": {},
   "source": [
    "Subsetting: **select** a subset of data in list/ array.\n",
    "How to subset?:\n",
    "- Indexing: select **1** element.\n",
    "- Slicing: selecting **range** of elements."
   ]
  },
  {
   "attachments": {},
   "cell_type": "markdown",
   "id": "f9cd63fd",
   "metadata": {},
   "source": [
    "## 1.1 Lists & Arrays in 1D | Subsetting & Indexing"
   ]
  },
  {
   "cell_type": "markdown",
   "id": "35d9a212-be08-4236-b5b1-f1ea46368444",
   "metadata": {},
   "source": [
    "Slicing gives range of elements.\\\n",
    "Need to specify 2 indices to indicate start and end.\\\n",
    "Applies for **both** lists and arrays."
   ]
  },
  {
   "cell_type": "code",
   "execution_count": 4,
   "id": "1130a3da-eaef-4375-b245-e2248e14b7ff",
   "metadata": {},
   "outputs": [],
   "source": [
    "import numpy as np\n",
    "py_list=[\"a1\",\"b2\",\"c3\",\"d4\",\"e5\",\"f6\",\"g7\",\"h8\",\"i9\",\"j10\"]\n",
    "np_array=np.array(py_list)\n",
    "\n",
    "x=py_list\n",
    "x=np_array"
   ]
  },
  {
   "cell_type": "markdown",
   "id": "128143e0-ec2d-46d9-96b4-1e35aa9eee45",
   "metadata": {},
   "source": [
    "|Syntax|Result||Note|\n",
    "|:-|:-|:-|:-|\n",
    "|`x[0]`|First element|`'a1'`||\n",
    "|`x[-1]`|Last element|`'j10'`||\n",
    "|`x[0:3]`|Index 0 to 2|`['a1','b2','c3']`|Gives $3-0=3$ elements.|\n",
    "|`x[1:6]`|Index 1 to 5|`['b2','c3','d4','e5','f6']`|Gives $6-1=5$ elements.|\n",
    "|`x[1:6:2]`|Index 1 to 5 in steps of 2|`['b2','d4','f6']`|Gives every other of $6-1=5$ elements.|\n",
    "|`x[5:]`|Index 5 to the end|`['f6','g7','h8','i9','j10']`|Gives `len(x)`$-5=5$ elements.|\n",
    "|`x[:5]`|Index 0 to 4|`['a1','b2','c3','d4','e5']`|Gives $5-0=5$ elements.|\n",
    "|`x[5:2:-1]`|Index 5 to 3 (i.e. reverse order)|`['f6','e5',d4']`|Gives $5-2=3$ elements.|\n",
    "|`x[::-1]`|Reverse list|`['j10','i9','e8',...,'b2','a1']`||"
   ]
  },
  {
   "cell_type": "markdown",
   "id": "4952d35d-3eef-4185-a85f-5329c24b479e",
   "metadata": {},
   "source": [
    "Slicing with `[i:j]` gives total of `j-i` elements.\\\n",
    "Slice starts at `i` and ends at `j-1`."
   ]
  },
  {
   "attachments": {},
   "cell_type": "markdown",
   "id": "2acc19ac",
   "metadata": {},
   "source": [
    "## 1.2 Arrays only | Subsetting by masking"
   ]
  },
  {
   "cell_type": "markdown",
   "id": "6afd576f-397e-45bb-9751-83a67cfb9e4f",
   "metadata": {},
   "source": [
    "How it works:"
   ]
  },
  {
   "cell_type": "code",
   "execution_count": 8,
   "id": "75324347-b10b-42e0-997c-a23653be3bb4",
   "metadata": {},
   "outputs": [
    {
     "data": {
      "text/plain": [
       "array([False, False, False,  True,  True,  True,  True,  True,  True,\n",
       "        True])"
      ]
     },
     "execution_count": 8,
     "metadata": {},
     "output_type": "execute_result"
    }
   ],
   "source": [
    "np_array=np.array([1,2,3,4,5,6,7,8,9,10])\n",
    "my_mask=np_array>3\n",
    "my_mask"
   ]
  },
  {
   "cell_type": "code",
   "execution_count": 9,
   "id": "afc8bb59-876c-4420-aec3-173928e70fdd",
   "metadata": {},
   "outputs": [
    {
     "data": {
      "text/plain": [
       "array([ 4,  5,  6,  7,  8,  9, 10])"
      ]
     },
     "execution_count": 9,
     "metadata": {},
     "output_type": "execute_result"
    }
   ],
   "source": [
    "np_array[my_mask]"
   ]
  },
  {
   "cell_type": "markdown",
   "id": "7bdb4243-d7d1-4f47-8ad7-20c4797aa1f7",
   "metadata": {},
   "source": [
    "Shortcut:"
   ]
  },
  {
   "cell_type": "code",
   "execution_count": 10,
   "id": "75f425ea-8502-4627-9bec-6ef3afe2ce65",
   "metadata": {},
   "outputs": [
    {
     "data": {
      "text/plain": [
       "array([ 4,  5,  6,  7,  8,  9, 10])"
      ]
     },
     "execution_count": 10,
     "metadata": {},
     "output_type": "execute_result"
    }
   ],
   "source": [
    "np_array[np_array>3]"
   ]
  },
  {
   "cell_type": "markdown",
   "id": "f974ca42-2d12-4270-b740-9f6696dae778",
   "metadata": {},
   "source": [
    "Asks what elements in np_array is greater than 3.\\\n",
    "Returns T/F accordingly.\\\n",
    "From this, can ask NumPy to show **only** those that are `True` (i.e. mask/ hide all other variables except those that are `True`).\\\n",
    "Note: only works for NumPy arrays."
   ]
  },
  {
   "cell_type": "markdown",
   "id": "59975ad4-2ff2-458b-8dc7-26991aa9b4f9",
   "metadata": {},
   "source": [
    "E.g. 1: Invert mask, `NOT`."
   ]
  },
  {
   "cell_type": "code",
   "execution_count": 11,
   "id": "f2eac166-d45d-4391-b4b0-6c8594366704",
   "metadata": {},
   "outputs": [
    {
     "data": {
      "text/plain": [
       "array([1, 2, 3])"
      ]
     },
     "execution_count": 11,
     "metadata": {},
     "output_type": "execute_result"
    }
   ],
   "source": [
    "np_array[~(np_array>3)]"
   ]
  },
  {
   "cell_type": "markdown",
   "id": "7d658154-3093-4c90-bda4-652c63ca6f87",
   "metadata": {},
   "source": [
    "Bitwise NOT: `~`.\\\n",
    "Inverts the mask."
   ]
  },
  {
   "cell_type": "markdown",
   "id": "9c0f9056-2021-463f-a78b-f73014eb07d5",
   "metadata": {},
   "source": [
    "E.g. 2: Combining masks, `AND`."
   ]
  },
  {
   "cell_type": "code",
   "execution_count": 13,
   "id": "4c5d9beb-54a9-4dba-b566-98e17a8260f5",
   "metadata": {},
   "outputs": [
    {
     "data": {
      "text/plain": [
       "array([4, 5, 6, 7])"
      ]
     },
     "execution_count": 13,
     "metadata": {},
     "output_type": "execute_result"
    }
   ],
   "source": [
    "np_array[(np_array>3)&(np_array<8)]"
   ]
  },
  {
   "cell_type": "markdown",
   "id": "bf16709d-a513-4d71-bea0-db57f5e3eb69",
   "metadata": {},
   "source": [
    "Bitwise AND: `&`.\\\n",
    "Shows something only if **both** masks are true."
   ]
  },
  {
   "cell_type": "markdown",
   "id": "0eeb0ca9-42bb-482f-bfaa-8bdd4e154103",
   "metadata": {},
   "source": [
    "E.g. 3: Combining masks, `OR`."
   ]
  },
  {
   "cell_type": "code",
   "execution_count": 15,
   "id": "4b541dd0-9427-4658-859b-dec6782f69b6",
   "metadata": {},
   "outputs": [
    {
     "data": {
      "text/plain": [
       "array([ 1,  2,  3,  4,  5,  6,  7,  8,  9, 10])"
      ]
     },
     "execution_count": 15,
     "metadata": {},
     "output_type": "execute_result"
    }
   ],
   "source": [
    "np_array[(np_array>3)|(np_array<8)]"
   ]
  },
  {
   "cell_type": "markdown",
   "id": "08100484-0b92-4030-85ac-86b5c37455c2",
   "metadata": {},
   "source": [
    "Bitwise OR: `|`.\\\n",
    "Shows something if **either** mask is true."
   ]
  },
  {
   "cell_type": "markdown",
   "id": "e0d96eda-4163-47bf-b141-70f21c54c1f2",
   "metadata": {},
   "source": [
    "TLDR:\n",
    "- Use bitwise operators when combining masks with NumPy.\n",
    "- Use brackets to clarify what the masks do.\n",
    "|Bitwise Operator|Code|\n",
    "|:-:|:-:|\n",
    "|`NOT`|`~`|\n",
    "|`AND`|`&`|\n",
    "|`OR`|`\\|`|"
   ]
  },
  {
   "attachments": {},
   "cell_type": "markdown",
   "id": "751cb324",
   "metadata": {},
   "source": [
    "## 1.3 Lists & Arrays in 2D | Indexing & Slicing"
   ]
  },
  {
   "cell_type": "markdown",
   "id": "6b8d17fe-e809-4fbf-a4e3-52bed03bec2b",
   "metadata": {},
   "source": [
    "Differences between lists and arrays more apparent with higher dimensions."
   ]
  },
  {
   "cell_type": "code",
   "execution_count": 17,
   "id": "daa61d46-e7d5-4188-93f5-1817a35393df",
   "metadata": {},
   "outputs": [],
   "source": [
    "py_list_2d=[[1, \"A\"],[2, \"B\"],[3, \"C\"],[4, \"D\"],[5, \"E\"],\n",
    "            [6, \"F\"],[7, \"G\"],[8, \"H\"],[9, \"I\"],[10, \"J\"]]\n",
    "np_array_2d=np.array(py_list_2d)"
   ]
  },
  {
   "cell_type": "markdown",
   "id": "730b3331-718f-4a26-a6b1-c361c2117f04",
   "metadata": {},
   "source": [
    "E.g. 1: What is at position 4 (index 3)?"
   ]
  },
  {
   "cell_type": "code",
   "execution_count": 26,
   "id": "fed28085-7ece-43f1-96a9-5f7c50e34e5a",
   "metadata": {},
   "outputs": [
    {
     "data": {
      "text/plain": [
       "[4, 'D']"
      ]
     },
     "execution_count": 26,
     "metadata": {},
     "output_type": "execute_result"
    }
   ],
   "source": [
    "py_list_2d[3]"
   ]
  },
  {
   "cell_type": "code",
   "execution_count": 27,
   "id": "78461ea9-44c6-43ef-8d8f-1e5f63987cca",
   "metadata": {},
   "outputs": [
    {
     "data": {
      "text/plain": [
       "array(['4', 'D'], dtype='<U11')"
      ]
     },
     "execution_count": 27,
     "metadata": {},
     "output_type": "execute_result"
    }
   ],
   "source": [
    "np_array_2d[3]"
   ]
  },
  {
   "cell_type": "markdown",
   "id": "20f6162e-7230-4bbc-9c5f-26c8287aa75d",
   "metadata": {},
   "source": [
    "```\n",
    "Compare the following ways to code E.g. 1:\n",
    "```"
   ]
  },
  {
   "cell_type": "code",
   "execution_count": 32,
   "id": "03e6f81a-9c1e-4121-8149-57b325e34983",
   "metadata": {},
   "outputs": [
    {
     "data": {
      "text/plain": [
       "array(['4', 'D'], dtype='<U11')"
      ]
     },
     "execution_count": 32,
     "metadata": {},
     "output_type": "execute_result"
    }
   ],
   "source": [
    "py_list_2d[3]\n",
    "np_array_2d[3]"
   ]
  },
  {
   "cell_type": "code",
   "execution_count": 30,
   "id": "fcdf8380-5e63-4e60-a896-428fa0d05019",
   "metadata": {},
   "outputs": [
    {
     "name": "stdout",
     "output_type": "stream",
     "text": [
      "[4, 'D']\n"
     ]
    },
    {
     "data": {
      "text/plain": [
       "array(['4', 'D'], dtype='<U11')"
      ]
     },
     "execution_count": 30,
     "metadata": {},
     "output_type": "execute_result"
    }
   ],
   "source": [
    "print(py_list_2d[3])  # Note Jupyter's feature.\n",
    "np_array_2d[3]"
   ]
  },
  {
   "cell_type": "markdown",
   "id": "ddb98d6f-c1a7-45dc-b6ef-44cfb1b84431",
   "metadata": {},
   "source": [
    "```\n",
    "Insight:\n",
    "- Jupyter's feature is to auto-print last line output.\n",
    "- By default, Python will not print any outputs unless specified.\n",
    "- As a habit, use `print()` for all outputs that you want to show.\n",
    "```"
   ]
  },
  {
   "cell_type": "markdown",
   "id": "e6b5c8ed-58e9-4d82-b88c-10724f05de06",
   "metadata": {},
   "source": [
    "E.g. 2: What is **first** element at position 4 (index 3)?"
   ]
  },
  {
   "cell_type": "code",
   "execution_count": 33,
   "id": "f419c403-72db-40ea-9608-25aeba6e2c0d",
   "metadata": {},
   "outputs": [
    {
     "data": {
      "text/plain": [
       "4"
      ]
     },
     "execution_count": 33,
     "metadata": {},
     "output_type": "execute_result"
    }
   ],
   "source": [
    "py_list_2d[3][0]"
   ]
  },
  {
   "cell_type": "code",
   "execution_count": 40,
   "id": "e8c96199-7e3b-4251-9d0b-fa176283b8ca",
   "metadata": {},
   "outputs": [
    {
     "data": {
      "text/plain": [
       "'4'"
      ]
     },
     "execution_count": 40,
     "metadata": {},
     "output_type": "execute_result"
    }
   ],
   "source": [
    "np_array_2d[3,0]"
   ]
  },
  {
   "cell_type": "markdown",
   "id": "e39fff35-c029-4830-828c-6348ea933260",
   "metadata": {},
   "source": [
    "Syntax for *arrays* use **1 pair** of square brackets `[]`, in contrast to *lists*, which have **n pairs** of `[]` for n-dimensions.\\\n",
    "For *lists*, 1st `[]` indicates index of outer list, 2nd `[]` indicates index of inner/ nested list."
   ]
  },
  {
   "cell_type": "markdown",
   "id": "19272745-9eec-42bd-9a5e-f6ee5c9d0576",
   "metadata": {},
   "source": [
    "E.g. 3: What are the first 3 elements?"
   ]
  },
  {
   "cell_type": "code",
   "execution_count": 35,
   "id": "9967f27d-710b-499a-87ce-9a63414612d4",
   "metadata": {},
   "outputs": [
    {
     "data": {
      "text/plain": [
       "[[1, 'A'], [2, 'B'], [3, 'C']]"
      ]
     },
     "execution_count": 35,
     "metadata": {},
     "output_type": "execute_result"
    }
   ],
   "source": [
    "py_list_2d[:3]"
   ]
  },
  {
   "cell_type": "code",
   "execution_count": 36,
   "id": "884c866c-15c6-4ec4-839f-d645c7bf4eb9",
   "metadata": {},
   "outputs": [
    {
     "data": {
      "text/plain": [
       "array([['1', 'A'],\n",
       "       ['2', 'B'],\n",
       "       ['3', 'C']], dtype='<U11')"
      ]
     },
     "execution_count": 36,
     "metadata": {},
     "output_type": "execute_result"
    }
   ],
   "source": [
    "np_array_2d[:3]"
   ]
  },
  {
   "cell_type": "markdown",
   "id": "e4fcb971-8954-42e0-a875-c02740d9ee2b",
   "metadata": {},
   "source": [
    "E.g. 4: What are the first elements of the first 3 lists?"
   ]
  },
  {
   "cell_type": "code",
   "execution_count": 53,
   "id": "922658bc-e00c-4cb7-8af1-62ad3f4f97e9",
   "metadata": {},
   "outputs": [
    {
     "data": {
      "text/plain": [
       "[[1, 'A'], [2, 'B'], [3, 'C']]"
      ]
     },
     "execution_count": 53,
     "metadata": {},
     "output_type": "execute_result"
    }
   ],
   "source": [
    "py_list_2d[:3]"
   ]
  },
  {
   "cell_type": "code",
   "execution_count": 46,
   "id": "59d0e3c9-40e7-4800-9be8-cfbdfd15cc97",
   "metadata": {},
   "outputs": [
    {
     "data": {
      "text/plain": [
       "[1, 'A']"
      ]
     },
     "execution_count": 46,
     "metadata": {},
     "output_type": "execute_result"
    }
   ],
   "source": [
    "py_list_2d[:3][0]"
   ]
  },
  {
   "cell_type": "markdown",
   "id": "d2848f78-d359-4ddc-b00a-87c4bec23993",
   "metadata": {},
   "source": [
    "For 2D lists, if 1st `[]` prints a **range** of lists, 2nd `[]` indicates the **index of the list** amongst the selected range of lists.\\\n",
    "New range of lists re-indexed, starting from 0.\\\n",
    "Works likewise for higher dimension lists."
   ]
  },
  {
   "cell_type": "code",
   "execution_count": 38,
   "id": "f9cf49c2-0648-485a-ad18-8482d8f09d1a",
   "metadata": {},
   "outputs": [
    {
     "data": {
      "text/plain": [
       "array(['1', '2', '3'], dtype='<U11')"
      ]
     },
     "execution_count": 38,
     "metadata": {},
     "output_type": "execute_result"
    }
   ],
   "source": [
    "np_array_2d[:3,0]"
   ]
  },
  {
   "cell_type": "markdown",
   "id": "2e2e9886-2f4a-478c-9bd5-6fd186c43158",
   "metadata": {},
   "source": [
    "E.g. 5: ?"
   ]
  },
  {
   "cell_type": "code",
   "execution_count": 65,
   "id": "fc817dd5-c6ad-47b2-972e-ab6db6b5d738",
   "metadata": {},
   "outputs": [
    {
     "data": {
      "text/plain": [
       "[4, 'D']"
      ]
     },
     "execution_count": 65,
     "metadata": {},
     "output_type": "execute_result"
    }
   ],
   "source": [
    "py_list_2d[3:6][0]  # Prints index 0 list from new range."
   ]
  },
  {
   "cell_type": "code",
   "execution_count": 66,
   "id": "8ca2eb10-a082-4ca9-b9b9-8e180d33d77d",
   "metadata": {},
   "outputs": [
    {
     "data": {
      "text/plain": [
       "array(['4', '5', '6'], dtype='<U11')"
      ]
     },
     "execution_count": 66,
     "metadata": {},
     "output_type": "execute_result"
    }
   ],
   "source": [
    "np_array_2d[3:6,0]  # Prints index 0 element from each list within specified range."
   ]
  },
  {
   "cell_type": "code",
   "execution_count": 68,
   "id": "8c8ccfe1-423a-4b8e-8c2b-dce43fe0bddd",
   "metadata": {},
   "outputs": [
    {
     "data": {
      "text/plain": [
       "array(['1', '2', '3', '4', '5', '6', '7', '8', '9', '10'], dtype='<U11')"
      ]
     },
     "execution_count": 68,
     "metadata": {},
     "output_type": "execute_result"
    }
   ],
   "source": [
    "np_array_2d[:,0]  # Prints index 0 element for all index elements in the outer list."
   ]
  },
  {
   "cell_type": "markdown",
   "id": "4ff66262-bdba-4b2c-a617-d2610082901b",
   "metadata": {},
   "source": [
    "Use `:` to select all index elements in a list."
   ]
  },
  {
   "cell_type": "markdown",
   "id": "d1e86a2b-7f3f-4cbe-b14d-46c64e7ac1ab",
   "metadata": {},
   "source": [
    "```\n",
    "E.g. of 3D list: How to print the 1st '4'?\n",
    "```"
   ]
  },
  {
   "cell_type": "code",
   "execution_count": 44,
   "id": "171c43fc-db4e-410c-96fa-d51ceeb9010b",
   "metadata": {},
   "outputs": [
    {
     "name": "stdout",
     "output_type": "stream",
     "text": [
      "4\n"
     ]
    }
   ],
   "source": [
    "py_3d_list = [[1,2,[3,4]],[1,2,[3,4]]]\n",
    "print(py_3d_list[0][2][1])"
   ]
  },
  {
   "cell_type": "markdown",
   "id": "b4b7664f-79b4-457d-a24f-458fa9d1f50d",
   "metadata": {},
   "source": [
    "```\n",
    "No specific way to name/ reference each bracket.\n",
    "Suggested naming:\n",
    "- 1st '[]': outermost layer.\n",
    "- 2nd '[]': inner layer.\n",
    "- 3rd '[]': innermost layer.\n",
    "```"
   ]
  },
  {
   "attachments": {},
   "cell_type": "markdown",
   "id": "56fece38",
   "metadata": {},
   "source": [
    "## 1.4 Growing lists"
   ]
  },
  {
   "cell_type": "markdown",
   "id": "5fc78d0b-e241-4cfb-a844-3feb6032f1a5",
   "metadata": {},
   "source": [
    "Slicing syntax of NumPy arrays more inutitive than lists.\\\n",
    "Lists are easy and efficient to grow.\\\n",
    "Growing lists useful for solving differential equations numerically, etc..\\\n",
    "NumPy arrays good for fast math operations, provided their **size doesn't change**.\n",
    "- Rationale: Speed due to optimised storing of *data in specific order* within memory. When changing size (i.e. adding or removing elements), *creates* new array and *deletes* existing array, which is super inefficient."
   ]
  },
  {
   "cell_type": "markdown",
   "id": "7a292007-546d-43b9-bd06-5d537e2683c7",
   "metadata": {},
   "source": [
    "E.g. 1: Creating a larger list from a smaller one."
   ]
  },
  {
   "cell_type": "code",
   "execution_count": 70,
   "id": "9d0e3ed3-b067-41fd-9127-56524c5360bc",
   "metadata": {},
   "outputs": [
    {
     "name": "stdout",
     "output_type": "stream",
     "text": [
      "[1, 2, 1, 2, 1, 2, 1, 2, 1, 2]\n"
     ]
    }
   ],
   "source": [
    "x=[1,2]*5\n",
    "print(x)"
   ]
  },
  {
   "cell_type": "markdown",
   "id": "7e45f57a-ff0e-478b-a070-8e9abdf2a409",
   "metadata": {},
   "source": [
    "E.g. 2: 3 ways to grow list by appending 1 element at a time."
   ]
  },
  {
   "cell_type": "code",
   "execution_count": 72,
   "id": "004fc97c-66fc-4aac-90f3-3fb9d6b78ba7",
   "metadata": {},
   "outputs": [
    {
     "name": "stdout",
     "output_type": "stream",
     "text": [
      "[1, 2, 3, 4]\n"
     ]
    }
   ],
   "source": [
    "x=[1]\n",
    "x=x+[2]\n",
    "x=x+[3]\n",
    "x=x+[4]\n",
    "print(x)"
   ]
  },
  {
   "cell_type": "code",
   "execution_count": 73,
   "id": "0dfc3f6e-b937-482f-b5d3-46842f2b6cf8",
   "metadata": {},
   "outputs": [
    {
     "name": "stdout",
     "output_type": "stream",
     "text": [
      "[1, 2, 3, 4]\n"
     ]
    }
   ],
   "source": [
    "x=[1]\n",
    "x+=[2]\n",
    "x+=[3]\n",
    "x+=[4]\n",
    "print(x)"
   ]
  },
  {
   "cell_type": "code",
   "execution_count": 75,
   "id": "cca99244-555b-4cc7-bc02-34df00d70876",
   "metadata": {},
   "outputs": [
    {
     "name": "stdout",
     "output_type": "stream",
     "text": [
      "[1, 2, 3, 4]\n"
     ]
    }
   ],
   "source": [
    "x=[1]\n",
    "x.append(2)\n",
    "x.append(3)\n",
    "x.append(4)\n",
    "print(x)"
   ]
  },
  {
   "cell_type": "markdown",
   "id": "188fa04e-c69c-4cb5-a09e-02a5fba93111",
   "metadata": {},
   "source": [
    "`[1]` specifies x contains the element 1.\\\n",
    "Subsequent steps are adding elements `[2]`, `[3]` and `[4]` respectively.\\\n",
    "`append()` adds elements to 'x'.\\\n",
    "Execution speeds different between these 3 methods; `append()` is 1.5x faster than the rest."
   ]
  },
  {
   "cell_type": "markdown",
   "id": "639f2415-5912-4805-9983-3bf7ce379077",
   "metadata": {},
   "source": [
    "E.g. 3: 3 ways to incorporate multiple elements."
   ]
  },
  {
   "cell_type": "code",
   "execution_count": 76,
   "id": "5d84a50c-8f35-4d65-bc04-00999ab18077",
   "metadata": {},
   "outputs": [
    {
     "name": "stdout",
     "output_type": "stream",
     "text": [
      "[1, 2, 3, 4, 5, 6]\n"
     ]
    }
   ],
   "source": [
    "x=[1,2,3]\n",
    "x+=[4,5,6]\n",
    "print(x)"
   ]
  },
  {
   "cell_type": "code",
   "execution_count": 77,
   "id": "785ffaba-277e-41ac-8825-298206555f60",
   "metadata": {},
   "outputs": [
    {
     "name": "stdout",
     "output_type": "stream",
     "text": [
      "[1, 2, 3, 4, 5, 6]\n"
     ]
    }
   ],
   "source": [
    "x=[1,2,3]\n",
    "x.extend([4,5,6])\n",
    "print(x)"
   ]
  },
  {
   "cell_type": "code",
   "execution_count": 78,
   "id": "e7d48a56-4ceb-403b-8920-feef6a801c03",
   "metadata": {},
   "outputs": [
    {
     "name": "stdout",
     "output_type": "stream",
     "text": [
      "[1, 2, 3, [4, 5, 6]]\n"
     ]
    }
   ],
   "source": [
    "x=[1,2,3]\n",
    "x.append([4,5,6])\n",
    "print(x)"
   ]
  },
  {
   "cell_type": "markdown",
   "id": "827fee12-7003-4c75-a4a9-bde2c9f2ac46",
   "metadata": {},
   "source": [
    "`extend()` adds the list of elements as **individual elements** into the first list.\\\n",
    "`append()` adds the list of elements as a **list** into the first list."
   ]
  },
  {
   "attachments": {},
   "cell_type": "markdown",
   "id": "12251e33",
   "metadata": {},
   "source": [
    "# Some loose ends"
   ]
  },
  {
   "attachments": {},
   "cell_type": "markdown",
   "id": "0c49d6f1",
   "metadata": {},
   "source": [
    "## 1.5 Tuples"
   ]
  },
  {
   "attachments": {},
   "cell_type": "markdown",
   "id": "8b8b3290",
   "metadata": {},
   "source": [
    "## 1.6 Be VERY careful when copying"
   ]
  },
  {
   "attachments": {},
   "cell_type": "markdown",
   "id": "d4226b63",
   "metadata": {},
   "source": [
    "# Exercises & Self-Assessment"
   ]
  },
  {
   "cell_type": "code",
   "execution_count": null,
   "id": "e15a641d",
   "metadata": {},
   "outputs": [],
   "source": [
    "\n",
    "\n",
    "\n",
    "# Your solution here\n",
    "\n",
    "\n"
   ]
  },
  {
   "attachments": {},
   "cell_type": "markdown",
   "id": "29a19d0a",
   "metadata": {},
   "source": [
    "## Footnotes"
   ]
  }
 ],
 "metadata": {
  "kernelspec": {
   "display_name": "Python 3 (ipykernel)",
   "language": "python",
   "name": "python3"
  },
  "language_info": {
   "codemirror_mode": {
    "name": "ipython",
    "version": 3
   },
   "file_extension": ".py",
   "mimetype": "text/x-python",
   "name": "python",
   "nbconvert_exporter": "python",
   "pygments_lexer": "ipython3",
   "version": "3.11.5"
  },
  "toc": {
   "base_numbering": 1,
   "nav_menu": {},
   "number_sections": true,
   "sideBar": true,
   "skip_h1_title": false,
   "title_cell": "Table of Contents",
   "title_sidebar": "Contents",
   "toc_cell": false,
   "toc_position": {},
   "toc_section_display": true,
   "toc_window_display": false
  },
  "vscode": {
   "interpreter": {
    "hash": "31f2aee4e71d21fbe5cf8b01ff0e069b9275f58929596ceb00d14d90e3e16cd6"
   }
  }
 },
 "nbformat": 4,
 "nbformat_minor": 5
}
