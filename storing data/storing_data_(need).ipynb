{
 "cells": [
  {
   "attachments": {},
   "cell_type": "markdown",
   "id": "123456",
   "metadata": {},
   "source": [
    "<div style=\"text-align:left;font-size:2em\"><span style=\"font-weight:bolder;font-size:1.25em\">SP2273 | Learning Portfolio</span><br><br><span style=\"font-weight:bold;color:darkred\">Storing Data (Need)</span></div>"
   ]
  },
  {
   "attachments": {},
   "cell_type": "markdown",
   "id": "1774af5a",
   "metadata": {},
   "source": [
    "# What to expect in this chapter"
   ]
  },
  {
   "cell_type": "markdown",
   "id": "aa845953-5f38-448f-b703-da1245a60aff",
   "metadata": {},
   "source": [
    "1. Lists.\n",
    "2. Numpy arrays.\n",
    "3. Dictionaries.\n",
    "4. Tuples.\n",
    "5. Dataframes.\n",
    "6. Classes.\n",
    "\n",
    "Focus on: lists, arrays, dictionaries and tuples.\\\n",
    "Influences how one thinks about data."
   ]
  },
  {
   "attachments": {},
   "cell_type": "markdown",
   "id": "0e8bc3f4",
   "metadata": {},
   "source": [
    "# 1 Lists, Arrays & Dictionaries"
   ]
  },
  {
   "attachments": {},
   "cell_type": "markdown",
   "id": "5ac2433d",
   "metadata": {},
   "source": [
    "## 1.1 Let’s compare"
   ]
  },
  {
   "cell_type": "markdown",
   "id": "ad655286-5e48-464d-985a-86f48a6a6e01",
   "metadata": {},
   "source": [
    "Comparing info using lists, arrays and dictionaries.\n",
    "- 'Lists' refer to Python lists.\n",
    "- 'Arrays' refer to NumPy arrays."
   ]
  },
  {
   "cell_type": "markdown",
   "id": "c5aaa2a9-f722-4892-aff3-fb5aa48520b0",
   "metadata": {},
   "source": [
    "Python Lists:"
   ]
  },
  {
   "cell_type": "code",
   "execution_count": 1,
   "id": "e1c43166-8652-43f2-9a61-500ec8276a9d",
   "metadata": {},
   "outputs": [],
   "source": [
    "py_super_names = [\"Black Widow\", \"Iron Man\", \"Doctor Strange\"]\n",
    "py_real_names = [\"Natasha Romanoff\", \"Tony Stark\", \"Stephen Strange\"]"
   ]
  },
  {
   "cell_type": "markdown",
   "id": "cc4f463f-013f-442f-b50f-f27256e028c5",
   "metadata": {},
   "source": [
    "Numpy Arrays:"
   ]
  },
  {
   "cell_type": "code",
   "execution_count": 3,
   "id": "18df693d-4208-477b-b167-94a5c71a9f82",
   "metadata": {},
   "outputs": [],
   "source": [
    "import numpy as np\n",
    "np_super_names = np.array([\"Black Widow\", \"Iron Man\", \"Doctor Strange\"])\n",
    "np_real_names = np.array([\"Natasha Romanoff\", \"Tony Stark\", \"Stephen Strange\"])"
   ]
  },
  {
   "cell_type": "markdown",
   "id": "a4239013-2960-4972-9f2f-e4a1864cd124",
   "metadata": {},
   "source": [
    "Dictionary:"
   ]
  },
  {
   "cell_type": "code",
   "execution_count": 13,
   "id": "946e69ce-bd4e-4139-94a4-8d281eeeb972",
   "metadata": {},
   "outputs": [],
   "source": [
    "superhero_info = {\n",
    "    \"Natasha Romanoff\": \"Black Widow\",\n",
    "    \"Tony Stark\": \"Iron Man\",\n",
    "    \"Stephen Strange\": \"Doctor Strange\"\n",
    "}"
   ]
  },
  {
   "cell_type": "markdown",
   "id": "862e6411-f0db-4cce-bce2-94a4506b1840",
   "metadata": {},
   "source": [
    "Points to note:\n",
    "- Dictionaries use key and associated value separated by `:`.\n",
    "- Dictionary holds key and value in 1 structure, list and arrays need 2 structures (lists/ arrays).\n",
    "- Order for lists and arrays must be same to be associated to each other.\n",
    "- `py` and `np` added in front of variable for clarity; can use any variable names except Python keywords."
   ]
  },
  {
   "attachments": {},
   "cell_type": "markdown",
   "id": "b8c7cdba",
   "metadata": {},
   "source": [
    "## 1.2 Accessing data from a list (or array)"
   ]
  },
  {
   "cell_type": "markdown",
   "id": "2c33232e-82b8-4fa8-b6f5-3a3411f0814b",
   "metadata": {},
   "source": [
    "Needing to use index that corresponds to data's position.\n",
    "Python is zero-indexed language, starts counting/ indexing at 0.\n",
    "To access particular element in list/ array, need specify relevant index."
   ]
  },
  {
   "cell_type": "markdown",
   "id": "99a74bff-b2d7-4075-bada-f38251e68aec",
   "metadata": {},
   "source": [
    "E.g. 1:"
   ]
  },
  {
   "cell_type": "code",
   "execution_count": 14,
   "id": "e04f50fe-6ce6-4b3b-8bf1-1b6bad2fe355",
   "metadata": {},
   "outputs": [
    {
     "data": {
      "text/plain": [
       "'Natasha Romanoff'"
      ]
     },
     "execution_count": 14,
     "metadata": {},
     "output_type": "execute_result"
    }
   ],
   "source": [
    "py_real_names[0]"
   ]
  },
  {
   "cell_type": "markdown",
   "id": "7c27b581-f8a6-4d10-8023-2942a372d59a",
   "metadata": {},
   "source": [
    "E.g. 2:"
   ]
  },
  {
   "cell_type": "code",
   "execution_count": 15,
   "id": "ed4931d3-d13e-4fef-a5c9-a81fa868032e",
   "metadata": {},
   "outputs": [
    {
     "data": {
      "text/plain": [
       "'Black Widow'"
      ]
     },
     "execution_count": 15,
     "metadata": {},
     "output_type": "execute_result"
    }
   ],
   "source": [
    "py_super_names[0]"
   ]
  },
  {
   "cell_type": "markdown",
   "id": "b672903c-9de3-4807-a156-b4462501044e",
   "metadata": {},
   "source": [
    "E.g. 3:"
   ]
  },
  {
   "cell_type": "code",
   "execution_count": 17,
   "id": "f9be7744-769c-4494-9cfd-95f45f3c4a0f",
   "metadata": {},
   "outputs": [
    {
     "data": {
      "text/plain": [
       "'Doctor Strange'"
      ]
     },
     "execution_count": 17,
     "metadata": {},
     "output_type": "execute_result"
    }
   ],
   "source": [
    "py_super_names[2]"
   ]
  },
  {
   "cell_type": "code",
   "execution_count": 18,
   "id": "d62dc246-4c60-44ee-9718-0530a6db91bc",
   "metadata": {},
   "outputs": [
    {
     "data": {
      "text/plain": [
       "'Doctor Strange'"
      ]
     },
     "execution_count": 18,
     "metadata": {},
     "output_type": "execute_result"
    }
   ],
   "source": [
    "py_super_names[-1]"
   ]
  },
  {
   "cell_type": "markdown",
   "id": "e6772ebf-9512-48d4-95e9-d91ee059526d",
   "metadata": {},
   "source": [
    "Negative index will start from back of list.\\\n",
    "Useful to access last element without knowing list size.\\\n",
    "Index '-1' gives last element."
   ]
  },
  {
   "attachments": {},
   "cell_type": "markdown",
   "id": "7024c2e2",
   "metadata": {},
   "source": [
    "## 1.3 Accessing data from a dictionary"
   ]
  },
  {
   "cell_type": "markdown",
   "id": "921eee36-d6c7-4735-aac6-fc17b84fbda9",
   "metadata": {},
   "source": [
    "Dictionaries have key-value structure."
   ]
  },
  {
   "cell_type": "code",
   "execution_count": 19,
   "id": "af795626-6a0b-4983-a9b9-c7ac86c153ad",
   "metadata": {},
   "outputs": [
    {
     "data": {
      "text/plain": [
       "'Black Widow'"
      ]
     },
     "execution_count": 19,
     "metadata": {},
     "output_type": "execute_result"
    }
   ],
   "source": [
    "superhero_info[\"Natasha Romanoff\"]"
   ]
  },
  {
   "cell_type": "markdown",
   "id": "ed76f316-a753-4547-af19-f70484e07c4c",
   "metadata": {},
   "source": [
    "Accessing all keys:"
   ]
  },
  {
   "cell_type": "code",
   "execution_count": 20,
   "id": "778d717d-64ea-4400-84c6-03a165e1d8af",
   "metadata": {},
   "outputs": [
    {
     "data": {
      "text/plain": [
       "dict_keys(['Natasha Romanoff', 'Tony Stark', 'Stephen Strange'])"
      ]
     },
     "execution_count": 20,
     "metadata": {},
     "output_type": "execute_result"
    }
   ],
   "source": [
    "superhero_info.keys()"
   ]
  },
  {
   "cell_type": "markdown",
   "id": "6d63a924-54e9-4f9a-9ec7-4e8f2ca2c792",
   "metadata": {},
   "source": [
    "Accessing all values:"
   ]
  },
  {
   "cell_type": "code",
   "execution_count": 21,
   "id": "c811b727-6193-483d-8d21-6136a09c4035",
   "metadata": {},
   "outputs": [
    {
     "data": {
      "text/plain": [
       "dict_values(['Black Widow', 'Iron Man', 'Doctor Strange'])"
      ]
     },
     "execution_count": 21,
     "metadata": {},
     "output_type": "execute_result"
    }
   ],
   "source": [
    "superhero_info.values()"
   ]
  },
  {
   "attachments": {},
   "cell_type": "markdown",
   "id": "8d457d90",
   "metadata": {},
   "source": [
    "## 1.4 Higher dimensional lists"
   ]
  },
  {
   "cell_type": "markdown",
   "id": "6cda2047-b757-40be-a538-db62654b7bf6",
   "metadata": {},
   "source": [
    "Instead of having 2 lists, can use 2D list/ array."
   ]
  },
  {
   "cell_type": "code",
   "execution_count": 22,
   "id": "29c17ae1-1545-4a6d-b3e0-d7cca10029dd",
   "metadata": {},
   "outputs": [],
   "source": [
    "py_superhero_info = [[\"Natasha Romanoff\", \"Black Widow\"],\n",
    "                     [\"Tony Stark\", \"Iron Man\"],\n",
    "                     [\"Stephen Strange\", \"Doctor Strange\"]]"
   ]
  },
  {
   "attachments": {},
   "cell_type": "markdown",
   "id": "933e45bb",
   "metadata": {},
   "source": [
    "# 2 Lists vs. Arrays"
   ]
  },
  {
   "cell_type": "markdown",
   "id": "3726d322-aa05-4246-8d8e-459be2527eb3",
   "metadata": {},
   "source": [
    "Important to know similarities and differences betwwen lists and arrays."
   ]
  },
  {
   "attachments": {},
   "cell_type": "markdown",
   "id": "25639cf1",
   "metadata": {},
   "source": [
    "## 2.1 Size"
   ]
  },
  {
   "cell_type": "markdown",
   "id": "7230a8ca-f0fe-4649-95c6-58c88d02c93c",
   "metadata": {},
   "source": [
    "Knowing number of elements in lists or arrays using length function.\\\n",
    "Format: `len()`."
   ]
  },
  {
   "cell_type": "code",
   "execution_count": 24,
   "id": "86af22b1-d3e5-44a3-9a4a-0aac27baa6cd",
   "metadata": {},
   "outputs": [],
   "source": [
    "py_list_2d = [[1,\"A\"],[2,\"B\"],[3,\"C\"],[4,\"D\"],[5,\"E\"],\n",
    "              [6,\"F\"],[7,\"G\"],[8,\"H\"],[9,\"I\"],[10,\"J\"]]\n",
    "np_array_2d = np.array(py_list_2d)  # Reusing Python list to create new NumPy array."
   ]
  },
  {
   "cell_type": "markdown",
   "id": "8370cf9a-0062-4b92-be17-713bdcab85b7",
   "metadata": {},
   "source": [
    "Lists:"
   ]
  },
  {
   "cell_type": "code",
   "execution_count": 25,
   "id": "bbd3f37b-fe76-417b-9452-997b809d3c76",
   "metadata": {},
   "outputs": [
    {
     "data": {
      "text/plain": [
       "10"
      ]
     },
     "execution_count": 25,
     "metadata": {},
     "output_type": "execute_result"
    }
   ],
   "source": [
    "len(py_list_2d)"
   ]
  },
  {
   "cell_type": "markdown",
   "id": "5262a16a-8b43-4f49-ad17-261a10c3e572",
   "metadata": {},
   "source": [
    "Arrays:"
   ]
  },
  {
   "cell_type": "code",
   "execution_count": 27,
   "id": "da10ce8a-45e3-4941-bc5b-b6020d63d9c0",
   "metadata": {},
   "outputs": [
    {
     "data": {
      "text/plain": [
       "10"
      ]
     },
     "execution_count": 27,
     "metadata": {},
     "output_type": "execute_result"
    }
   ],
   "source": [
    "len(np_array_2d)"
   ]
  },
  {
   "cell_type": "code",
   "execution_count": 28,
   "id": "2ac7264b-22e0-4961-a9a6-b47f686f12cb",
   "metadata": {},
   "outputs": [
    {
     "data": {
      "text/plain": [
       "(10, 2)"
      ]
     },
     "execution_count": 28,
     "metadata": {},
     "output_type": "execute_result"
    }
   ],
   "source": [
    "np_array_2d.shape"
   ]
  },
  {
   "cell_type": "markdown",
   "id": "e8f9c124-0884-42f1-b543-7db281d6058f",
   "metadata": {},
   "source": [
    "`Shape` does not have brackets `()`.\\\n",
    "`Shape` is property/ attribute of NumPy array, not function.\\\n",
    "For arrays, can use either `len()` or `.shape`."
   ]
  },
  {
   "attachments": {},
   "cell_type": "markdown",
   "id": "8e0f3a31",
   "metadata": {},
   "source": [
    "## 2.2 Arrays are fussy about type"
   ]
  },
  {
   "attachments": {},
   "cell_type": "markdown",
   "id": "65a0f725",
   "metadata": {},
   "source": [
    "## 2.3 Adding a number"
   ]
  },
  {
   "attachments": {},
   "cell_type": "markdown",
   "id": "77c14eea",
   "metadata": {},
   "source": [
    "## 2.4 Adding another list"
   ]
  },
  {
   "attachments": {},
   "cell_type": "markdown",
   "id": "33f4152e",
   "metadata": {},
   "source": [
    "## 2.5 Multiplying by a Number"
   ]
  },
  {
   "attachments": {},
   "cell_type": "markdown",
   "id": "ec2e9503",
   "metadata": {},
   "source": [
    "## 2.6 Squaring"
   ]
  },
  {
   "attachments": {},
   "cell_type": "markdown",
   "id": "b8207e1f",
   "metadata": {},
   "source": [
    "## 2.7 Asking questions"
   ]
  },
  {
   "attachments": {},
   "cell_type": "markdown",
   "id": "69db4acc",
   "metadata": {},
   "source": [
    "## 2.8 Mathematics"
   ]
  },
  {
   "attachments": {},
   "cell_type": "markdown",
   "id": "52d80d33",
   "metadata": {},
   "source": [
    "# Exercises & Self-Assessment"
   ]
  },
  {
   "cell_type": "code",
   "execution_count": null,
   "id": "1364b114",
   "metadata": {},
   "outputs": [],
   "source": [
    "\n",
    "\n",
    "\n",
    "# Your solution here\n",
    "\n",
    "\n"
   ]
  },
  {
   "attachments": {},
   "cell_type": "markdown",
   "id": "15a973ad",
   "metadata": {},
   "source": [
    "## Footnotes"
   ]
  }
 ],
 "metadata": {
  "kernelspec": {
   "display_name": "Python 3 (ipykernel)",
   "language": "python",
   "name": "python3"
  },
  "language_info": {
   "codemirror_mode": {
    "name": "ipython",
    "version": 3
   },
   "file_extension": ".py",
   "mimetype": "text/x-python",
   "name": "python",
   "nbconvert_exporter": "python",
   "pygments_lexer": "ipython3",
   "version": "3.11.5"
  },
  "toc": {
   "base_numbering": 1,
   "nav_menu": {},
   "number_sections": true,
   "sideBar": true,
   "skip_h1_title": false,
   "title_cell": "Table of Contents",
   "title_sidebar": "Contents",
   "toc_cell": false,
   "toc_position": {},
   "toc_section_display": true,
   "toc_window_display": false
  },
  "vscode": {
   "interpreter": {
    "hash": "31f2aee4e71d21fbe5cf8b01ff0e069b9275f58929596ceb00d14d90e3e16cd6"
   }
  }
 },
 "nbformat": 4,
 "nbformat_minor": 5
}
