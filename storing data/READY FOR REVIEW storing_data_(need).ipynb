{
 "cells": [
  {
   "attachments": {},
   "cell_type": "markdown",
   "id": "123456",
   "metadata": {},
   "source": [
    "<div style=\"text-align:left;font-size:2em\"><span style=\"font-weight:bolder;font-size:1.25em\">SP2273 | Learning Portfolio</span><br><br><span style=\"font-weight:bold;color:darkred\">Storing Data (Need)</span></div>"
   ]
  },
  {
   "attachments": {},
   "cell_type": "markdown",
   "id": "1774af5a",
   "metadata": {},
   "source": [
    "# What to expect in this chapter"
   ]
  },
  {
   "cell_type": "markdown",
   "id": "aa845953-5f38-448f-b703-da1245a60aff",
   "metadata": {},
   "source": [
    "Ways to store data:\n",
    "1. Lists.\n",
    "2. Numpy arrays.\n",
    "3. Dictionaries.\n",
    "4. Tuples.\n",
    "5. Dataframes.\n",
    "6. Classes.\n",
    "\n",
    "Focus on lists, arrays, dictionaries and tuples.\\\n",
    "Influences how one thinks about data."
   ]
  },
  {
   "attachments": {},
   "cell_type": "markdown",
   "id": "0e8bc3f4",
   "metadata": {},
   "source": [
    "# 1 Lists, Arrays & Dictionaries"
   ]
  },
  {
   "attachments": {},
   "cell_type": "markdown",
   "id": "5ac2433d",
   "metadata": {},
   "source": [
    "## 1.1 Let’s compare"
   ]
  },
  {
   "cell_type": "markdown",
   "id": "ad655286-5e48-464d-985a-86f48a6a6e01",
   "metadata": {},
   "source": [
    "Comparing info using lists, arrays and dictionaries.\n",
    "- 'Lists' refer to Python lists.\n",
    "- 'Arrays' refer to NumPy arrays."
   ]
  },
  {
   "cell_type": "markdown",
   "id": "c5aaa2a9-f722-4892-aff3-fb5aa48520b0",
   "metadata": {},
   "source": [
    "### Python Lists:"
   ]
  },
  {
   "cell_type": "code",
   "execution_count": 1,
   "id": "e1c43166-8652-43f2-9a61-500ec8276a9d",
   "metadata": {},
   "outputs": [],
   "source": [
    "py_super_names = [\"Black Widow\", \"Iron Man\", \"Doctor Strange\"]\n",
    "py_real_names = [\"Natasha Romanoff\", \"Tony Stark\", \"Stephen Strange\"]"
   ]
  },
  {
   "cell_type": "markdown",
   "id": "cc4f463f-013f-442f-b50f-f27256e028c5",
   "metadata": {},
   "source": [
    "### Numpy Arrays:"
   ]
  },
  {
   "cell_type": "code",
   "execution_count": 3,
   "id": "18df693d-4208-477b-b167-94a5c71a9f82",
   "metadata": {},
   "outputs": [],
   "source": [
    "import numpy as np\n",
    "np_super_names = np.array([\"Black Widow\", \"Iron Man\", \"Doctor Strange\"])\n",
    "np_real_names = np.array([\"Natasha Romanoff\", \"Tony Stark\", \"Stephen Strange\"])"
   ]
  },
  {
   "cell_type": "markdown",
   "id": "a4239013-2960-4972-9f2f-e4a1864cd124",
   "metadata": {},
   "source": [
    "### Dictionary:"
   ]
  },
  {
   "cell_type": "code",
   "execution_count": 13,
   "id": "946e69ce-bd4e-4139-94a4-8d281eeeb972",
   "metadata": {},
   "outputs": [],
   "source": [
    "superhero_info = {\n",
    "    \"Natasha Romanoff\": \"Black Widow\",\n",
    "    \"Tony Stark\": \"Iron Man\",\n",
    "    \"Stephen Strange\": \"Doctor Strange\"\n",
    "}"
   ]
  },
  {
   "cell_type": "markdown",
   "id": "862e6411-f0db-4cce-bce2-94a4506b1840",
   "metadata": {},
   "source": [
    "Points to note:\n",
    "- Dictionaries use key and associated value separated by `:`.\n",
    "- Dictionary holds key and value in 1 structure, list and arrays need 2 structures (lists/ arrays).\n",
    "- Order for lists and arrays must be same to be associated to each other.\n",
    "- `py` and `np` added in front of variable for clarity; can use any variable names except Python keywords."
   ]
  },
  {
   "attachments": {},
   "cell_type": "markdown",
   "id": "b8c7cdba",
   "metadata": {},
   "source": [
    "## 1.2 Accessing data from a list (or array)"
   ]
  },
  {
   "cell_type": "markdown",
   "id": "2c33232e-82b8-4fa8-b6f5-3a3411f0814b",
   "metadata": {},
   "source": [
    "Needing to use index that corresponds to data's position.\n",
    "Python is zero-indexed language, starts counting/ indexing at 0.\n",
    "To access particular element in list/ array, need specify relevant index."
   ]
  },
  {
   "cell_type": "markdown",
   "id": "99a74bff-b2d7-4075-bada-f38251e68aec",
   "metadata": {},
   "source": [
    "E.g. 1:"
   ]
  },
  {
   "cell_type": "code",
   "execution_count": 14,
   "id": "e04f50fe-6ce6-4b3b-8bf1-1b6bad2fe355",
   "metadata": {},
   "outputs": [
    {
     "data": {
      "text/plain": [
       "'Natasha Romanoff'"
      ]
     },
     "execution_count": 14,
     "metadata": {},
     "output_type": "execute_result"
    }
   ],
   "source": [
    "py_real_names[0]"
   ]
  },
  {
   "cell_type": "markdown",
   "id": "7c27b581-f8a6-4d10-8023-2942a372d59a",
   "metadata": {},
   "source": [
    "E.g. 2:"
   ]
  },
  {
   "cell_type": "code",
   "execution_count": 15,
   "id": "ed4931d3-d13e-4fef-a5c9-a81fa868032e",
   "metadata": {},
   "outputs": [
    {
     "data": {
      "text/plain": [
       "'Black Widow'"
      ]
     },
     "execution_count": 15,
     "metadata": {},
     "output_type": "execute_result"
    }
   ],
   "source": [
    "py_super_names[0]"
   ]
  },
  {
   "cell_type": "markdown",
   "id": "b672903c-9de3-4807-a156-b4462501044e",
   "metadata": {},
   "source": [
    "E.g. 3:"
   ]
  },
  {
   "cell_type": "code",
   "execution_count": 17,
   "id": "f9be7744-769c-4494-9cfd-95f45f3c4a0f",
   "metadata": {},
   "outputs": [
    {
     "data": {
      "text/plain": [
       "'Doctor Strange'"
      ]
     },
     "execution_count": 17,
     "metadata": {},
     "output_type": "execute_result"
    }
   ],
   "source": [
    "py_super_names[2]"
   ]
  },
  {
   "cell_type": "code",
   "execution_count": 18,
   "id": "d62dc246-4c60-44ee-9718-0530a6db91bc",
   "metadata": {},
   "outputs": [
    {
     "data": {
      "text/plain": [
       "'Doctor Strange'"
      ]
     },
     "execution_count": 18,
     "metadata": {},
     "output_type": "execute_result"
    }
   ],
   "source": [
    "py_super_names[-1]"
   ]
  },
  {
   "cell_type": "markdown",
   "id": "e6772ebf-9512-48d4-95e9-d91ee059526d",
   "metadata": {},
   "source": [
    "Negative index will start from back of list.\\\n",
    "Useful to access last element without knowing list size.\\\n",
    "Index '-1' gives last element."
   ]
  },
  {
   "attachments": {},
   "cell_type": "markdown",
   "id": "7024c2e2",
   "metadata": {},
   "source": [
    "## 1.3 Accessing data from a dictionary"
   ]
  },
  {
   "cell_type": "markdown",
   "id": "921eee36-d6c7-4735-aac6-fc17b84fbda9",
   "metadata": {},
   "source": [
    "Dictionaries have key-value structure."
   ]
  },
  {
   "cell_type": "code",
   "execution_count": 19,
   "id": "af795626-6a0b-4983-a9b9-c7ac86c153ad",
   "metadata": {},
   "outputs": [
    {
     "data": {
      "text/plain": [
       "'Black Widow'"
      ]
     },
     "execution_count": 19,
     "metadata": {},
     "output_type": "execute_result"
    }
   ],
   "source": [
    "superhero_info[\"Natasha Romanoff\"]"
   ]
  },
  {
   "cell_type": "markdown",
   "id": "ed76f316-a753-4547-af19-f70484e07c4c",
   "metadata": {},
   "source": [
    "Accessing all keys:"
   ]
  },
  {
   "cell_type": "code",
   "execution_count": 20,
   "id": "778d717d-64ea-4400-84c6-03a165e1d8af",
   "metadata": {},
   "outputs": [
    {
     "data": {
      "text/plain": [
       "dict_keys(['Natasha Romanoff', 'Tony Stark', 'Stephen Strange'])"
      ]
     },
     "execution_count": 20,
     "metadata": {},
     "output_type": "execute_result"
    }
   ],
   "source": [
    "superhero_info.keys()"
   ]
  },
  {
   "cell_type": "markdown",
   "id": "6d63a924-54e9-4f9a-9ec7-4e8f2ca2c792",
   "metadata": {},
   "source": [
    "Accessing all values:"
   ]
  },
  {
   "cell_type": "code",
   "execution_count": 21,
   "id": "c811b727-6193-483d-8d21-6136a09c4035",
   "metadata": {},
   "outputs": [
    {
     "data": {
      "text/plain": [
       "dict_values(['Black Widow', 'Iron Man', 'Doctor Strange'])"
      ]
     },
     "execution_count": 21,
     "metadata": {},
     "output_type": "execute_result"
    }
   ],
   "source": [
    "superhero_info.values()"
   ]
  },
  {
   "attachments": {},
   "cell_type": "markdown",
   "id": "8d457d90",
   "metadata": {},
   "source": [
    "## 1.4 Higher dimensional lists"
   ]
  },
  {
   "cell_type": "markdown",
   "id": "6cda2047-b757-40be-a538-db62654b7bf6",
   "metadata": {},
   "source": [
    "Instead of having 2 lists, can use 2D list/ array."
   ]
  },
  {
   "cell_type": "code",
   "execution_count": 22,
   "id": "29c17ae1-1545-4a6d-b3e0-d7cca10029dd",
   "metadata": {},
   "outputs": [],
   "source": [
    "py_superhero_info = [[\"Natasha Romanoff\", \"Black Widow\"],\n",
    "                     [\"Tony Stark\", \"Iron Man\"],\n",
    "                     [\"Stephen Strange\", \"Doctor Strange\"]]"
   ]
  },
  {
   "attachments": {},
   "cell_type": "markdown",
   "id": "933e45bb",
   "metadata": {},
   "source": [
    "# 2 Lists vs. Arrays"
   ]
  },
  {
   "cell_type": "markdown",
   "id": "3726d322-aa05-4246-8d8e-459be2527eb3",
   "metadata": {},
   "source": [
    "Important to know similarities and differences betwwen lists and arrays."
   ]
  },
  {
   "attachments": {},
   "cell_type": "markdown",
   "id": "25639cf1",
   "metadata": {},
   "source": [
    "## 2.1 Size"
   ]
  },
  {
   "cell_type": "markdown",
   "id": "7230a8ca-f0fe-4649-95c6-58c88d02c93c",
   "metadata": {},
   "source": [
    "Knowing number of elements in lists or arrays using length function.\\\n",
    "Format: `len()`."
   ]
  },
  {
   "cell_type": "code",
   "execution_count": 24,
   "id": "86af22b1-d3e5-44a3-9a4a-0aac27baa6cd",
   "metadata": {},
   "outputs": [],
   "source": [
    "py_list_2d = [[1,\"A\"],[2,\"B\"],[3,\"C\"],[4,\"D\"],[5,\"E\"],\n",
    "              [6,\"F\"],[7,\"G\"],[8,\"H\"],[9,\"I\"],[10,\"J\"]]\n",
    "np_array_2d = np.array(py_list_2d)  # Reusing Python list to create new NumPy array."
   ]
  },
  {
   "cell_type": "markdown",
   "id": "8370cf9a-0062-4b92-be17-713bdcab85b7",
   "metadata": {},
   "source": [
    "### Lists:"
   ]
  },
  {
   "cell_type": "code",
   "execution_count": 25,
   "id": "bbd3f37b-fe76-417b-9452-997b809d3c76",
   "metadata": {},
   "outputs": [
    {
     "data": {
      "text/plain": [
       "10"
      ]
     },
     "execution_count": 25,
     "metadata": {},
     "output_type": "execute_result"
    }
   ],
   "source": [
    "len(py_list_2d)"
   ]
  },
  {
   "cell_type": "markdown",
   "id": "5262a16a-8b43-4f49-ad17-261a10c3e572",
   "metadata": {},
   "source": [
    "### Arrays:"
   ]
  },
  {
   "cell_type": "code",
   "execution_count": 27,
   "id": "da10ce8a-45e3-4941-bc5b-b6020d63d9c0",
   "metadata": {},
   "outputs": [
    {
     "data": {
      "text/plain": [
       "10"
      ]
     },
     "execution_count": 27,
     "metadata": {},
     "output_type": "execute_result"
    }
   ],
   "source": [
    "len(np_array_2d)"
   ]
  },
  {
   "cell_type": "code",
   "execution_count": 28,
   "id": "2ac7264b-22e0-4961-a9a6-b47f686f12cb",
   "metadata": {},
   "outputs": [
    {
     "data": {
      "text/plain": [
       "(10, 2)"
      ]
     },
     "execution_count": 28,
     "metadata": {},
     "output_type": "execute_result"
    }
   ],
   "source": [
    "np_array_2d.shape"
   ]
  },
  {
   "cell_type": "markdown",
   "id": "e8f9c124-0884-42f1-b543-7db281d6058f",
   "metadata": {},
   "source": [
    "`Shape` does not have brackets `()`.\\\n",
    "`Shape` is property/ attribute of NumPy array, not function.\\\n",
    "For arrays, can use either `len()` or `.shape`."
   ]
  },
  {
   "attachments": {},
   "cell_type": "markdown",
   "id": "8e0f3a31",
   "metadata": {},
   "source": [
    "## 2.2 Arrays are fussy about type"
   ]
  },
  {
   "cell_type": "markdown",
   "id": "73008116-dfbe-4055-b788-8bad153c97ea",
   "metadata": {},
   "source": [
    "Arrays only accept 1 data type.\\\n",
    "Lists can accept multiple data types."
   ]
  },
  {
   "cell_type": "code",
   "execution_count": 29,
   "id": "ea3a529f-0c9b-4dfc-9531-9e078273aa53",
   "metadata": {},
   "outputs": [],
   "source": [
    "py_list = [1, 1.5, 'A']\n",
    "np_array = np.array(py_list)"
   ]
  },
  {
   "cell_type": "markdown",
   "id": "7eb94973-c390-4d93-b82d-6b004e3f5a05",
   "metadata": {},
   "source": [
    "### Lists:"
   ]
  },
  {
   "cell_type": "code",
   "execution_count": 30,
   "id": "48c5386c-05c1-4118-8830-f64eeaacbe37",
   "metadata": {},
   "outputs": [
    {
     "data": {
      "text/plain": [
       "[1, 1.5, 'A']"
      ]
     },
     "execution_count": 30,
     "metadata": {},
     "output_type": "execute_result"
    }
   ],
   "source": [
    "py_list"
   ]
  },
  {
   "cell_type": "markdown",
   "id": "feb04812-b345-4f94-9ae3-b3e61b3a578a",
   "metadata": {},
   "source": [
    "### Arrays:"
   ]
  },
  {
   "cell_type": "code",
   "execution_count": 31,
   "id": "d5ef332b-c7df-474e-bb85-259161bedbab",
   "metadata": {},
   "outputs": [
    {
     "data": {
      "text/plain": [
       "array(['1', '1.5', 'A'], dtype='<U32')"
      ]
     },
     "execution_count": 31,
     "metadata": {},
     "output_type": "execute_result"
    }
   ],
   "source": [
    "np_array"
   ]
  },
  {
   "cell_type": "markdown",
   "id": "454143f9-1da7-4970-84f4-eeeafabe5354",
   "metadata": {},
   "source": [
    "Note: Numbers are converted to English (as shown by `' '`) with array.\\\n",
    "Can change variable type with 'hidden' function `astypes()`."
   ]
  },
  {
   "attachments": {},
   "cell_type": "markdown",
   "id": "65a0f725",
   "metadata": {},
   "source": [
    "## 2.3 Adding a number"
   ]
  },
  {
   "cell_type": "code",
   "execution_count": 32,
   "id": "2f4e153f-12d0-446d-bd4c-9181ff074806",
   "metadata": {},
   "outputs": [],
   "source": [
    "py_list = [1,2,3,4,5]\n",
    "np_array = np.array(py_list)"
   ]
  },
  {
   "cell_type": "markdown",
   "id": "1a990270-a259-4156-b314-50050802273e",
   "metadata": {},
   "source": [
    "### Lists:"
   ]
  },
  {
   "cell_type": "code",
   "execution_count": 33,
   "id": "b5af22a1-6f4c-4286-8aa1-22beec466543",
   "metadata": {},
   "outputs": [
    {
     "ename": "TypeError",
     "evalue": "can only concatenate list (not \"int\") to list",
     "output_type": "error",
     "traceback": [
      "\u001b[1;31m---------------------------------------------------------------------------\u001b[0m",
      "\u001b[1;31mTypeError\u001b[0m                                 Traceback (most recent call last)",
      "Cell \u001b[1;32mIn[33], line 1\u001b[0m\n\u001b[1;32m----> 1\u001b[0m \u001b[43mpy_list\u001b[49m\u001b[43m \u001b[49m\u001b[38;5;241;43m+\u001b[39;49m\u001b[43m \u001b[49m\u001b[38;5;241;43m10\u001b[39;49m\n",
      "\u001b[1;31mTypeError\u001b[0m: can only concatenate list (not \"int\") to list"
     ]
    }
   ],
   "source": [
    "py_list + 10"
   ]
  },
  {
   "cell_type": "markdown",
   "id": "a15f344e-5432-484e-9cff-01cb6e1a2a3a",
   "metadata": {},
   "source": [
    "### Arrays:"
   ]
  },
  {
   "cell_type": "code",
   "execution_count": 34,
   "id": "4049ad38-0d08-43bd-9c71-3daa44c970c5",
   "metadata": {},
   "outputs": [
    {
     "data": {
      "text/plain": [
       "array([11, 12, 13, 14, 15])"
      ]
     },
     "execution_count": 34,
     "metadata": {},
     "output_type": "execute_result"
    }
   ],
   "source": [
    "np_array + 10"
   ]
  },
  {
   "cell_type": "markdown",
   "id": "39020dcc-5c14-4f51-9cf9-1ce96f40593c",
   "metadata": {},
   "source": [
    "Note: Lists cannot add numbers."
   ]
  },
  {
   "attachments": {},
   "cell_type": "markdown",
   "id": "77c14eea",
   "metadata": {},
   "source": [
    "## 2.4 Adding another list"
   ]
  },
  {
   "cell_type": "code",
   "execution_count": 42,
   "id": "5139b23b-fc4d-4dfd-becc-b9826d297328",
   "metadata": {},
   "outputs": [],
   "source": [
    "py_list_1 = [1,2,3,4,5]\n",
    "py_list_2 = [10,20,30,40,50]\n",
    "\n",
    "np_array_1 = np.array(py_list_1)\n",
    "np_array_2 = np.array(py_list_2)"
   ]
  },
  {
   "cell_type": "markdown",
   "id": "da40b38a-6356-4ed6-804f-303a72120dd8",
   "metadata": {},
   "source": [
    "### Lists:"
   ]
  },
  {
   "cell_type": "code",
   "execution_count": 41,
   "id": "3aaf7b25-f353-44c0-99e1-23c2566325de",
   "metadata": {},
   "outputs": [
    {
     "data": {
      "text/plain": [
       "[1, 2, 3, 4, 5, 10, 20, 30, 40, 50]"
      ]
     },
     "execution_count": 41,
     "metadata": {},
     "output_type": "execute_result"
    }
   ],
   "source": [
    "py_list_1 + py_list_2"
   ]
  },
  {
   "cell_type": "markdown",
   "id": "0644baa9-fc7f-48aa-baec-a0aca7aaaa76",
   "metadata": {},
   "source": [
    "Grows list by combining lists together into 1 list."
   ]
  },
  {
   "cell_type": "markdown",
   "id": "1142c2f3-518d-436e-8542-1548946d14f1",
   "metadata": {},
   "source": [
    "### Arrays:"
   ]
  },
  {
   "cell_type": "code",
   "execution_count": 43,
   "id": "ad86c8cb-9159-4d92-a585-4a5f12a864d6",
   "metadata": {},
   "outputs": [
    {
     "data": {
      "text/plain": [
       "array([11, 22, 33, 44, 55])"
      ]
     },
     "execution_count": 43,
     "metadata": {},
     "output_type": "execute_result"
    }
   ],
   "source": [
    "np_array_1 + np_array_2"
   ]
  },
  {
   "cell_type": "markdown",
   "id": "b2fbade4-c33a-4dad-800a-7f1a3a9486fc",
   "metadata": {},
   "source": [
    "Combines elements of the same position in the lists together; element-wise operation."
   ]
  },
  {
   "attachments": {},
   "cell_type": "markdown",
   "id": "33f4152e",
   "metadata": {},
   "source": [
    "## 2.5 Multiplying by a Number"
   ]
  },
  {
   "cell_type": "code",
   "execution_count": 44,
   "id": "aba8e644-89a2-4434-ba30-590c16b4a9b5",
   "metadata": {},
   "outputs": [],
   "source": [
    "py_list = [1,2,3,4,5]\n",
    "np_array = np.array(py_list)"
   ]
  },
  {
   "cell_type": "markdown",
   "id": "d88f58cc-b973-49b9-9d22-230737c33260",
   "metadata": {},
   "source": [
    "### Lists:"
   ]
  },
  {
   "cell_type": "code",
   "execution_count": 45,
   "id": "be169ed4-6cac-4290-b4d7-2f61e6ac6c97",
   "metadata": {},
   "outputs": [
    {
     "data": {
      "text/plain": [
       "[1, 2, 3, 4, 5, 1, 2, 3, 4, 5]"
      ]
     },
     "execution_count": 45,
     "metadata": {},
     "output_type": "execute_result"
    }
   ],
   "source": [
    "py_list*2"
   ]
  },
  {
   "cell_type": "markdown",
   "id": "4d700294-c85a-4e4a-a976-14ba0d69dd66",
   "metadata": {},
   "source": [
    "Grows list by repeating elements in the list by the number of times specified."
   ]
  },
  {
   "cell_type": "markdown",
   "id": "8f29b065-55ce-4cc0-9b1b-f25a92b0f4f4",
   "metadata": {},
   "source": [
    "### Arrays:"
   ]
  },
  {
   "cell_type": "code",
   "execution_count": 46,
   "id": "4937971e-ce12-4d7c-98cd-fa24d55f3e32",
   "metadata": {},
   "outputs": [
    {
     "data": {
      "text/plain": [
       "array([ 2,  4,  6,  8, 10])"
      ]
     },
     "execution_count": 46,
     "metadata": {},
     "output_type": "execute_result"
    }
   ],
   "source": [
    "np_array*2"
   ]
  },
  {
   "cell_type": "markdown",
   "id": "9bab8a23-0669-48b5-9ef5-096c25abaeaf",
   "metadata": {},
   "source": [
    "Multiplies elements by the number specified."
   ]
  },
  {
   "attachments": {},
   "cell_type": "markdown",
   "id": "ec2e9503",
   "metadata": {},
   "source": [
    "## 2.6 Squaring"
   ]
  },
  {
   "cell_type": "code",
   "execution_count": 47,
   "id": "200b78c8-cad4-4506-a3e1-1095d54491c3",
   "metadata": {},
   "outputs": [],
   "source": [
    "py_list = [1,2,3,4,5]\n",
    "np_array = np.array(py_list)"
   ]
  },
  {
   "cell_type": "markdown",
   "id": "bfb49eef-fe59-498d-9d3e-a5b1583bc9ff",
   "metadata": {},
   "source": [
    "### Lists:"
   ]
  },
  {
   "cell_type": "code",
   "execution_count": 48,
   "id": "271b3cd7-4e67-4d5a-8c66-2abcca2a0837",
   "metadata": {},
   "outputs": [
    {
     "ename": "TypeError",
     "evalue": "unsupported operand type(s) for ** or pow(): 'list' and 'int'",
     "output_type": "error",
     "traceback": [
      "\u001b[1;31m---------------------------------------------------------------------------\u001b[0m",
      "\u001b[1;31mTypeError\u001b[0m                                 Traceback (most recent call last)",
      "Cell \u001b[1;32mIn[48], line 1\u001b[0m\n\u001b[1;32m----> 1\u001b[0m \u001b[43mpy_list\u001b[49m\u001b[38;5;241;43m*\u001b[39;49m\u001b[38;5;241;43m*\u001b[39;49m\u001b[38;5;241;43m2\u001b[39;49m\n",
      "\u001b[1;31mTypeError\u001b[0m: unsupported operand type(s) for ** or pow(): 'list' and 'int'"
     ]
    }
   ],
   "source": [
    "py_list**2"
   ]
  },
  {
   "cell_type": "markdown",
   "id": "e9bb6be2-37b9-49de-aacb-c7e228dbac7e",
   "metadata": {},
   "source": [
    "### Arrays:"
   ]
  },
  {
   "cell_type": "code",
   "execution_count": 49,
   "id": "8b7ab974-83d7-4b65-b726-a12699e38459",
   "metadata": {},
   "outputs": [
    {
     "data": {
      "text/plain": [
       "array([ 1,  4,  9, 16, 25])"
      ]
     },
     "execution_count": 49,
     "metadata": {},
     "output_type": "execute_result"
    }
   ],
   "source": [
    "np_array**2"
   ]
  },
  {
   "cell_type": "markdown",
   "id": "cc8226d6-7b1e-40f2-89ad-46c2f783b603",
   "metadata": {},
   "source": [
    "Note: Lists cannot be squared."
   ]
  },
  {
   "attachments": {},
   "cell_type": "markdown",
   "id": "b8207e1f",
   "metadata": {},
   "source": [
    "## 2.7 Asking questions"
   ]
  },
  {
   "cell_type": "code",
   "execution_count": 51,
   "id": "04bc407c-e79a-4f7b-b109-b244271b34c0",
   "metadata": {},
   "outputs": [],
   "source": [
    "py_list = [1,2,3,4,5]\n",
    "np_array = np.array(py_list)"
   ]
  },
  {
   "cell_type": "markdown",
   "id": "c8b7d483-1487-41db-86c0-6588329970bd",
   "metadata": {},
   "source": [
    "### Lists:"
   ]
  },
  {
   "cell_type": "markdown",
   "id": "1ce87cdc-f068-4bf0-a809-a5a16d6945a0",
   "metadata": {},
   "source": [
    "E.g. 1:"
   ]
  },
  {
   "cell_type": "code",
   "execution_count": 52,
   "id": "57ff1f90-635f-411f-a3a9-725171fd1030",
   "metadata": {},
   "outputs": [
    {
     "data": {
      "text/plain": [
       "False"
      ]
     },
     "execution_count": 52,
     "metadata": {},
     "output_type": "execute_result"
    }
   ],
   "source": [
    "py_list == 3"
   ]
  },
  {
   "cell_type": "markdown",
   "id": "c71e63a3-d9d9-4ed8-b93e-3bc2ce46281f",
   "metadata": {},
   "source": [
    "Works, but what is the question asked?"
   ]
  },
  {
   "cell_type": "markdown",
   "id": "fffb5e7f-29f1-4b63-9867-8ba95cff7171",
   "metadata": {},
   "source": [
    "E.g. 2:"
   ]
  },
  {
   "cell_type": "code",
   "execution_count": 55,
   "id": "9c7ae729-a861-4d97-b883-a7bee3cb21c2",
   "metadata": {},
   "outputs": [
    {
     "ename": "TypeError",
     "evalue": "'>' not supported between instances of 'list' and 'int'",
     "output_type": "error",
     "traceback": [
      "\u001b[1;31m---------------------------------------------------------------------------\u001b[0m",
      "\u001b[1;31mTypeError\u001b[0m                                 Traceback (most recent call last)",
      "Cell \u001b[1;32mIn[55], line 1\u001b[0m\n\u001b[1;32m----> 1\u001b[0m \u001b[43mpy_list\u001b[49m\u001b[43m \u001b[49m\u001b[38;5;241;43m>\u001b[39;49m\u001b[43m \u001b[49m\u001b[38;5;241;43m3\u001b[39;49m\n",
      "\u001b[1;31mTypeError\u001b[0m: '>' not supported between instances of 'list' and 'int'"
     ]
    }
   ],
   "source": [
    "py_list > 3"
   ]
  },
  {
   "cell_type": "markdown",
   "id": "36e33a16-c855-4b88-99f2-4f6582571e82",
   "metadata": {},
   "source": [
    "Does not work."
   ]
  },
  {
   "cell_type": "markdown",
   "id": "e941c920-1489-4e7d-947c-b353c2e4d6e0",
   "metadata": {},
   "source": [
    "### Arrays:"
   ]
  },
  {
   "cell_type": "markdown",
   "id": "c4a8bcee-3d5f-408f-a617-108ecd2a9659",
   "metadata": {},
   "source": [
    "E.g. 1:"
   ]
  },
  {
   "cell_type": "code",
   "execution_count": 56,
   "id": "a45b66bc-ac6a-42bc-8c06-89011f771aae",
   "metadata": {},
   "outputs": [
    {
     "data": {
      "text/plain": [
       "array([False, False,  True, False, False])"
      ]
     },
     "execution_count": 56,
     "metadata": {},
     "output_type": "execute_result"
    }
   ],
   "source": [
    "np_array == 3"
   ]
  },
  {
   "cell_type": "markdown",
   "id": "39eaf5a3-195e-4496-a648-6bf1cb0cf0f8",
   "metadata": {},
   "source": [
    "E.g. 2:"
   ]
  },
  {
   "cell_type": "code",
   "execution_count": 58,
   "id": "947c183c-c71e-42f6-b7c2-e78c84c44960",
   "metadata": {},
   "outputs": [
    {
     "data": {
      "text/plain": [
       "array([False, False, False,  True,  True])"
      ]
     },
     "execution_count": 58,
     "metadata": {},
     "output_type": "execute_result"
    }
   ],
   "source": [
    "np_array > 3"
   ]
  },
  {
   "attachments": {},
   "cell_type": "markdown",
   "id": "69db4acc",
   "metadata": {},
   "source": [
    "## 2.8 Mathematics"
   ]
  },
  {
   "cell_type": "code",
   "execution_count": 51,
   "id": "2f9291a4-4797-438a-9582-25fdd368cbb8",
   "metadata": {},
   "outputs": [],
   "source": [
    "py_list = [1,2,3,4,5]\n",
    "np_array = np.array(py_list)"
   ]
  },
  {
   "cell_type": "markdown",
   "id": "3f723552-bcab-4834-b1df-8b63fe39539a",
   "metadata": {},
   "source": [
    "### Lists:"
   ]
  },
  {
   "cell_type": "markdown",
   "id": "0fadfa62-6741-4450-97a3-f91a4353bc5b",
   "metadata": {},
   "source": [
    "E.g. 1:"
   ]
  },
  {
   "cell_type": "code",
   "execution_count": 59,
   "id": "eebf7eac-0a4e-4c6f-b64a-54da3198fb0a",
   "metadata": {},
   "outputs": [
    {
     "data": {
      "text/plain": [
       "15"
      ]
     },
     "execution_count": 59,
     "metadata": {},
     "output_type": "execute_result"
    }
   ],
   "source": [
    "sum(py_list)"
   ]
  },
  {
   "cell_type": "markdown",
   "id": "0d4bbc78-8b91-49d8-952b-937d097ba086",
   "metadata": {},
   "source": [
    "E.g. 2:"
   ]
  },
  {
   "cell_type": "code",
   "execution_count": 60,
   "id": "57611a9b-367c-4b96-8f0b-e0b862115b55",
   "metadata": {},
   "outputs": [
    {
     "data": {
      "text/plain": [
       "5"
      ]
     },
     "execution_count": 60,
     "metadata": {},
     "output_type": "execute_result"
    }
   ],
   "source": [
    "max(py_list)"
   ]
  },
  {
   "cell_type": "markdown",
   "id": "d6fe41ff-6589-4a1d-a270-4b1c7a21f07d",
   "metadata": {},
   "source": [
    "E.g. 3:"
   ]
  },
  {
   "cell_type": "code",
   "execution_count": 61,
   "id": "6869f12d-60d4-4281-84e7-10de509a4927",
   "metadata": {},
   "outputs": [
    {
     "data": {
      "text/plain": [
       "1"
      ]
     },
     "execution_count": 61,
     "metadata": {},
     "output_type": "execute_result"
    }
   ],
   "source": [
    "min(py_list)"
   ]
  },
  {
   "cell_type": "markdown",
   "id": "475d646b-49d1-44a3-a245-a96a70050c95",
   "metadata": {},
   "source": [
    "`sum()`, `max()` and `min()` are base Python functions."
   ]
  },
  {
   "cell_type": "markdown",
   "id": "cfdf845f-6dd1-4efe-b8ce-5e58a45a2df6",
   "metadata": {},
   "source": [
    "E.g. 4:"
   ]
  },
  {
   "cell_type": "code",
   "execution_count": 62,
   "id": "2c897581-d4e5-4098-ad3c-1b14a95c168e",
   "metadata": {},
   "outputs": [
    {
     "ename": "AttributeError",
     "evalue": "'list' object has no attribute 'sum'",
     "output_type": "error",
     "traceback": [
      "\u001b[1;31m---------------------------------------------------------------------------\u001b[0m",
      "\u001b[1;31mAttributeError\u001b[0m                            Traceback (most recent call last)",
      "Cell \u001b[1;32mIn[62], line 1\u001b[0m\n\u001b[1;32m----> 1\u001b[0m \u001b[43mpy_list\u001b[49m\u001b[38;5;241;43m.\u001b[39;49m\u001b[43msum\u001b[49m()\n",
      "\u001b[1;31mAttributeError\u001b[0m: 'list' object has no attribute 'sum'"
     ]
    }
   ],
   "source": [
    "py_list.sum()"
   ]
  },
  {
   "cell_type": "markdown",
   "id": "577aac56-f379-4436-b4e2-d500ae663dba",
   "metadata": {},
   "source": [
    "Does not work; limited in carrying out mathematical functions."
   ]
  },
  {
   "cell_type": "markdown",
   "id": "709d0b01-b573-423c-a5ba-443073be5e97",
   "metadata": {},
   "source": [
    "### Arrays:"
   ]
  },
  {
   "cell_type": "markdown",
   "id": "ca36530e-1c78-4d57-8d23-0b387a39799f",
   "metadata": {},
   "source": [
    "E.g. 1:"
   ]
  },
  {
   "cell_type": "code",
   "execution_count": 64,
   "id": "3730d253-85a0-4d1a-b951-91f983340ea8",
   "metadata": {},
   "outputs": [
    {
     "data": {
      "text/plain": [
       "15"
      ]
     },
     "execution_count": 64,
     "metadata": {},
     "output_type": "execute_result"
    }
   ],
   "source": [
    "np_array.sum()"
   ]
  },
  {
   "cell_type": "markdown",
   "id": "0dc78d72-fd66-4935-b45f-70e209ce35f2",
   "metadata": {},
   "source": [
    "E.g. 2:"
   ]
  },
  {
   "cell_type": "code",
   "execution_count": 66,
   "id": "6670c79a-5e75-4733-852d-3c04a7078caa",
   "metadata": {},
   "outputs": [
    {
     "data": {
      "text/plain": [
       "5"
      ]
     },
     "execution_count": 66,
     "metadata": {},
     "output_type": "execute_result"
    }
   ],
   "source": [
    "np_array.max()"
   ]
  },
  {
   "cell_type": "markdown",
   "id": "e2020093-8e7a-47af-b1b4-b47b9a3fc84f",
   "metadata": {},
   "source": [
    "E.g. 3:"
   ]
  },
  {
   "cell_type": "code",
   "execution_count": 67,
   "id": "d75e0a76-0dfc-4f89-b514-08546b89ed73",
   "metadata": {},
   "outputs": [
    {
     "data": {
      "text/plain": [
       "1"
      ]
     },
     "execution_count": 67,
     "metadata": {},
     "output_type": "execute_result"
    }
   ],
   "source": [
    "np_array.min()"
   ]
  },
  {
   "cell_type": "markdown",
   "id": "ef92eb6a-1f1f-48d9-a997-5b9cf27fb79f",
   "metadata": {},
   "source": [
    "E.g. 4:"
   ]
  },
  {
   "cell_type": "code",
   "execution_count": 68,
   "id": "34b32bff-b42e-43ac-abac-d841e2b2570d",
   "metadata": {},
   "outputs": [
    {
     "data": {
      "text/plain": [
       "3.0"
      ]
     },
     "execution_count": 68,
     "metadata": {},
     "output_type": "execute_result"
    }
   ],
   "source": [
    "np_array.mean()"
   ]
  },
  {
   "cell_type": "markdown",
   "id": "246cc905-57d3-4e1f-a037-316bdbd23431",
   "metadata": {},
   "source": [
    "E.g. 5:"
   ]
  },
  {
   "cell_type": "code",
   "execution_count": 69,
   "id": "f08c4e84-1c13-403b-a216-f037baf0aa65",
   "metadata": {},
   "outputs": [
    {
     "data": {
      "text/plain": [
       "1.4142135623730951"
      ]
     },
     "execution_count": 69,
     "metadata": {},
     "output_type": "execute_result"
    }
   ],
   "source": [
    "np_array.std()"
   ]
  },
  {
   "cell_type": "markdown",
   "id": "732404d9-bb70-4753-9eca-90c5eead61fe",
   "metadata": {},
   "source": [
    "Arrays able to carry out a range of mathematical functions."
   ]
  },
  {
   "cell_type": "markdown",
   "id": "e1fbd306-d0f5-43bd-b4d6-b8b2928a56e8",
   "metadata": {},
   "source": [
    "TLDR:\n",
    "- Operation on a list works on the **whole** list.\n",
    "- Operation on an array works on the **individual elements** in the array."
   ]
  },
  {
   "attachments": {},
   "cell_type": "markdown",
   "id": "15a973ad",
   "metadata": {},
   "source": [
    "## Footnotes"
   ]
  }
 ],
 "metadata": {
  "kernelspec": {
   "display_name": "Python 3 (ipykernel)",
   "language": "python",
   "name": "python3"
  },
  "language_info": {
   "codemirror_mode": {
    "name": "ipython",
    "version": 3
   },
   "file_extension": ".py",
   "mimetype": "text/x-python",
   "name": "python",
   "nbconvert_exporter": "python",
   "pygments_lexer": "ipython3",
   "version": "3.11.5"
  },
  "toc": {
   "base_numbering": 1,
   "nav_menu": {},
   "number_sections": true,
   "sideBar": true,
   "skip_h1_title": false,
   "title_cell": "Table of Contents",
   "title_sidebar": "Contents",
   "toc_cell": false,
   "toc_position": {},
   "toc_section_display": true,
   "toc_window_display": false
  },
  "vscode": {
   "interpreter": {
    "hash": "31f2aee4e71d21fbe5cf8b01ff0e069b9275f58929596ceb00d14d90e3e16cd6"
   }
  }
 },
 "nbformat": 4,
 "nbformat_minor": 5
}
