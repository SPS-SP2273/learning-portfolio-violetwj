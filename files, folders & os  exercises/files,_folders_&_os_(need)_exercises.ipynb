{
 "cells": [
  {
   "attachments": {},
   "cell_type": "markdown",
   "id": "123456",
   "metadata": {},
   "source": [
    "<div style=\"text-align:left;font-size:2em\"><span style=\"font-weight:bolder;font-size:1.25em\">SP2273 | Learning Portfolio</span><br><br><span style=\"font-weight:bold;color:darkred\">Files, Folders & OS (Need) Exercises</span></div>"
   ]
  },
  {
   "cell_type": "markdown",
   "id": "814fa386-420e-41e6-a7c9-2a24e040a7f2",
   "metadata": {},
   "source": [
    "# The Scenario"
   ]
  },
  {
   "cell_type": "markdown",
   "id": "12865dbe-c62c-420c-85bc-32bd62ea1a81",
   "metadata": {},
   "source": [
    "10 cities:\n",
    "- Cairo.\n",
    "- Dhaka.\n",
    "- Jakarta.\n",
    "- Karachi.\n",
    "- Manila.\n",
    "- Melbourne.\n",
    "- Osaka.\n",
    "- Shanghai.\n",
    "- Singapore.\n",
    "- Tokyo.\n",
    "\n",
    "Data file formatted as `month-date_city.txt`.\\\n",
    "Incomplete data set: days with missing data.\\\n",
    "Folder contains non-text files as well, such as `.pdf`, `.png`, `.jpg`.\n",
    "\n",
    "**Manually** *extracted* folder from zip file and *added* it into 'files, folders & os exercises' folder.\\\n",
    "**Absolute** path for folder: `C:\\learning-portfolio-violetwj\\files, folders & os  exercises\\os-collaboration-exercise-data`"
   ]
  },
  {
   "cell_type": "markdown",
   "id": "e1e03db1-2d8f-4d59-8625-26b7f5a72faa",
   "metadata": {},
   "source": [
    "# Task 1: Convert filename to numerical format"
   ]
  },
  {
   "cell_type": "markdown",
   "id": "d0bd13ad-ec11-4972-9aca-0cd6e9b91a0a",
   "metadata": {},
   "source": [
    "Convert `month-date_city.txt` to `mm-dd-city.txt`.\\\n",
    "Can make use of dictionary provided.\n",
    "\n",
    "Plan:\\\n",
    "Code somehow must be specific to `.txt`, and be able to exclude all other file types except `.txt`.\\\n",
    "Date is ok, numerical.\\\n",
    "Month is the one that needs to change, currently English.\\\n",
    "Dictionary associates month to number."
   ]
  },
  {
   "cell_type": "code",
   "execution_count": 1,
   "id": "f49167bf-4373-49f9-bb6b-cef1a230b5a6",
   "metadata": {},
   "outputs": [],
   "source": [
    "import os\n",
    "import glob\n",
    "import shutil"
   ]
  },
  {
   "cell_type": "code",
   "execution_count": 9,
   "id": "74076a3e-6107-46e0-8a10-03b4299cdea3",
   "metadata": {},
   "outputs": [],
   "source": [
    "months_mm={'jan':'01','feb':'02','mar':'03',\n",
    "           'apr':'04','may':'05','jun':'06',\n",
    "           'jul':'07','aug':'08','sep':'09',\n",
    "           'oct':'10','nov':'11','dec':'12'\n",
    "          }"
   ]
  },
  {
   "cell_type": "code",
   "execution_count": 81,
   "id": "6521c374-c363-4514-9bb1-109f9fe6dee2",
   "metadata": {},
   "outputs": [
    {
     "name": "stdout",
     "output_type": "stream",
     "text": [
      "10-08-singapore.txt\n"
     ]
    }
   ],
   "source": [
    "filename='oct-08_singapore.txt'\n",
    "\n",
    "# Splits 'oct-08_singapore.txt' into 'oct-08' and 'singapore.txt'.\n",
    "parts=filename.split('_')\n",
    "\n",
    "# Further splits 'oct-08' into 'oct' and '08' and extract each element accordingly.\n",
    "# Further splits 'singapore.txt' into 'singapore' and 'txt', extract only 'singapore'.\n",
    "# Note parts[0] and parts[1] are a result of the initial splitting of filename.\n",
    "month_name,date,city=parts[0].split('-')[0],parts[0].split('-')[1],parts[1].split('.')[0]\n",
    "# print(month_name,date,city)\n",
    "\n",
    "month_numeric=months_mm[month_name]\n",
    "new_filename=f\"{month_numeric}-{date}-{city}.txt\"\n",
    "print(new_filename)"
   ]
  },
  {
   "cell_type": "markdown",
   "id": "641bdd2a-a1a7-4b70-b64b-a3e0e2d61d4c",
   "metadata": {},
   "source": [
    "# Task 2: Incorporate code into function"
   ]
  },
  {
   "cell_type": "code",
   "execution_count": 60,
   "id": "633c720d-4d1a-4c28-8914-3daa024d3e9d",
   "metadata": {},
   "outputs": [],
   "source": [
    "def rename_my_file(old_file_name):\n",
    "    parts=old_file_name.split('_')\n",
    "    month_name,date,city=parts[0].split('-')[0],parts[0].split('-')[1],parts[1].split('.')[0]\n",
    "    month_numeric=months_mm[month_name]\n",
    "    new_file_name=f\"{month_numeric}-{date}-{city}.txt\"\n",
    "    return new_file_name"
   ]
  },
  {
   "cell_type": "code",
   "execution_count": 62,
   "id": "ecf73672-7b9a-4812-808d-f1ea3b330265",
   "metadata": {},
   "outputs": [
    {
     "data": {
      "text/plain": [
       "'10-08-singapore.txt'"
      ]
     },
     "execution_count": 62,
     "metadata": {},
     "output_type": "execute_result"
    }
   ],
   "source": [
    "rename_my_file('oct-08_singapore.txt')"
   ]
  },
  {
   "cell_type": "markdown",
   "id": "10a44a4e-e147-42f8-9a87-294c0fb137b5",
   "metadata": {},
   "source": [
    "# Task 3: Use `for` loop to apply function to file list"
   ]
  },
  {
   "cell_type": "markdown",
   "id": "4e2371d6-3db4-4f45-8d49-125243eaa53a",
   "metadata": {},
   "source": [
    "Final format: `old-file-name ----> new-file-name`."
   ]
  },
  {
   "cell_type": "code",
   "execution_count": 113,
   "id": "964089d1-8541-4caa-8d0c-7123fa130de4",
   "metadata": {},
   "outputs": [
    {
     "name": "stdout",
     "output_type": "stream",
     "text": [
      "oct-08_singapore.txt ----> 10-08-singapore.txt\n",
      "jul-10_cairo.txt ----> 07-10-cairo.txt\n",
      "may-15_dhaka.txt ----> 05-15-dhaka.txt\n",
      "may-13_cairo.txt ----> 05-13-cairo.txt\n",
      "oct-21_cairo.txt ----> 10-21-cairo.txt\n",
      "jan-10_singapore.txt ----> 01-10-singapore.txt\n",
      "jun-20_tokyo.txt ----> 06-20-tokyo.txt\n",
      "aug-06_jakarta.txt ----> 08-06-jakarta.txt\n",
      "dec-21_karachi.txt ----> 12-21-karachi.txt\n",
      "jan-01_tokyo.txt ----> 01-01-tokyo.txt\n"
     ]
    }
   ],
   "source": [
    "file_list=['oct-08_singapore.txt', 'jul-10_cairo.txt', 'may-15_dhaka.txt',\n",
    "           'may-13_cairo.txt', 'oct-21_cairo.txt', 'jan-10_singapore.txt',\n",
    "           'jun-20_tokyo.txt', 'aug-06_jakarta.txt', 'dec-21_karachi.txt',\n",
    "           'jan-01_tokyo.txt']\n",
    "\n",
    "for old_file_name in file_list:\n",
    "    new_file_name = rename_my_file(old_file_name)\n",
    "    print(f'{old_file_name} ----> {new_file_name}')"
   ]
  },
  {
   "cell_type": "markdown",
   "id": "a11580c7-36fc-4c69-8df5-ceafeb6dc791",
   "metadata": {},
   "source": [
    "# Task 4: Rename all `.txt` files in folder"
   ]
  },
  {
   "cell_type": "markdown",
   "id": "acac0507-873e-481a-8710-49440ab2c9c2",
   "metadata": {},
   "source": [
    "Use of `try-except` to bypass files that have been renamed.\\\n",
    "Else, run `rename_my_file()` through zip folder.\\\n",
    "Not sure if need to be selective to only run this through `.txt` or other folders will allow to bypass.\\\n",
    "Might need to change directory to correct folder before execution."
   ]
  },
  {
   "cell_type": "code",
   "execution_count": 105,
   "id": "afb5e415-3385-4dc9-acd9-1becc0031f83",
   "metadata": {},
   "outputs": [
    {
     "data": {
      "text/plain": [
       "'C:\\\\learning-portfolio-violetwj\\\\files, folders & os  exercises'"
      ]
     },
     "execution_count": 105,
     "metadata": {},
     "output_type": "execute_result"
    }
   ],
   "source": [
    "os.getcwd()"
   ]
  },
  {
   "cell_type": "code",
   "execution_count": 106,
   "id": "f24af322-52eb-4837-bd5d-c480454b2eb2",
   "metadata": {},
   "outputs": [
    {
     "name": "stdout",
     "output_type": "stream",
     "text": [
      "C:\\learning-portfolio-violetwj\\files, folders & os  exercises\\os-collaboration-exercise-data\n"
     ]
    }
   ],
   "source": [
    "absolute_path=os.path.abspath('os-collaboration-exercise-data')\n",
    "print(absolute_path)"
   ]
  },
  {
   "cell_type": "code",
   "execution_count": 107,
   "id": "7bc13929-907d-4e1b-9e9b-6f76d506c2c3",
   "metadata": {},
   "outputs": [],
   "source": [
    "os.chdir('C:\\\\learning-portfolio-violetwj\\\\files, folders & os  exercises\\\\os-collaboration-exercise-data')"
   ]
  },
  {
   "cell_type": "code",
   "execution_count": 108,
   "id": "050bb605-0d3e-4e66-979f-e67c4110bf46",
   "metadata": {},
   "outputs": [
    {
     "data": {
      "text/plain": [
       "'C:\\\\learning-portfolio-violetwj\\\\files, folders & os  exercises\\\\os-collaboration-exercise-data'"
      ]
     },
     "execution_count": 108,
     "metadata": {},
     "output_type": "execute_result"
    }
   ],
   "source": [
    "os.getcwd()"
   ]
  },
  {
   "cell_type": "code",
   "execution_count": 114,
   "id": "1dcb9813-afb5-499e-9393-94ef324999e1",
   "metadata": {},
   "outputs": [],
   "source": [
    "files=os.listdir('.')"
   ]
  },
  {
   "cell_type": "code",
   "execution_count": null,
   "id": "e3617e03-9c01-4419-a759-0a916898c66c",
   "metadata": {},
   "outputs": [],
   "source": []
  }
 ],
 "metadata": {
  "kernelspec": {
   "display_name": "Python 3 (ipykernel)",
   "language": "python",
   "name": "python3"
  },
  "language_info": {
   "codemirror_mode": {
    "name": "ipython",
    "version": 3
   },
   "file_extension": ".py",
   "mimetype": "text/x-python",
   "name": "python",
   "nbconvert_exporter": "python",
   "pygments_lexer": "ipython3",
   "version": "3.11.5"
  },
  "toc": {
   "base_numbering": 1,
   "nav_menu": {},
   "number_sections": true,
   "sideBar": true,
   "skip_h1_title": false,
   "title_cell": "Table of Contents",
   "title_sidebar": "Contents",
   "toc_cell": false,
   "toc_position": {},
   "toc_section_display": true,
   "toc_window_display": false
  },
  "vscode": {
   "interpreter": {
    "hash": "31f2aee4e71d21fbe5cf8b01ff0e069b9275f58929596ceb00d14d90e3e16cd6"
   }
  }
 },
 "nbformat": 4,
 "nbformat_minor": 5
}
