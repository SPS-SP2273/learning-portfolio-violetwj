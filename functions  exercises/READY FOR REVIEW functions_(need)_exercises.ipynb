{
 "cells": [
  {
   "attachments": {},
   "cell_type": "markdown",
   "id": "123456",
   "metadata": {},
   "source": [
    "<div style=\"text-align:left;font-size:2em\"><span style=\"font-weight:bolder;font-size:1.25em\">SP2273 | Learning Portfolio</span><br><br><span style=\"font-weight:bold;color:darkred\">Functions (Need) Exercises</span></div>"
   ]
  },
  {
   "cell_type": "markdown",
   "id": "6101dfb9-b690-4fac-8a8f-18931af1b731",
   "metadata": {},
   "source": [
    "# Exercise 1"
   ]
  },
  {
   "cell_type": "code",
   "execution_count": 1,
   "id": "d8230b5e-08e1-438c-bb04-b19cbf8c8daa",
   "metadata": {},
   "outputs": [],
   "source": [
    "def greeting(name):\n",
    "    if name == 'Batman':\n",
    "        return 'Hello Batman! So, nice to meet you!'\n",
    "    return f'Hello {name}!'"
   ]
  },
  {
   "cell_type": "markdown",
   "id": "bcb43acf-023b-46ec-bf2f-7c2baf9775c6",
   "metadata": {},
   "source": [
    "Code works as `if` checks for only a particular condition that meets the function.\\\n",
    "If it does not meet the condition, it would return the argument as stated in `else`. The `return` is like a default `else` if not specified."
   ]
  },
  {
   "cell_type": "markdown",
   "id": "823ef5ba-1355-436d-922f-420c06322957",
   "metadata": {},
   "source": [
    "# Exercise 2"
   ]
  },
  {
   "cell_type": "code",
   "execution_count": 31,
   "id": "46e3949e-82ea-464a-8e9b-393a06b7c377",
   "metadata": {},
   "outputs": [
    {
     "name": "stdout",
     "output_type": "stream",
     "text": [
      "Normal weight\n"
     ]
    }
   ],
   "source": [
    "def calculate_bmi(weight,height):\n",
    "    BMI=weight/(height**2)\n",
    "    if BMI<18.5:\n",
    "        return \"Underweight\"\n",
    "    elif 18.5<=BMI<25:          # Running elif is faster than multiple if's.\n",
    "        return \"Normal weight\"\n",
    "    elif 25<=BMI<30:\n",
    "        return \"Overweight\"\n",
    "    elif BMI>=30:\n",
    "        return \"Obese\"\n",
    "    else:\n",
    "        print(\"Error, weight and height inserted is not a positive value.\")\n",
    "\n",
    "print(calculate_bmi(60,1.6))"
   ]
  },
  {
   "cell_type": "markdown",
   "id": "3b86eaec-6b22-41e5-b601-16f3778c6bbc",
   "metadata": {},
   "source": [
    "# Learning Points:"
   ]
  },
  {
   "cell_type": "code",
   "execution_count": 33,
   "id": "a1d9db97-4cc3-454c-8abb-24499a3e0f42",
   "metadata": {},
   "outputs": [
    {
     "name": "stdout",
     "output_type": "stream",
     "text": [
      "6\n",
      "7\n",
      "5 None None\n"
     ]
    }
   ],
   "source": [
    "def giveno1(n1):\n",
    "    return n1         # Returns '5', but does not show it.\n",
    "def giveno2(n2):\n",
    "    print(n2)         # Does not return '6', but it shows the value is '6'.\n",
    "def giveno3(n3):\n",
    "    return print(n3)  # Gives print version of input, prints '7' but does not return it.\n",
    "\n",
    "x = giveno1(5)\n",
    "y = giveno2(6)\n",
    "z = giveno3(7)\n",
    "\n",
    "print(x, y, z)        # Hence, '6' and '7' is returned as 'None'."
   ]
  }
 ],
 "metadata": {
  "kernelspec": {
   "display_name": "Python 3 (ipykernel)",
   "language": "python",
   "name": "python3"
  },
  "language_info": {
   "codemirror_mode": {
    "name": "ipython",
    "version": 3
   },
   "file_extension": ".py",
   "mimetype": "text/x-python",
   "name": "python",
   "nbconvert_exporter": "python",
   "pygments_lexer": "ipython3",
   "version": "3.11.5"
  },
  "toc": {
   "base_numbering": 1,
   "nav_menu": {},
   "number_sections": true,
   "sideBar": true,
   "skip_h1_title": false,
   "title_cell": "Table of Contents",
   "title_sidebar": "Contents",
   "toc_cell": false,
   "toc_position": {},
   "toc_section_display": true,
   "toc_window_display": false
  },
  "vscode": {
   "interpreter": {
    "hash": "31f2aee4e71d21fbe5cf8b01ff0e069b9275f58929596ceb00d14d90e3e16cd6"
   }
  }
 },
 "nbformat": 4,
 "nbformat_minor": 5
}
