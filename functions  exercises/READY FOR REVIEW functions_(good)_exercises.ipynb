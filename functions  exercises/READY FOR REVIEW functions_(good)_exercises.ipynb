{
 "cells": [
  {
   "attachments": {},
   "cell_type": "markdown",
   "id": "123456",
   "metadata": {},
   "source": [
    "<div style=\"text-align:left;font-size:2em\"><span style=\"font-weight:bolder;font-size:1.25em\">SP2273 | Learning Portfolio</span><br><br><span style=\"font-weight:bold;color:darkred\">Functions (Good) Exercises</span></div>"
   ]
  },
  {
   "cell_type": "markdown",
   "id": "ab0552bf-3feb-4cea-85ba-851abc649a8f",
   "metadata": {},
   "source": [
    "# Exercise 1"
   ]
  },
  {
   "cell_type": "code",
   "execution_count": 114,
   "id": "912a7bfd-e111-4656-b887-1e4edc7e0987",
   "metadata": {},
   "outputs": [
    {
     "data": {
      "text/plain": [
       "'212.0 °F'"
      ]
     },
     "execution_count": 114,
     "metadata": {},
     "output_type": "execute_result"
    }
   ],
   "source": [
    "# Default argument can also be for strings, as pointed out by Yuan Zhe.\n",
    "\n",
    "def convert_celsius(temperature_celsius,target_scale='Fahrenheit'):\n",
    "    temperature_fahrenheit=temperature_celsius*9/5+32\n",
    "    temperature_kelvin=temperature_celsius+273.15\n",
    "    if target_scale == \"Kelvin\":\n",
    "        return f'{temperature_kelvin} K'\n",
    "    else:\n",
    "        return f'{temperature_fahrenheit} \\N{degree sign}F'\n",
    "\n",
    "convert_celsius(100,'Kelvins')"
   ]
  },
  {
   "cell_type": "markdown",
   "id": "806204dd-fce7-4c22-882a-7eb6d8b4e15b",
   "metadata": {},
   "source": [
    "# Exercise 2"
   ]
  },
  {
   "cell_type": "code",
   "execution_count": 115,
   "id": "8c147e31-49f8-47b5-bca7-3dfed9dfccb8",
   "metadata": {},
   "outputs": [
    {
     "data": {
      "text/plain": [
       "'310.92777777777775 K'"
      ]
     },
     "execution_count": 115,
     "metadata": {},
     "output_type": "execute_result"
    }
   ],
   "source": [
    "def convert_fahrenheit(temperature_fahrenheit,target_scale='Celsius'):\n",
    "    temperature_celsius=(temperature_fahrenheit-32)*5/9\n",
    "    temperature_kelvin=temperature_celsius+273.15\n",
    "    if target_scale == \"Kelvin\":\n",
    "        return f'{temperature_kelvin} K'\n",
    "    else:\n",
    "        return f'{temperature_celsius} \\N{degree sign}C'\n",
    "\n",
    "convert_fahrenheit(100,'Kelvin')"
   ]
  },
  {
   "cell_type": "markdown",
   "id": "05848392-1269-4879-ba40-a2f49fe46a1d",
   "metadata": {},
   "source": [
    "# Exercise 3"
   ]
  },
  {
   "cell_type": "code",
   "execution_count": 116,
   "id": "37562b9e-9b3a-486d-a97c-285c7b37970b",
   "metadata": {},
   "outputs": [
    {
     "data": {
      "text/plain": [
       "'226.85000000000002 °C'"
      ]
     },
     "execution_count": 116,
     "metadata": {},
     "output_type": "execute_result"
    }
   ],
   "source": [
    "def convert_kelvin(temperature_kelvin,target_scale='Celsius'):\n",
    "    temperature_celsius=temperature_kelvin-273.15\n",
    "    temperature_fahrenheit=temperature_celsius*9/5+32\n",
    "    if target_scale == \"Fahrenheit\":\n",
    "        return f'{temperature_fahrenheit} \\N{degree sign}F'\n",
    "    else:\n",
    "        return f'{temperature_celsius} \\N{degree sign}C'\n",
    "\n",
    "convert_kelvin(500,'Celsius')"
   ]
  },
  {
   "cell_type": "code",
   "execution_count": 129,
   "id": "d3688cbd-73aa-4252-a109-691c7276bcd2",
   "metadata": {},
   "outputs": [
    {
     "data": {
      "text/plain": [
       "'100 K'"
      ]
     },
     "execution_count": 129,
     "metadata": {},
     "output_type": "execute_result"
    }
   ],
   "source": [
    "def convert_temperature(temperature,source_scale,target_scale):\n",
    "    if source_scale == target_scale:\n",
    "        if target_scale == \"Celsius\":\n",
    "            return f'{temperature} \\N{degree sign}C'\n",
    "        elif target_scale == \"Fahrenheit\":\n",
    "            return f'{temperature} \\N{degree sign}F'\n",
    "        elif target_scale == \"Kelvin\":\n",
    "            return f'{temperature} K'\n",
    "\n",
    "# Need not end 'if-elif' chain with 'els'e; 'elif' is 'else-if'.\n",
    "# Cannot associate conditions to 'else'.\n",
    "# If need to associate conditions to 'else', use 'elif' or 'else-if'.\n",
    "\n",
    "    elif source_scale == \"Celsius\":\n",
    "        return convert_celsius(temperature,target_scale)\n",
    "    elif source_scale == \"Fahrenheit\":\n",
    "        return convert_fahrenheit(temperature,target_scale)\n",
    "    else:\n",
    "        return convert_kelvin(temperature,target_scale)\n",
    "\n",
    "convert_temperature(100,'Kelvin','Kelvin')"
   ]
  }
 ],
 "metadata": {
  "kernelspec": {
   "display_name": "Python 3 (ipykernel)",
   "language": "python",
   "name": "python3"
  },
  "language_info": {
   "codemirror_mode": {
    "name": "ipython",
    "version": 3
   },
   "file_extension": ".py",
   "mimetype": "text/x-python",
   "name": "python",
   "nbconvert_exporter": "python",
   "pygments_lexer": "ipython3",
   "version": "3.11.5"
  },
  "toc": {
   "base_numbering": 1,
   "nav_menu": {},
   "number_sections": true,
   "sideBar": true,
   "skip_h1_title": false,
   "title_cell": "Table of Contents",
   "title_sidebar": "Contents",
   "toc_cell": false,
   "toc_position": {},
   "toc_section_display": true,
   "toc_window_display": false
  },
  "vscode": {
   "interpreter": {
    "hash": "31f2aee4e71d21fbe5cf8b01ff0e069b9275f58929596ceb00d14d90e3e16cd6"
   }
  }
 },
 "nbformat": 4,
 "nbformat_minor": 5
}
